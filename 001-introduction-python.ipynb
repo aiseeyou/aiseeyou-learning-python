{
 "cells": [
  {
   "cell_type": "markdown",
   "id": "845806e5f5df75ed",
   "metadata": {
    "collapsed": false,
    "jupyter": {
     "outputs_hidden": false
    }
   },
   "source": [
    "# Python"
   ]
  },
  {
   "cell_type": "markdown",
   "id": "d09165df-18df-43e5-91fd-0d6fd7dc16ea",
   "metadata": {},
   "source": [
    "<center><img height=\"100\" src=\"image/Python_logo_and_wordmark.svg.png\" width=\"200\"/></center>"
   ]
  },
  {
   "cell_type": "markdown",
   "id": "d3b1cf23b3a19c48",
   "metadata": {
    "collapsed": false,
    "jupyter": {
     "outputs_hidden": false
    }
   },
   "source": [
    "Python adalah bahasa pemrograman tujuan umum yang ditafsirkan, tingkat tinggi. Dibuat oleh Guido van Rossum dan pertama kali dirilis pada tahun 1991, filosofi desain Python menekankan keterbacaan kode dengan penggunaan spasi putih yang signifikan. Konstruksi bahasanya dan pendekatan berorientasi objek bertujuan untuk membantu pemrogram menulis kode yang jelas dan logis untuk proyek skala kecil dan besar.[27]"
   ]
  },
  {
   "cell_type": "markdown",
   "id": "709f3c06-c47d-468b-9757-4a2df46a73cc",
   "metadata": {
    "collapsed": false,
    "jupyter": {
     "outputs_hidden": false
    }
   },
   "source": [
    "## Instalasi Python"
   ]
  },
  {
   "cell_type": "markdown",
   "id": "d04f47ad-8abe-4f8b-8d00-4a1c87856776",
   "metadata": {},
   "source": [
    "1. Unduh instalasi pyhton pada https://www.python.org/downloads/windows/\n",
    "2. Pilih versi python yang akan digunakan (e.g 3.9.xx) \n",
    "3. Pada OS Windows unduh file instalasi windows installer sesuai tipe windows apakah 64bit (x64) atau 32bit (x86)\n",
    "   <center><img height=\"400\" src=\"image/python-web.jpg\" width=\"800\"/></center>\n",
    "4. Setelah file berhasil diunduh silahkan dibuka lalu ikuti petunjuk penginstalan pada file tersebut sesuai kebutuhan.\n",
    "5. Pada pengguna windows Jangan lupa untuk mengaktifkan ‘Add python.exe to path’ agar perintah python dikenali pada CMD (Command Prompt)."
   ]
  },
  {
   "cell_type": "markdown",
   "id": "c7bcb1ef-0140-43f1-af69-ab690b08a102",
   "metadata": {},
   "source": [
    "## Dasar Python"
   ]
  },
  {
   "cell_type": "markdown",
   "id": "fcf83622-f0fc-49a8-a29d-e4b4d9c1f376",
   "metadata": {},
   "source": [
    "### 1. Print Statement"
   ]
  },
  {
   "cell_type": "code",
   "execution_count": 74,
   "id": "6eca7386-dfab-47e1-89c1-fe3fa518caf7",
   "metadata": {},
   "outputs": [
    {
     "name": "stdout",
     "output_type": "stream",
     "text": [
      "hellow world\n"
     ]
    }
   ],
   "source": [
    "print('hellow world') #ini adalah print statement"
   ]
  },
  {
   "cell_type": "markdown",
   "id": "1f87993b-6466-4071-853b-c4d7e3222cf3",
   "metadata": {},
   "source": [
    "### 2. Comment"
   ]
  },
  {
   "cell_type": "code",
   "execution_count": 75,
   "id": "00c801ee-2db3-45db-a510-d749f54cb65f",
   "metadata": {},
   "outputs": [],
   "source": [
    "# ini adalah contoh komentar pada bahasa pemograman python\n",
    "# comment digunakan untuk memberikan catatan pada bagian fungsi tertentu"
   ]
  },
  {
   "cell_type": "markdown",
   "id": "20804352-5ed9-44a6-b07b-5f2995961a12",
   "metadata": {},
   "source": [
    "### 3. Tipe Data Pada Python"
   ]
  },
  {
   "cell_type": "markdown",
   "id": "a633577c-5ff2-454b-b7ce-08cc1442d21d",
   "metadata": {},
   "source": [
    "<center><img height=\"400\" src=\"image/tipe-data-python.jpg\" width=\"800\"/></center>\n",
    "<a href=\"https://www.w3schools.com/python/python_datatypes.asp\">source</a>"
   ]
  },
  {
   "cell_type": "code",
   "execution_count": 76,
   "id": "e2ed7e0a-d834-4f90-b731-0a95bf19da4a",
   "metadata": {},
   "outputs": [
    {
     "name": "stdout",
     "output_type": "stream",
     "text": [
      "<class 'int'>\n"
     ]
    }
   ],
   "source": [
    "# mendapatkan tipe data\n",
    "print(type(5))"
   ]
  },
  {
   "cell_type": "code",
   "execution_count": 77,
   "id": "548fdeee",
   "metadata": {},
   "outputs": [
    {
     "name": "stdout",
     "output_type": "stream",
     "text": [
      "<class 'list'>\n"
     ]
    }
   ],
   "source": [
    "a = [2,1,3]\n",
    "print(type(a))"
   ]
  },
  {
   "cell_type": "code",
   "execution_count": 78,
   "id": "4a63a3fe-2a62-4dad-8c72-4c96411094ad",
   "metadata": {},
   "outputs": [
    {
     "name": "stdout",
     "output_type": "stream",
     "text": [
      "<class 'str'>\n"
     ]
    }
   ],
   "source": [
    "print(type('a'))"
   ]
  },
  {
   "cell_type": "code",
   "execution_count": 79,
   "id": "40c6f540-966f-4c6a-bb02-a2d967ddd8ae",
   "metadata": {},
   "outputs": [
    {
     "name": "stdout",
     "output_type": "stream",
     "text": [
      "<class 'float'>\n"
     ]
    }
   ],
   "source": [
    "print(type(5.3))"
   ]
  },
  {
   "cell_type": "code",
   "execution_count": 80,
   "id": "6f0e743c-8737-46f2-9a25-fd0d0b5c6b51",
   "metadata": {},
   "outputs": [
    {
     "name": "stdout",
     "output_type": "stream",
     "text": [
      "<class 'list'>\n"
     ]
    }
   ],
   "source": [
    "print(type([1,2,3]))"
   ]
  },
  {
   "cell_type": "code",
   "execution_count": 81,
   "id": "bc82200f",
   "metadata": {},
   "outputs": [
    {
     "name": "stdout",
     "output_type": "stream",
     "text": [
      "1\n"
     ]
    }
   ],
   "source": [
    "a = [1,2,3]\n",
    "print(a[0])"
   ]
  },
  {
   "cell_type": "code",
   "execution_count": 82,
   "id": "38a234ed-e2d5-49df-a34a-cc18c4df2e6a",
   "metadata": {},
   "outputs": [
    {
     "name": "stdout",
     "output_type": "stream",
     "text": [
      "<class 'tuple'>\n"
     ]
    }
   ],
   "source": [
    "print(type((1,2,3)))"
   ]
  },
  {
   "cell_type": "code",
   "execution_count": 83,
   "id": "572e28da-d7b5-46e9-9801-f78faf96213a",
   "metadata": {},
   "outputs": [
    {
     "name": "stdout",
     "output_type": "stream",
     "text": [
      "<class 'dict'>\n"
     ]
    }
   ],
   "source": [
    "print(type({'a':5}))"
   ]
  },
  {
   "cell_type": "code",
   "execution_count": 84,
   "id": "e93bbd5c",
   "metadata": {},
   "outputs": [
    {
     "name": "stdout",
     "output_type": "stream",
     "text": [
      "10\n"
     ]
    }
   ],
   "source": [
    "b = {\"c\":10,\"a\":0}\n",
    "print(b['c'])"
   ]
  },
  {
   "cell_type": "markdown",
   "id": "26335dc4-8199-4d65-b554-c3850ac0ee10",
   "metadata": {},
   "source": [
    "### 4. Operasi String"
   ]
  },
  {
   "cell_type": "markdown",
   "id": "4a2407c2-04fe-4039-a2fb-5140770e958a",
   "metadata": {},
   "source": [
    "Strings in python are surrounded by either single quotation marks, or double quotation marks.\n",
    "\n",
    "'hello' is the same as \"hello\".\n",
    "\n",
    "You can display a string literal with the print() function:\n",
    "\n",
    "<a href=\"https://www.w3schools.com/python/python_strings.asp\">source</a>"
   ]
  },
  {
   "cell_type": "code",
   "execution_count": 85,
   "id": "a72b495d-12cd-4cc8-80ca-de48ae0e3aed",
   "metadata": {},
   "outputs": [
    {
     "name": "stdout",
     "output_type": "stream",
     "text": [
      "Hello\n",
      "hello\n"
     ]
    }
   ],
   "source": [
    "# untuk memunculkan string kita bisa menggunakan print statement\n",
    "print(\"Hello\")\n",
    "print('hello')"
   ]
  },
  {
   "cell_type": "code",
   "execution_count": 86,
   "id": "4453f0a5-53d3-4726-909b-78348094a314",
   "metadata": {},
   "outputs": [
    {
     "name": "stdout",
     "output_type": "stream",
     "text": [
      "hello\n"
     ]
    }
   ],
   "source": [
    "# Memasukan string pada variabel\n",
    "a = \"hello\"\n",
    "print(a)"
   ]
  },
  {
   "cell_type": "code",
   "execution_count": 87,
   "id": "92af5fb5-9ba6-40fe-83e6-365771643820",
   "metadata": {},
   "outputs": [
    {
     "name": "stdout",
     "output_type": "stream",
     "text": [
      "\n",
      "Lorem ipsum dolor sit amet,\n",
      "consectetur adipiscing elit,\n",
      "sed do eiusmod tempor incididunt\n",
      "ut labore et dolore magna aliqua.\n",
      "\n"
     ]
    }
   ],
   "source": [
    "# Multiline string\n",
    "multiline_string = '''\n",
    "Lorem ipsum dolor sit amet,\n",
    "consectetur adipiscing elit,\n",
    "sed do eiusmod tempor incididunt\n",
    "ut labore et dolore magna aliqua.\n",
    "'''\n",
    "print(multiline_string)"
   ]
  },
  {
   "cell_type": "code",
   "execution_count": 88,
   "id": "56fcb5b2-29bd-4808-894d-78890aac7312",
   "metadata": {},
   "outputs": [
    {
     "name": "stdout",
     "output_type": "stream",
     "text": [
      "o\n"
     ]
    }
   ],
   "source": [
    "# String Adalah Array\n",
    "print(multiline_string[2])"
   ]
  },
  {
   "cell_type": "code",
   "execution_count": 89,
   "id": "aa14e4a1-5655-4689-9c2a-5aca52a49649",
   "metadata": {
    "scrolled": true
   },
   "outputs": [
    {
     "name": "stdout",
     "output_type": "stream",
     "text": [
      "\n",
      "\n",
      "L\n",
      "o\n",
      "r\n",
      "e\n",
      "m\n",
      " \n",
      "i\n",
      "p\n",
      "s\n",
      "u\n",
      "m\n",
      " \n",
      "d\n",
      "o\n",
      "l\n",
      "o\n",
      "r\n",
      " \n",
      "s\n",
      "i\n",
      "t\n",
      " \n",
      "a\n",
      "m\n",
      "e\n",
      "t\n",
      ",\n",
      "\n",
      "\n",
      "c\n",
      "o\n",
      "n\n",
      "s\n",
      "e\n",
      "c\n",
      "t\n",
      "e\n",
      "t\n",
      "u\n",
      "r\n",
      " \n",
      "a\n",
      "d\n",
      "i\n",
      "p\n",
      "i\n",
      "s\n",
      "c\n",
      "i\n",
      "n\n",
      "g\n",
      " \n",
      "e\n",
      "l\n",
      "i\n",
      "t\n",
      ",\n",
      "\n",
      "\n",
      "s\n",
      "e\n",
      "d\n",
      " \n",
      "d\n",
      "o\n",
      " \n",
      "e\n",
      "i\n",
      "u\n",
      "s\n",
      "m\n",
      "o\n",
      "d\n",
      " \n",
      "t\n",
      "e\n",
      "m\n",
      "p\n",
      "o\n",
      "r\n",
      " \n",
      "i\n",
      "n\n",
      "c\n",
      "i\n",
      "d\n",
      "i\n",
      "d\n",
      "u\n",
      "n\n",
      "t\n",
      "\n",
      "\n",
      "u\n",
      "t\n",
      " \n",
      "l\n",
      "a\n",
      "b\n",
      "o\n",
      "r\n",
      "e\n",
      " \n",
      "e\n",
      "t\n",
      " \n",
      "d\n",
      "o\n",
      "l\n",
      "o\n",
      "r\n",
      "e\n",
      " \n",
      "m\n",
      "a\n",
      "g\n",
      "n\n",
      "a\n",
      " \n",
      "a\n",
      "l\n",
      "i\n",
      "q\n",
      "u\n",
      "a\n",
      ".\n",
      "\n",
      "\n"
     ]
    }
   ],
   "source": [
    "# Looping pada array\n",
    "for i in multiline_string:\n",
    "    print(i)"
   ]
  },
  {
   "cell_type": "code",
   "execution_count": 90,
   "id": "0b556d9e-750a-4118-b4e1-c9cf142ab2c5",
   "metadata": {},
   "outputs": [
    {
     "name": "stdout",
     "output_type": "stream",
     "text": [
      "125\n"
     ]
    }
   ],
   "source": [
    "# panjang string\n",
    "print(len(multiline_string))"
   ]
  },
  {
   "cell_type": "code",
   "execution_count": 91,
   "id": "49381503-0f11-4b54-b844-6e7a9335b0f9",
   "metadata": {},
   "outputs": [
    {
     "name": "stdout",
     "output_type": "stream",
     "text": [
      "True\n",
      "False\n"
     ]
    }
   ],
   "source": [
    "# check string ada didalam variabel string\n",
    "print('Lorem' in multiline_string)\n",
    "print('cek' in multiline_string)"
   ]
  },
  {
   "cell_type": "markdown",
   "id": "77472dba-0841-4b03-9af3-74c3a796750a",
   "metadata": {},
   "source": [
    "### 5. Simple Input Output I/O"
   ]
  },
  {
   "cell_type": "code",
   "execution_count": 92,
   "id": "3bb273b5-5037-4479-9e9d-e9e65356d92b",
   "metadata": {},
   "outputs": [
    {
     "name": "stdout",
     "output_type": "stream",
     "text": [
      "hello world\n",
      "var hello world\n",
      "The value of x is 5 and y is 10\n"
     ]
    }
   ],
   "source": [
    "# output bisa menggunakan print statement\n",
    "print(\"hello world\")\n",
    "a = \"var hello world\"\n",
    "print(a)\n",
    "x = 5\n",
    "y = 10\n",
    "print('The value of x is {} and y is {}'.format(x,y))"
   ]
  },
  {
   "cell_type": "markdown",
   "id": "fa6b3a70-3f37-4e7c-aeca-ff7e8997778b",
   "metadata": {},
   "source": [
    "While programming, we might want to take the input from the user. In Python, we can use the input() function. <a href=\"https://www.programiz.com/python-programming/input-output-import\">source</a>"
   ]
  },
  {
   "cell_type": "code",
   "execution_count": 93,
   "id": "879bf58d-3f6d-499b-8544-acd7afc0f6f5",
   "metadata": {},
   "outputs": [
    {
     "name": "stdout",
     "output_type": "stream",
     "text": [
      "You Entered: 5\n",
      "Data type of num: <class 'str'>\n"
     ]
    }
   ],
   "source": [
    "# using input() to take user input\n",
    "num = input('Enter a number: ')\n",
    "\n",
    "print('You Entered:', num)\n",
    "\n",
    "print('Data type of num:', type(num))"
   ]
  },
  {
   "cell_type": "markdown",
   "id": "8e0e2d8c-3e70-40fd-9433-4a616260ad44",
   "metadata": {},
   "source": [
    "### 6. Operator pada python"
   ]
  },
  {
   "cell_type": "markdown",
   "id": "954b04c7-1158-42a0-95e0-3f8a6d6f5de4",
   "metadata": {},
   "source": [
    "Operators are used to perform operations on variables and values. <a href=\"https://www.w3schools.com/python/python_operators.asp\">source</a>\n",
    "\n",
    "Python divides the operators in the following groups:\n",
    "\n",
    "1. Arithmetic operators\n",
    "2. Assignment operators\n",
    "3. Comparison operators\n",
    "4. Logical operators\n",
    "5. Identity operators\n",
    "6. Membership operators\n",
    "7. Bitwise operators"
   ]
  },
  {
   "cell_type": "markdown",
   "id": "86ad3c14-3270-4e7b-b55a-856d98c08343",
   "metadata": {},
   "source": [
    "#### Arithmetic Operators\n",
    " <center><img height=\"400\" src=\"image/aritmatik-operator-python.jpg\" width=\"800\"/></center>"
   ]
  },
  {
   "cell_type": "code",
   "execution_count": null,
   "id": "14e9f112",
   "metadata": {},
   "outputs": [],
   "source": []
  },
  {
   "cell_type": "code",
   "execution_count": 94,
   "id": "6a04f8b2",
   "metadata": {},
   "outputs": [
    {
     "name": "stdout",
     "output_type": "stream",
     "text": [
      "Arithmatmatic result is 12\n",
      "12\n",
      "12\n"
     ]
    }
   ],
   "source": [
    "# Arithmatic Operation\n",
    "a = 5\n",
    "b = 7\n",
    "print('Arithmatmatic result is {}'.format(a+b))\n",
    "\n",
    "a1 = 5\n",
    "a2 = 7\n",
    "print(a1+a2)\n",
    "\n",
    "a3 = 10\n",
    "print(a3+2)"
   ]
  },
  {
   "cell_type": "markdown",
   "id": "4cf24984-9306-4692-ba11-2b5edae7b300",
   "metadata": {},
   "source": [
    "#### Assignment Operators\n",
    " <center><img height=\"400\" src=\"image/assignment-operator-python.jpg\" width=\"800\"/></center>"
   ]
  },
  {
   "cell_type": "code",
   "execution_count": 95,
   "id": "89d90e16",
   "metadata": {},
   "outputs": [
    {
     "name": "stdout",
     "output_type": "stream",
     "text": [
      "5\n",
      "8\n",
      "5\n",
      "10\n"
     ]
    }
   ],
   "source": [
    "x =5\n",
    "print(x)\n",
    "x+=3\n",
    "print(x)\n",
    "x-=3\n",
    "print(x)\n",
    "x<<=1\n",
    "print(x)"
   ]
  },
  {
   "cell_type": "markdown",
   "id": "c6184569-6b7c-4a95-959b-45a0fc104d18",
   "metadata": {},
   "source": [
    "#### Comparison Operators\n",
    " <center><img height=\"400\" src=\"image/comparison-operator-python.jpg\" width=\"800\"/></center>"
   ]
  },
  {
   "cell_type": "code",
   "execution_count": 96,
   "id": "7c1cb87e",
   "metadata": {},
   "outputs": [
    {
     "name": "stdout",
     "output_type": "stream",
     "text": [
      "True\n"
     ]
    }
   ],
   "source": [
    "a = 5\n",
    "b = 7\n",
    "print(a!=b)"
   ]
  },
  {
   "cell_type": "markdown",
   "id": "803b5c68-b4ec-40bd-be74-fc7851e74a05",
   "metadata": {},
   "source": [
    "#### Logical Operators\n",
    " <center><img height=\"400\" src=\"image/logical-operator-python.jpg\" width=\"800\"/></center>"
   ]
  },
  {
   "cell_type": "code",
   "execution_count": 113,
   "id": "e926d872",
   "metadata": {},
   "outputs": [],
   "source": [
    "\n",
    "a = 4\n",
    "if (a >= 5 and a <= 7):\n",
    "    print(\"ada\")\n"
   ]
  },
  {
   "cell_type": "code",
   "execution_count": null,
   "id": "3d56d346",
   "metadata": {},
   "outputs": [],
   "source": []
  },
  {
   "cell_type": "markdown",
   "id": "0ba9c5a5-1884-4fad-aa96-53f1cd4e4917",
   "metadata": {},
   "source": [
    "#### Identity Operators\n",
    " <center><img height=\"400\" src=\"image/identity-operator-python.jpg\" width=\"800\"/></center>"
   ]
  },
  {
   "cell_type": "code",
   "execution_count": 117,
   "id": "49b4d626",
   "metadata": {},
   "outputs": [
    {
     "name": "stdout",
     "output_type": "stream",
     "text": [
      "True\n",
      "5\n"
     ]
    }
   ],
   "source": [
    "a = 5\n",
    "b = 5\n",
    "\n",
    "print(a is b)\n",
    "if(a is b):\n",
    "    print(b)"
   ]
  },
  {
   "cell_type": "markdown",
   "id": "0b7bac7b-1589-4764-a78b-6441d80de93e",
   "metadata": {},
   "source": [
    "#### Membership Operators\n",
    " <center><img height=\"400\" src=\"image/memebership-operator-python.jpg\" width=\"800\"/></center>"
   ]
  },
  {
   "cell_type": "markdown",
   "id": "97ce5335-5497-432d-8629-b0531c504479",
   "metadata": {},
   "source": [
    "#### Bitwise Operators\n",
    " <center><img height=\"400\" src=\"image/bitwise-operator-python.jpg\" width=\"800\"/></center>"
   ]
  },
  {
   "cell_type": "markdown",
   "id": "8eec1ea1-2dff-41f2-9b2d-8df9f74b402b",
   "metadata": {},
   "source": [
    "#### Predence Operators\n",
    " <center><img height=\"400\" src=\"image/precedence-operator-python.jpg\" width=\"800\"/></center>"
   ]
  },
  {
   "cell_type": "markdown",
   "id": "9263722b-379a-49ac-90ea-a02f7f9ce88b",
   "metadata": {},
   "source": [
    "### 7. Environment Python"
   ]
  },
  {
   "cell_type": "markdown",
   "id": "ab6bb781-59d6-4ba9-a8a8-834944fd3723",
   "metadata": {},
   "source": [
    "Apa itu Python Virtual Environment atau Virtualvenv?\n",
    "Python Virtual Environment atau sering disebut juga dengan Python virtualvenv adalah alat yang membantu programmer membuat dan mengelola environment terpisah untuk setiap proyek Python.\n",
    "\n",
    "Alat ini memungkinkan kita mengisolasi dependensi proyek Python sendiri-sendiri dan memastikan tidak ada konflik antara versi library atau package yang berbeda.\n",
    "\n",
    "Dengan kata lain, Virtual Environment adalah cara untuk menjaga dependensi yang dibutuhkan oleh proyek-proyek Python yang berbeda dalam ruang terpisah. Misalnya, jika proyek A memerlukan versi 1 dari library X dan proyek B memerlukan versi 2 dari library yang sama, Virtual Environment dapat membuat dua environment terisolasi dengan versi library berbeda. <a href=\"https://revou.co/panduan-teknis/python-virtual-environment\">source</a>"
   ]
  },
  {
   "cell_type": "markdown",
   "id": "77f96646-d89d-4971-b72f-87fc61ff1981",
   "metadata": {},
   "source": [
    "**Instalasi virtualenv dengan pip**\n",
    "\n",
    "`pip install virtualenv`\n",
    "\n",
    "**Membuat folder environment untuk menyimpan dependency**\n",
    "\n",
    "`virtualenv .venv`\n",
    "\n",
    "**Mengaktifkan virtualenv**\n",
    "\n",
    "`.venv/bin/activate`\n",
    "\n",
    "<center><img height=\"400\" src=\"image/env-terminal.jpg\" width=\"800\"/></center>"
   ]
  },
  {
   "cell_type": "code",
   "execution_count": null,
   "id": "5c04bd8c-2a46-4a81-a162-edefba2b0b90",
   "metadata": {},
   "outputs": [],
   "source": []
  }
 ],
 "metadata": {
  "kernelspec": {
   "display_name": "Python 3 (ipykernel)",
   "language": "python",
   "name": "python3"
  },
  "language_info": {
   "codemirror_mode": {
    "name": "ipython",
    "version": 3
   },
   "file_extension": ".py",
   "mimetype": "text/x-python",
   "name": "python",
   "nbconvert_exporter": "python",
   "pygments_lexer": "ipython3",
   "version": "3.9.7"
  }
 },
 "nbformat": 4,
 "nbformat_minor": 5
}
