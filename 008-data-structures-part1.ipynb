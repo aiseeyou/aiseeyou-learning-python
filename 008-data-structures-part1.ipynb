{
 "cells": [
  {
   "cell_type": "markdown",
   "id": "75ff3ebb79d82854",
   "metadata": {},
   "source": [
    "# Python Data Structures - Part 1\n",
    "\n",
    "<center><img height=\"400\" src=\"image/pythondatastructuresmin.png\" width=\"700\"/></center>\n",
    "\n",
    "Struktur Data adalah cara mengatur data sehingga dapat diakses dengan lebih efisien tergantung pada situasinya. Struktur Data adalah dasar dari bahasa pemrograman apa pun yang digunakan untuk membuat program"
   ]
  },
  {
   "cell_type": "markdown",
   "id": "c30c792a4c858ac3",
   "metadata": {},
   "source": [
    "# 1. List\n",
    "\n",
    "List pada python mirip seperti array pada bahasa pemograman lain, dimana list adalah tumpukan koleksi data yang berurutan. List sangat flexible sehingga type data pada list tidak dibatasi dengan satu jenis type data.\n",
    "\n",
    "Implementasi List pada python mirip dengan vektor pada bahasa C atau ArrayList di Java. Dimana Cost yang besar terjadi ketika kita penyisipan atau menghapus data di awal list, karena tempat setiap element data lain yang disimpan perlu digeser. \n",
    "\n",
    "Penyisipan dan delete data diakhir bisa juga memakan cost yang besar saat memori yang dialokasikan sebelumnnya sudah penuh."
   ]
  },
  {
   "cell_type": "code",
   "id": "164da74fc47206cd",
   "metadata": {
    "ExecuteTime": {
     "end_time": "2024-06-25T06:41:02.960237Z",
     "start_time": "2024-06-25T06:41:02.949223Z"
    }
   },
   "source": [
    "List = [1, 2,  3, \"GFG\", 2.3]\n",
    "print(List)"
   ],
   "outputs": [
    {
     "name": "stdout",
     "output_type": "stream",
     "text": [
      "[1, 2, 3, 'GFG', 2.3]\n"
     ]
    }
   ],
   "execution_count": 5
  },
  {
   "metadata": {},
   "cell_type": "code",
   "outputs": [],
   "execution_count": null,
   "source": "List2 = [1, 2,  3, \"GFG\", 2.3,4]",
   "id": "2d13c89f65f28c3a"
  },
  {
   "metadata": {
    "ExecuteTime": {
     "end_time": "2024-06-25T06:41:03.515687Z",
     "start_time": "2024-06-25T06:41:03.498954Z"
    }
   },
   "cell_type": "code",
   "source": [
    "List.append(4)\n",
    "List"
   ],
   "id": "9389bbc1469789e",
   "outputs": [
    {
     "data": {
      "text/plain": [
       "[1, 2, 3, 'GFG', 2.3, 4]"
      ]
     },
     "execution_count": 6,
     "metadata": {},
     "output_type": "execute_result"
    }
   ],
   "execution_count": 6
  },
  {
   "metadata": {
    "ExecuteTime": {
     "end_time": "2024-06-25T06:46:45.953405Z",
     "start_time": "2024-06-25T06:46:45.944530Z"
    }
   },
   "cell_type": "code",
   "source": [
    "for el in List:\n",
    "    print(el)"
   ],
   "id": "ac5786ce000db09a",
   "outputs": [
    {
     "name": "stdout",
     "output_type": "stream",
     "text": [
      "1\n",
      "2\n",
      "3\n",
      "GFG\n",
      "2.3\n",
      "4\n"
     ]
    }
   ],
   "execution_count": 9
  },
  {
   "cell_type": "markdown",
   "id": "18744885570af2b7",
   "metadata": {},
   "source": [
    "Element data pada list dapat diakses berdasarkan indexnya. Jika jumlah data didefinisikan sebagai n, dan 0 adalah nilai awal sebagai index element yang bisa diakses, maka maximum index yang bisa diakses adalah n-1 element data.\n",
    "\n",
    "\n",
    "\n",
    "<center><img height=\"400\" src=\"image/List-Slicing.jpg\" width=\"700\"/></center>\n"
   ]
  },
  {
   "cell_type": "code",
   "id": "ea83e7342c552dfb",
   "metadata": {
    "ExecuteTime": {
     "end_time": "2024-06-25T06:47:47.972138Z",
     "start_time": "2024-06-25T06:47:47.964933Z"
    }
   },
   "source": [
    "# Creating a List with \n",
    "# the use of multiple values \n",
    "List = [\"Geeks\", \"For\", \"Geeks\"] \n",
    "print(\"\\nList containing multiple values: \") \n",
    "print(List)\n",
    " \n",
    "# Creating a Multi-Dimensional List \n",
    "# (By Nesting a list inside a List) \n",
    "List2 = [['Geeks', 'For'], ['Geeks']] \n",
    "print(\"\\nMulti-Dimensional List: \") \n",
    "print(List2) \n",
    " \n",
    "# accessing a element from the  \n",
    "# list using index number \n",
    "print(\"Accessing element from the list\") \n",
    "print(List[0])  \n",
    "print(List[2]) \n",
    " \n",
    "# accessing a element using \n",
    "# negative indexing \n",
    "print(\"Accessing element using negative indexing\") \n",
    "     \n",
    "# print the last element of list \n",
    "print(List[-1]) \n",
    "     \n",
    "# print the third last element of list  \n",
    "print(List[-3])"
   ],
   "outputs": [
    {
     "name": "stdout",
     "output_type": "stream",
     "text": [
      "\n",
      "List containing multiple values: \n",
      "['Geeks', 'For', 'Geeks']\n",
      "\n",
      "Multi-Dimensional List: \n",
      "[['Geeks', 'For'], ['Geeks']]\n",
      "Accessing element from the list\n",
      "Geeks\n",
      "Geeks\n",
      "Accessing element using negative indexing\n",
      "Geeks\n",
      "Geeks\n"
     ]
    }
   ],
   "execution_count": 10
  },
  {
   "cell_type": "markdown",
   "id": "d4359eaf503b20d5",
   "metadata": {},
   "source": [
    "# 2. Dictionary\n",
    "\n",
    "Dictionary di python serupa dengan hash tables di bahasa pemograman lain dengan time complexity O(1). Dictionary merupakan tumpukan koleksi data tidak berurutan, penyimpanan data pada dictionary dilakukan dengan mapping terhadap key yang berupa string dan bersifat unik, key ini nantinya akan digunakan sebagai index untuk mengakses value yang ada didalam dictionary. \n",
    "\n",
    "kita dapat membuat dictionary dengan kurung kurawal ({})"
   ]
  },
  {
   "metadata": {
    "ExecuteTime": {
     "end_time": "2024-06-25T06:50:11.172709Z",
     "start_time": "2024-06-25T06:50:11.156480Z"
    }
   },
   "cell_type": "code",
   "source": [
    "dict_list = {0:'aku',1:'dia'}\n",
    "for key, value in dict_list.items():\n",
    "    print(key,value)"
   ],
   "id": "ce54154b3aa0b55f",
   "outputs": [
    {
     "name": "stdout",
     "output_type": "stream",
     "text": [
      "0 aku\n",
      "1 dia\n"
     ]
    }
   ],
   "execution_count": 13
  },
  {
   "cell_type": "code",
   "execution_count": 4,
   "id": "14827b54059b7610",
   "metadata": {
    "ExecuteTime": {
     "end_time": "2024-04-17T07:50:15.249377Z",
     "start_time": "2024-04-17T07:50:15.209504Z"
    }
   },
   "outputs": [
    {
     "name": "stdout",
     "output_type": "stream",
     "text": [
      "Creating Dictionary: \n",
      "{'Name': 'Geeks', 1: [1, 2, 3, 4]}\n",
      "Accessing a element using key:\n",
      "Geeks\n",
      "Accessing a element using get:\n",
      "[1, 2, 3, 4]\n",
      "{1: 1, 2: 4, 3: 9, 4: 16, 5: 25}\n"
     ]
    }
   ],
   "source": [
    "# Creating a Dictionary\n",
    "Dict = {'Name': 'Geeks', 1: [1, 2, 3, 4]}\n",
    "print(\"Creating Dictionary: \")\n",
    "print(Dict)\n",
    " \n",
    "# accessing a element using key \n",
    "print(\"Accessing a element using key:\") \n",
    "print(Dict['Name']) \n",
    " \n",
    "# accessing a element using get() \n",
    "# method \n",
    "print(\"Accessing a element using get:\") \n",
    "print(Dict.get(1)) \n",
    " \n",
    "# creation using Dictionary comprehension\n",
    "myDict = {x: x**2 for x in [1,2,3,4,5]}\n",
    "print(myDict)"
   ]
  },
  {
   "cell_type": "markdown",
   "id": "5ea849490fc434db",
   "metadata": {},
   "source": [
    "# 3. Tuple\n",
    "\n",
    "Tuple pada python adalah kumpulan objek python seperti list tetapi pada tuple bersifat immutable sehingga tuple tidak bisa ditambah atau pun di delete saat tuple tersebut dibuat. Seperti list tuple juga bisa berisi element dengan berbagai macam tipe.\n",
    "\n",
    "\n",
    "Note: Tuple bisa berissi sebuah element, namun membuat hal tersebut sedikit tricky karena memiliki sebuah element untuk tuple memerlukan pemisah `comma` sehinggal bisa disebut tuple."
   ]
  },
  {
   "metadata": {},
   "cell_type": "code",
   "outputs": [],
   "execution_count": null,
   "source": "",
   "id": "e3de5f89a56b4956"
  },
  {
   "cell_type": "code",
   "id": "916250b33e0c4e",
   "metadata": {
    "ExecuteTime": {
     "end_time": "2024-06-25T06:53:30.224006Z",
     "start_time": "2024-06-25T06:53:30.215042Z"
    }
   },
   "source": [
    "# Creating a Tuple with\n",
    "# the use of Strings\n",
    "Tuple = ('Geeks', 'For')\n",
    "print(\"\\nTuple with the use of String: \")\n",
    "print(Tuple)\n",
    "     \n",
    "# Creating a Tuple with\n",
    "# the use of list\n",
    "list1 = [1, 2, 4, 5, 6]\n",
    "print(\"\\nTuple using List: \")\n",
    "Tuple = tuple(list1)\n",
    " \n",
    "# Accessing element using indexing\n",
    "print(\"First element of tuple\")\n",
    "print(Tuple[0])\n",
    " \n",
    "# Accessing element from last\n",
    "# negative indexing\n",
    "print(\"\\nLast element of tuple\")\n",
    "print(Tuple[-1])\n",
    "   \n",
    "print(\"\\nThird last element of tuple\")\n",
    "print(Tuple[-3])"
   ],
   "outputs": [
    {
     "name": "stdout",
     "output_type": "stream",
     "text": [
      "\n",
      "Tuple with the use of String: \n",
      "('Geeks', 'For')\n",
      "\n",
      "Tuple using List: \n",
      "First element of tuple\n",
      "1\n",
      "\n",
      "Last element of tuple\n",
      "6\n",
      "\n",
      "Third last element of tuple\n",
      "4\n"
     ]
    }
   ],
   "execution_count": 15
  },
  {
   "metadata": {
    "ExecuteTime": {
     "end_time": "2024-06-25T06:53:45.520677Z",
     "start_time": "2024-06-25T06:53:45.504428Z"
    }
   },
   "cell_type": "code",
   "source": [
    "for el in Tuple:\n",
    "    print(el)"
   ],
   "id": "6c6396d99fa7bd4",
   "outputs": [
    {
     "name": "stdout",
     "output_type": "stream",
     "text": [
      "1\n",
      "2\n",
      "4\n",
      "5\n",
      "6\n"
     ]
    }
   ],
   "execution_count": 16
  },
  {
   "metadata": {
    "ExecuteTime": {
     "end_time": "2024-06-25T06:54:18.990036Z",
     "start_time": "2024-06-25T06:54:18.959739Z"
    }
   },
   "cell_type": "code",
   "source": "Tuple[10]=5",
   "id": "f83cd9888947578f",
   "outputs": [
    {
     "ename": "TypeError",
     "evalue": "'tuple' object does not support item assignment",
     "output_type": "error",
     "traceback": [
      "\u001B[1;31m---------------------------------------------------------------------------\u001B[0m",
      "\u001B[1;31mTypeError\u001B[0m                                 Traceback (most recent call last)",
      "Cell \u001B[1;32mIn[18], line 1\u001B[0m\n\u001B[1;32m----> 1\u001B[0m \u001B[43mTuple\u001B[49m\u001B[43m[\u001B[49m\u001B[38;5;241;43m10\u001B[39;49m\u001B[43m]\u001B[49m\u001B[38;5;241m=\u001B[39m\u001B[38;5;241m5\u001B[39m\n",
      "\u001B[1;31mTypeError\u001B[0m: 'tuple' object does not support item assignment"
     ]
    }
   ],
   "execution_count": 18
  },
  {
   "cell_type": "markdown",
   "id": "3d8e5acb66063098",
   "metadata": {},
   "source": [
    "# 4. Set\n",
    "\n",
    "Set pada Python merupakan tumpukan koleksi data yang tidak berurutan serta bersifat mutable namun tidak memperbolehkan adanya element yang duplicate. Ketika memasukan member baru Set akan melakukan pengujian apakah member tersebut duplicate atau tidak, jka duplicate maka member tersebut akan dieliminasi. Struktur data yang digunakan adalah hashing, sebuah teknik yang populer dengan performa penyisipan, penghapusan dan pembacaan dengan complexity O(1) secara rata-rata. \n",
    "\n",
    "Jika banyak nilai yang tersedia pada posisi index yang sama, maka nilai akan di tambahkan pada posisi index tersebut, sehingga akan membentuk Linked List. Didalam CPython Sets sebenarnya di implementasi menggunakan dictionar dengan dummy variable, dimana key merupakan member dari Set sehingga time complexity-nya menjadi optimal.\n",
    "\n",
    "## Set Implementations\n",
    "\n",
    "<center><img height=\"350\" src=\"image/HashTable.png\" width=\"700\"/></center>\n",
    "\n",
    "## Sets with Numerous operations on a single HashTable:\n",
    "<center><img height=\"350\" src=\"image/Hasing-Python.png\" width=\"700\"/></center>\n",
    "\n"
   ]
  },
  {
   "metadata": {
    "ExecuteTime": {
     "end_time": "2024-06-25T06:58:34.775961Z",
     "start_time": "2024-06-25T06:58:34.764900Z"
    }
   },
   "cell_type": "code",
   "source": [
    "Set = {1,2,3,4,5,6,7,8,9}\n",
    "Dict = {9:9}\n",
    "Dict = {'Greek':'Greek'}\n",
    "Set.add(9)\n",
    "print(Set)\n",
    "Set.add(10)\n",
    "print(Set)"
   ],
   "id": "bc6b06620562837",
   "outputs": [
    {
     "name": "stdout",
     "output_type": "stream",
     "text": [
      "{1, 2, 3, 4, 5, 6, 7, 8, 9}\n",
      "{1, 2, 3, 4, 5, 6, 7, 8, 9, 10}\n"
     ]
    }
   ],
   "execution_count": 24
  },
  {
   "cell_type": "code",
   "execution_count": 7,
   "id": "a0c58e50c105cc7f",
   "metadata": {
    "ExecuteTime": {
     "end_time": "2024-04-17T08:18:43.919197Z",
     "start_time": "2024-04-17T08:18:43.908693Z"
    }
   },
   "outputs": [
    {
     "name": "stdout",
     "output_type": "stream",
     "text": [
      "\n",
      "Set with the use of Mixed Values\n",
      "{1, 2, 4, 'For', 6, 'Geeks'}\n",
      "\n",
      "Elements of set: \n",
      "1 2 4 For 6 Geeks \n",
      "True\n"
     ]
    }
   ],
   "source": [
    "# Creating a Set with  \n",
    "# a mixed type of values \n",
    "# (Having numbers and strings) \n",
    "Set = {1, 2, 'Geeks', 4, 'For', 6, 'Geeks'} \n",
    "print(\"\\nSet with the use of Mixed Values\") \n",
    "print(Set) \n",
    " \n",
    "# Accessing element using \n",
    "# for loop \n",
    "print(\"\\nElements of set: \") \n",
    "for i in Set: \n",
    "    print(i, end =\" \") \n",
    "print()\n",
    " \n",
    "# Checking the element \n",
    "# using in keyword \n",
    "print(\"Geeks\" in Set)"
   ]
  },
  {
   "cell_type": "markdown",
   "id": "90b96ac3e1a29682",
   "metadata": {},
   "source": []
  },
  {
   "cell_type": "code",
   "execution_count": null,
   "id": "eabb36d68cd54641",
   "metadata": {},
   "outputs": [],
   "source": []
  }
 ],
 "metadata": {
  "kernelspec": {
   "display_name": "Python 3 (ipykernel)",
   "language": "python",
   "name": "python3"
  },
  "language_info": {
   "codemirror_mode": {
    "name": "ipython",
    "version": 3
   },
   "file_extension": ".py",
   "mimetype": "text/x-python",
   "name": "python",
   "nbconvert_exporter": "python",
   "pygments_lexer": "ipython3",
   "version": "3.9.7"
  }
 },
 "nbformat": 4,
 "nbformat_minor": 5
}
