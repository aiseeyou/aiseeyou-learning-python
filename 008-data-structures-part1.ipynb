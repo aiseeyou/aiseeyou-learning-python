{
 "cells": [
  {
   "metadata": {},
   "cell_type": "markdown",
   "source": [
    "# Python Data Structures - Part 1\n",
    "\n",
    "<center><img height=\"400\" src=\"image/pythondatastructuresmin.png\" width=\"700\"/></center>\n",
    "\n",
    "Struktur Data adalah cara mengatur data sehingga dapat diakses dengan lebih efisien tergantung pada situasinya. Struktur Data adalah dasar dari bahasa pemrograman apa pun yang digunakan untuk membuat program"
   ],
   "id": "75ff3ebb79d82854"
  },
  {
   "metadata": {},
   "cell_type": "markdown",
   "source": [
    "# 1. List\n",
    "\n",
    "List pada python mirip seperti array pada bahasa pemograman lain, dimana list adalah tumpukan koleksi data yang berurutan. List sangat flexible sehingga type data pada list tidak dibatasi dengan satu jenis type data.\n",
    "\n",
    "Implementasi List pada python mirip dengan vektor pada bahasa C atau ArrayList di Java. Dimana Cost yang besar terjadi ketika kita penyisipan atau menghapus data di awal list, karena tempat setiap element data lain yang disimpan perlu digeser. \n",
    "\n",
    "Penyisipan dan delete data diakhir bisa juga memakan cost yang besar saat memori yang dialokasikan sebelumnnya sudah penuh."
   ],
   "id": "c30c792a4c858ac3"
  },
  {
   "metadata": {
    "ExecuteTime": {
     "end_time": "2024-04-17T05:19:41.853126Z",
     "start_time": "2024-04-17T05:19:41.843020Z"
    }
   },
   "cell_type": "code",
   "source": [
    "List = [1, 2,  3, \"GFG\", 2.3]\n",
    "print(List)"
   ],
   "id": "164da74fc47206cd",
   "outputs": [
    {
     "name": "stdout",
     "output_type": "stream",
     "text": [
      "[1, 2, 3, 'GFG', 2.3]\n"
     ]
    }
   ],
   "execution_count": 2
  },
  {
   "metadata": {},
   "cell_type": "markdown",
   "source": [
    "Element data pada list dapat diakses berdasarkan indexnya. Jika jumlah data didefinisikan sebagai n, dan 0 adalah nilai awal sebagai index element yang bisa diakses, maka maximum index yang bisa diakses adalah n-1 element data.\n",
    "\n",
    "\n",
    "\n",
    "<center><img height=\"400\" src=\"image/List-Slicing.jpg\" width=\"700\"/></center>\n"
   ],
   "id": "18744885570af2b7"
  },
  {
   "metadata": {
    "ExecuteTime": {
     "end_time": "2024-04-17T05:24:09.131395Z",
     "start_time": "2024-04-17T05:24:09.117918Z"
    }
   },
   "cell_type": "code",
   "source": [
    "# Creating a List with \n",
    "# the use of multiple values \n",
    "List = [\"Geeks\", \"For\", \"Geeks\"] \n",
    "print(\"\\nList containing multiple values: \") \n",
    "print(List)\n",
    " \n",
    "# Creating a Multi-Dimensional List \n",
    "# (By Nesting a list inside a List) \n",
    "List2 = [['Geeks', 'For'], ['Geeks']] \n",
    "print(\"\\nMulti-Dimensional List: \") \n",
    "print(List2) \n",
    " \n",
    "# accessing a element from the  \n",
    "# list using index number \n",
    "print(\"Accessing element from the list\") \n",
    "print(List[0])  \n",
    "print(List[2]) \n",
    " \n",
    "# accessing a element using \n",
    "# negative indexing \n",
    "print(\"Accessing element using negative indexing\") \n",
    "     \n",
    "# print the last element of list \n",
    "print(List[-1]) \n",
    "     \n",
    "# print the third last element of list  \n",
    "print(List[-3])"
   ],
   "id": "ea83e7342c552dfb",
   "outputs": [
    {
     "name": "stdout",
     "output_type": "stream",
     "text": [
      "\n",
      "List containing multiple values: \n",
      "['Geeks', 'For', 'Geeks']\n",
      "\n",
      "Multi-Dimensional List: \n",
      "[['Geeks', 'For'], ['Geeks']]\n",
      "Accessing element from the list\n",
      "Geeks\n",
      "Geeks\n",
      "Accessing element using negative indexing\n",
      "Geeks\n",
      "Geeks\n"
     ]
    }
   ],
   "execution_count": 3
  },
  {
   "metadata": {},
   "cell_type": "markdown",
   "source": [
    "# 2. Dictionary\n",
    "\n",
    "Dictionary di python serupa dengan hash tables di bahasa pemograman lain dengan time complexity O(1). Dictionary merupakan tumpukan koleksi data tidak berurutan, penyimpanan data pada dictionary dilakukan dengan mapping terhadap key yang berupa string dan bersifat unik, key ini nantinya akan digunakan sebagai index untuk mengakses value yang ada didalam dictionary. \n",
    "\n",
    "kita dapat membuat dictionary dengan kurung kurawal ({})"
   ],
   "id": "d4359eaf503b20d5"
  },
  {
   "metadata": {
    "ExecuteTime": {
     "end_time": "2024-04-17T07:50:15.249377Z",
     "start_time": "2024-04-17T07:50:15.209504Z"
    }
   },
   "cell_type": "code",
   "source": [
    "# Creating a Dictionary\n",
    "Dict = {'Name': 'Geeks', 1: [1, 2, 3, 4]}\n",
    "print(\"Creating Dictionary: \")\n",
    "print(Dict)\n",
    " \n",
    "# accessing a element using key \n",
    "print(\"Accessing a element using key:\") \n",
    "print(Dict['Name']) \n",
    " \n",
    "# accessing a element using get() \n",
    "# method \n",
    "print(\"Accessing a element using get:\") \n",
    "print(Dict.get(1)) \n",
    " \n",
    "# creation using Dictionary comprehension\n",
    "myDict = {x: x**2 for x in [1,2,3,4,5]}\n",
    "print(myDict)"
   ],
   "id": "14827b54059b7610",
   "outputs": [
    {
     "name": "stdout",
     "output_type": "stream",
     "text": [
      "Creating Dictionary: \n",
      "{'Name': 'Geeks', 1: [1, 2, 3, 4]}\n",
      "Accessing a element using key:\n",
      "Geeks\n",
      "Accessing a element using get:\n",
      "[1, 2, 3, 4]\n",
      "{1: 1, 2: 4, 3: 9, 4: 16, 5: 25}\n"
     ]
    }
   ],
   "execution_count": 4
  },
  {
   "metadata": {},
   "cell_type": "markdown",
   "source": [
    "# 3. Tuple\n",
    "\n",
    "Tuple pada python adalah kumpulan objek python seperti list tetapi pada tuple bersifat immutable sehingga tuple tidak bisa ditambah atau pun di delete saat tuple tersebut dibuat. Seperti list tuple juga bisa berisi element dengan berbagai macam tipe.\n",
    "\n",
    "\n",
    "Note: Tuple bisa berissi sebuah element, namun membuat hal tersebut sedikit tricky karena memiliki sebuah element untuk tuple memerlukan pemisah `comma` sehinggal bisa disebut tuple."
   ],
   "id": "5ea849490fc434db"
  },
  {
   "metadata": {
    "ExecuteTime": {
     "end_time": "2024-04-17T08:00:36.847590Z",
     "start_time": "2024-04-17T08:00:36.834306Z"
    }
   },
   "cell_type": "code",
   "source": [
    "# Creating a Tuple with\n",
    "# the use of Strings\n",
    "Tuple = ('Geeks', 'For')\n",
    "print(\"\\nTuple with the use of String: \")\n",
    "print(Tuple)\n",
    "     \n",
    "# Creating a Tuple with\n",
    "# the use of list\n",
    "list1 = [1, 2, 4, 5, 6]\n",
    "print(\"\\nTuple using List: \")\n",
    "Tuple = tuple(list1)\n",
    " \n",
    "# Accessing element using indexing\n",
    "print(\"First element of tuple\")\n",
    "print(Tuple[0])\n",
    " \n",
    "# Accessing element from last\n",
    "# negative indexing\n",
    "print(\"\\nLast element of tuple\")\n",
    "print(Tuple[-1])\n",
    "   \n",
    "print(\"\\nThird last element of tuple\")\n",
    "print(Tuple[-3])"
   ],
   "id": "916250b33e0c4e",
   "outputs": [
    {
     "name": "stdout",
     "output_type": "stream",
     "text": [
      "\n",
      "Tuple with the use of String: \n",
      "('Geeks', 'For')\n",
      "\n",
      "Tuple using List: \n",
      "First element of tuple\n",
      "1\n",
      "\n",
      "Last element of tuple\n",
      "6\n",
      "\n",
      "Third last element of tuple\n",
      "4\n"
     ]
    }
   ],
   "execution_count": 5
  },
  {
   "metadata": {},
   "cell_type": "markdown",
   "source": [
    "# 4. Set\n",
    "\n",
    "Set pada Python merupakan tumpukan koleksi data yang tidak berurutan serta bersifat mutable namun tidak memperbolehkan adanya element yang duplicate. Ketika memasukan member baru Set akan melakukan pengujian apakah member tersebut duplicate atau tidak, jka duplicate maka member tersebut akan dieliminasi. Struktur data yang digunakan adalah hashing, sebuah teknik yang populer dengan performa penyisipan, penghapusan dan pembacaan dengan complexity O(1) secara rata-rata. \n",
    "\n",
    "Jika banyak nilai yang tersedia pada posisi index yang sama, maka nilai akan di tambahkan pada posisi index tersebut, sehingga akan membentuk Linked List. Didalam CPython Sets sebenarnya di implementasi menggunakan dictionar dengan dummy variable, dimana key merupakan member dari Set sehingga time complexity-nya menjadi optimal.\n",
    "\n",
    "## Set Implementations\n",
    "\n",
    "<center><img height=\"350\" src=\"image/HashTable.png\" width=\"700\"/></center>\n",
    "\n",
    "## Sets with Numerous operations on a single HashTable:\n",
    "<center><img height=\"350\" src=\"image/Hasing-Python.png\" width=\"700\"/></center>\n",
    "\n"
   ],
   "id": "3d8e5acb66063098"
  },
  {
   "metadata": {
    "ExecuteTime": {
     "end_time": "2024-04-17T08:18:43.919197Z",
     "start_time": "2024-04-17T08:18:43.908693Z"
    }
   },
   "cell_type": "code",
   "source": [
    "# Creating a Set with  \n",
    "# a mixed type of values \n",
    "# (Having numbers and strings) \n",
    "Set = {1, 2, 'Geeks', 4, 'For', 6, 'Geeks'} \n",
    "print(\"\\nSet with the use of Mixed Values\") \n",
    "print(Set) \n",
    " \n",
    "# Accessing element using \n",
    "# for loop \n",
    "print(\"\\nElements of set: \") \n",
    "for i in Set: \n",
    "    print(i, end =\" \") \n",
    "print()\n",
    " \n",
    "# Checking the element \n",
    "# using in keyword \n",
    "print(\"Geeks\" in Set)"
   ],
   "id": "a0c58e50c105cc7f",
   "outputs": [
    {
     "name": "stdout",
     "output_type": "stream",
     "text": [
      "\n",
      "Set with the use of Mixed Values\n",
      "{1, 2, 4, 'For', 6, 'Geeks'}\n",
      "\n",
      "Elements of set: \n",
      "1 2 4 For 6 Geeks \n",
      "True\n"
     ]
    }
   ],
   "execution_count": 7
  },
  {
   "metadata": {},
   "cell_type": "markdown",
   "source": "",
   "id": "90b96ac3e1a29682"
  },
  {
   "metadata": {},
   "cell_type": "code",
   "outputs": [],
   "execution_count": null,
   "source": "",
   "id": "eabb36d68cd54641"
  }
 ],
 "metadata": {
  "kernelspec": {
   "display_name": "Python 3",
   "language": "python",
   "name": "python3"
  },
  "language_info": {
   "codemirror_mode": {
    "name": "ipython",
    "version": 2
   },
   "file_extension": ".py",
   "mimetype": "text/x-python",
   "name": "python",
   "nbconvert_exporter": "python",
   "pygments_lexer": "ipython2",
   "version": "2.7.6"
  }
 },
 "nbformat": 4,
 "nbformat_minor": 5
}
