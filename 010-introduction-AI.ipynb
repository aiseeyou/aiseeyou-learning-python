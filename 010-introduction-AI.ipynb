{
 "cells": [
  {
   "cell_type": "markdown",
   "id": "41cad0dc75c1295f",
   "metadata": {},
   "source": [
    "# Introduction Deep Learning  \n",
    "Di era kecerdasan buatan (Artificial Intelligent) yang berkembang pesat, Deep Learning berdiri sebagai teknologi landasan, merevolusi cara mesin memahami, mempelajari, dan berinteraksi dengan data yang kompleks. Pada intinya, Deep Learning AI meniru jaringan saraf rumit di otak manusia, memungkinkan komputer menemukan pola secara mandiri dan mengambil keputusan dari sejumlah besar data tidak terstruktur. Bidang transformatif ini telah mendorong terobosan di berbagai bidang, mulai dari computer vision dan natural language processing hingga diagnosa layanan kesehatan dan mengemudi secara otonom.\n"
   ]
  },
  {
   "cell_type": "markdown",
   "id": "4ec2d7a29f6d762a",
   "metadata": {},
   "source": [
    "# Perbedaan AI, ML dan DL\n",
    "\n",
    "https://www.geeksforgeeks.org/difference-between-artificial-intelligence-vs-machine-learning-vs-deep-learning/\n",
    "## Artificial Intelligent (AI)\n",
    "\n",
    "AI pada dasarnya adalah suatu mekanisme untuk memasukan kecerdasan manusia kedalam mesin dengan seperangkat aturan (alghortima). Artificial Intelligent terdiri dari 2 kata yakni arificial (buatan manusia) dan intelegent (kemampuan memahami dan berfikir yang sesuai).\n",
    "\n",
    "AI berfokus pada 3 aspek utama (keterampilan): pembelajaran, penalaran, dan perbaikan diri untuk memperoleh efisiensi semaksimal mungkin.\n",
    "\n",
    "## Machine Learning\n",
    "\n",
    "Machine Learning pada dasarnya adalah studi / proses yang membuat system (computer) untuk mampu belajar secara otomatis dengan pengalaman yang dimilikinya dan meningkatkan kemampuannya tanpa di program secara explisit. ML merupakan sub bagian dari AI dimana ML berfokus pada pengembangan program sehingga mampu mengakses data untuk digunakan sendiri. Dengan data yang dapat diakses ML memungkinkan untuk melakukan observasi dan mengidentifikasi kemungkinan pola yang ada agar dapat melakukan pengambilan keputusan yang lebih baik dimasa depan sesuai dari data sample yang diberikan. Tujuan utama ML adalah agar system mampu belajar sendiri dari pengalaman tanpa campur tangan dan bantuan manusia apapun.\n",
    " \n",
    "## Deep Learning\n",
    "Deep Learning (DL) pada dasarnya merupakan sub bagian dari ML dimana DL menggunakan Neural Networks (Mirip dengan neuron yang bekerja pada otak manusia) untuk meniru perilaku dari otak manusia. Algoritma DL fokus pada mekanisme proses pengolahan informasi untuk mengidentifikasi pola seperti yang dilakukan pada otak manusia dan mengklasifikasikan informasi sesuai dengan pola tersebut. DL bekerja pada data yang lebih besar dibanding dengan Alghoritma ML lain dan mekanisme prediksinya dikelola oleh mesin itu sendiri.\n",
    "\n",
    "<center><img height=\"400\" src=\"image/010-sub ai.jpg\" width=\"650\"/></center>"
   ]
  },
  {
   "cell_type": "markdown",
   "id": "2f9d78d52e3a8a35",
   "metadata": {},
   "source": [
    "## Tabel Perbedaan AI x ML x DL\n",
    "\n",
    "| Artificial Intelligence | Machine Learning | Deep Learning |\n",
    "| --- | --- | --- |\n",
    "| AI stands for Artificial Intelligence, and is basically the study/process which enables machines to mimic human behaviour through particular algorithm. | ML stands for Machine Learning, and is the study that uses statistical methods enabling machines to improve with experience. | DL stands for Deep Learning, and is the study that makes use of Neural Networks(similar to neurons present in human brain) to imitate functionality just like a human brain. |\n",
    "| AI is the broader family consisting of ML and DL as it's components. | ML is the subset of AI. | DL is the subset of ML. |\n",
    "| AI is a computer algorithm which exhibits intelligence through decision making. | ML is an AI algorithm which allows system to learn from data. | DL is a ML algorithm that uses deep(more than one layer) neural networks to analyze data and provide output accordingly. |\n",
    "| Search Trees and much complex math is involved in AI. | If you have a clear idea about the logic(math) involved in behind and you can visualize the complex functionalities like K-Mean, Support Vector Machines, etc., then it defines the ML aspect. | If you are clear about the math involved in it but don't have idea about the features, so you break the complex functionalities into linear/lower dimension features by adding more layers, then it defines the DL aspect. |\n",
    "| The aim is to basically increase chances of success and not accuracy. | The aim is to increase accuracy not caring much about the success ratio. | It attains the highest rank in terms of accuracy when it is trained with large amount of data. |\n",
    "| Three broad categories/types Of AI are: Artificial Narrow Intelligence (ANI), Artificial General Intelligence (AGI) and Artificial Super Intelligence (ASI) | Three broad categories/types Of ML are: Supervised Learning, Unsupervised Learning and Reinforcement Learning | DL can be considered as neural networks with a large number of parameters layers lying in one of the four fundamental network architectures: Unsupervised Pre-trained Networks, Convolutional Neural Networks, Recurrent Neural Networks and Recursive Neural Networks |\n",
    "| The efficiency Of AI is basically the efficiency provided by ML and DL respectively. | Less efficient than DL as it can't work for longer dimensions or higher amount of data. | More powerful than ML as it can easily work for larger sets of data. |\n",
    "| Examples of AI applications include: Google's AI-Powered Predictions, Ridesharing Apps Like Uber and Lyft, Commercial Flights Use an AI Autopilot, etc. | Examples of ML applications include: Virtual Personal Assistants: Siri, Alexa, Google, etc., Email Spam and Malware Filtering. | Examples of DL applications include: Sentiment based news aggregation, Image analysis and caption generation, etc. |\n",
    "| AI refers to the broad field of computer science that focuses on creating intelligent machines that can perform tasks that would normally require human intelligence, such as reasoning, perception, and decision-making. | ML is a subset of AI that focuses on developing algorithms that can learn from data and improve their performance over time without being explicitly programmed.  | DL is a subset of ML that focuses on developing deep neural networks that can automatically learn and extract features from data. |\n",
    "| AI can be further broken down into various subfields such as robotics, natural language processing, computer vision, expert systems, and more. | ML algorithms can be categorized as supervised, unsupervised, or reinforcement learning. In supervised learning, the algorithm is trained on labeled data, where the desired output is known. In unsupervised learning, the algorithm is trained on unlabeled data, where the desired output is unknown. |  DL algorithms are inspired by the structure and function of the human brain, and they are particularly well-suited to tasks such as image and speech recognition.  |\n",
    "| AI systems can be rule-based, knowledge-based, or data-driven. | In reinforcement learning, the algorithm learns by trial and error, receiving feedback in the form of rewards or punishments. |  DL networks consist of multiple layers of interconnected neurons that process data in a hierarchical manner, allowing them to learn increasingly complex representations of the data. |"
   ]
  },
  {
   "cell_type": "markdown",
   "id": "d6ab955f665cd757",
   "metadata": {},
   "source": [
    "# What Is Deep Learning?\n",
    "\n",
    "Definisi Deep Learning adalah cabang machine learning yang didasarkan pada arsitektur artificial neural network (ANN). ANN menggunakan lapisan node yang saling berhubungan yang disebut neuron yang bekerja sama untuk memproses dan belajar dari data yang diberikan.\n",
    "\n",
    "Dalam Deep Neural Network (DNN) yang terhubung sepenuhnya, terdapat lapisan masukan (input layer) dan satu atau lebih lapisan tersembunyi (hidden layer) yang terhubung satu demi satu (Fully Connected). Setiap neuron menerima masukan dari neuron lapisan sebelumnya atau lapisan masukan. Keluaran suatu neuron menjadi masukan bagi neuron lain pada lapisan jaringan berikutnya, dan proses ini berlanjut hingga lapisan terakhir menghasilkan keluaran jaringan. Lapisan jaringan saraf mengubah data masukan melalui serangkaian transformasi nonlinier, memungkinkan jaringan mempelajari representasi kompleks dari data masukan.\n",
    "\n",
    "Saat ini Deep Learning AI telah menjadi salah satu bidang ML yang paling populer dan terlihat, karena keberhasilannya dalam berbagai aplikasi, seperti computer vision, NLP, dan Reinforcement Learning (RL).\n",
    "\n",
    "Deep Learning AI dapat digunakan untuk pembelajaran mesin yang supervised, unsupervised dab juga reinforcement machine learning. "
   ]
  },
  {
   "cell_type": "markdown",
   "id": "bf0057f231e647af",
   "metadata": {},
   "source": [
    "## Supervised Machine Learning\n",
    "Supervised Machine Learning adalah teknik ML di mana NN belajar membuat prediksi atau mengklasifikasikan data berdasarkan kumpulan data yang diberi label. Di sini kita memasukkan kedua fitur masukan beserta variabel targetnya. NN belajar membuat prediksi berdasarkan biaya atau kesalahan yang timbul dari perbedaan antara target yang diprediksi dan target sebenarnya, proses ini dikenal dengan istilah backpropagation. Algoritme DL seperti Convolutional Neural Network (CNN), Reccurent Neural Network (RNN) digunakan untuk banyak tugas yang supervised seperti klasifikasi dan pengenalan gambar, analisis sentimen, terjemahan bahasa, dll.\n",
    "## Unsupervised Machine Learning\n",
    " Unsupervised Machine Learning adalah teknik Ml di mana NN belajar menemukan pola atau mengelompokkan kumpulan data berdasarkan kumpulan data yang tidak berlabel. Di sini tidak ada variabel target. sementara mesin harus menentukan sendiri pola atau hubungan tersembunyi dalam kumpulan data. Algoritme pembelajaran mendalam seperti autoencoder dan model generatif digunakan untuk tugas tanpa pengawasan seperti pengelompokan, pengurangan dimensi, dan deteksi anomali.\n",
    "## Reinforcement  Machine Learning\n",
    " Reinforcement Machine Learning adalah teknik ML di mana agen belajar membuat keputusan dalam lingkungan untuk memaksimalkan sinyal imbalan. Agen berinteraksi dengan lingkungan dengan mengambil tindakan dan mengamati imbalan yang dihasilkan. DL dapat digunakan untuk mempelajari kebijakan, atau serangkaian tindakan, yang memaksimalkan imbalan kumulatif dari waktu ke waktu. Algoritme Deep Reinforcement Learning (DRL) seperti Deep Neural Q Learning dan Deep Deterministic Policy Gradient (DDPG) digunakan untuk memperkuat tugas-tugas seperti robotika dan bermain game, dll."
   ]
  },
  {
   "metadata": {},
   "cell_type": "markdown",
   "source": [
    "What is Clustering ?\n",
    "--------------------\n",
    "\n",
    "The task of grouping data points based on their similarity with each other is called Clustering or Cluster Analysis. This method is defined under the branch of [Unsupervised Learning](https://www.geeksforgeeks.org/supervised-unsupervised-learning/), which aims at gaining insights from unlabelled data points, that is, unlike [supervised learning](https://www.geeksforgeeks.org/supervised-unsupervised-learning/) we don't have a target variable. \n",
    "\n",
    "Clustering aims at forming groups of homogeneous data points from a heterogeneous dataset. It evaluates the similarity based on a metric like Euclidean distance, Cosine similarity, Manhattan distance, etc. and then group the points with highest similarity score together.\n",
    "\n",
    "For Example, In the graph given below, we can clearly see that there are 3 circular clusters forming on the basis of distance.\n",
    "\n",
    "![Clustering in Machine Learning](https://media.geeksforgeeks.org/wp-content/uploads/merge3cluster.jpg)\n",
    "\n",
    "Now it is not necessary that the clusters formed must be circular in shape. The shape of clusters can be arbitrary. There are many algortihms that work well with detecting arbitrary shaped clusters. \n",
    "\n",
    "For example, In the below given graph we can see that the clusters formed are not circular in shape.\n",
    "\n",
    "![Arbitrary shaped clusters identified by Clustering analysis](https://media.geeksforgeeks.org/wp-content/uploads/clusteringg.jpg)"
   ],
   "id": "e527a828fbecd6a0"
  },
  {
   "cell_type": "markdown",
   "id": "721f33976731c8a9",
   "metadata": {},
   "source": [
    "## Perbedaan Machine Learning dan Deep Learning"
   ]
  },
  {
   "cell_type": "markdown",
   "id": "ab0c37a6ac4bf13c",
   "metadata": {},
   "source": [
    "|Machine Learning|Deep Learning|\n",
    "| --- | --- |\n",
    "| Apply statistical algorithms to learn the hidden patterns and relationships in the dataset. | Uses artificial neural network architecture to learn the hidden patterns and relationships in the dataset. |\n",
    "| Can work on the smaller amount of dataset | Requires the larger volume of dataset compared to machine learning |\n",
    "| Better for the low-label task. | Better for complex task like image processing, natural language processing, etc. |\n",
    "| Takes less time to train the model. | Takes more time to train the model. |\n",
    "| A model is created by relevant features which are manually extracted from images to detect an object in the image. | Relevant features are automatically extracted from images. It is an end-to-end learning process. |\n",
    "| Less complex and easy to interpret the result. | More complex, it works like the black box interpretations of the result are not easy. |\n",
    "| It can work on the CPU or requires less computing power as compared to deep learning. | It requires a high-performance computer with GPU. |"
   ]
  },
  {
   "cell_type": "markdown",
   "id": "733644353ecbdb02",
   "metadata": {},
   "source": [
    "# Artificial Neural Network (ANN)\n",
    "\n",
    "ANN dibangun berdasarkan prinsip struktur dan pengoperasian neuron manusia. Ia juga dikenal sebagai Neural Network (NN) atau neural nets. Lapisan masukan atau input layer pada ANN, yaitu lapisan pertama, menerima masukan dari sumber eksternal dan meneruskannya ke lapisan tersembunyi atau hidden layer, yaitu lapisan kedua. Setiap neuron pada hidden layer mendapat informasi dari neuron pada lapisan sebelumnya, menghitung total bobotnya, dan kemudian mentransfernya ke neuron pada lapisan berikutnya. Koneksi ini diberi bobot, yang berarti bahwa dampak masukan dari lapisan sebelumnya kurang lebih dioptimalkan dengan memberikan bobot yang berbeda pada setiap masukan. Bobot ini kemudian disesuaikan selama proses pelatihan untuk meningkatkan performa model.\n",
    "\n",
    "Artificial Neurons (neuron buatan), juga dikenal sebagai unit, ditemukan di ANN. Seluruh ANN terdiri dari Artificial Neurons ini, yang disusun dalam serangkaian lapisan. Kompleksitas NN akan bergantung pada kompleksitas pola yang mendasari kumpulan data, apakah suatu lapisan memiliki selusin unit atau jutaan unit. Umumnya ANN memiliki input layer, hidden layer dan output layer. Lapisan masukan menerima data dari dunia luar yang perlu dianalisis atau dipelajari oleh NN.\n",
    "\n",
    "Dalam ANN yang terhubung penuh, terdapat input layer dan satu atau lebih hidden layer yang terhubung satu demi satu. Setiap neuron menerima masukan dari neuron lapisan sebelumnya atau input layer. Keluaran suatu neuron menjadi masukan bagi neuron lain pada network layer berikutnya, dan proses ini berlanjut hingga lapisan terakhir menghasilkan output network. Kemudian, setelah melewati satu atau lebih hidden layer, data ini diubah menjadi data berharga untuk output layer. Terakhir, output layer memberikan keluaran berupa respon ANN terhadap data yang masuk.\n",
    "\n",
    "\n",
    "\n",
    "<center><img height=\"400\" src=\"image/010-ann.jpg\" width=\"650\"/></center>"
   ]
  },
  {
   "cell_type": "markdown",
   "id": "964cdc4ec224cc84",
   "metadata": {},
   "source": [
    "## Tipe tipe Neural Networks\n",
    "\n",
    "Model Pembelajaran Mendalam dapat mempelajari fitur-fitur dari data secara otomatis, sehingga cocok untuk tugas-tugas seperti pengenalan gambar, pengenalan ucapan, dan pemrosesan bahasa alami. Arsitektur yang paling banyak digunakan dalam pembelajaran mendalam adalah Feed Forward Neural Networks (FNN), Convolutional Neural Networks (CNN), dan Recurrent Neural Networks (RNN).\n",
    "\n",
    "1. Feed Forward Neural Networks (FNN) adalah jenis ANN paling sederhana, dengan aliran informasi linier melalui jaringan. FNN telah banyak digunakan untuk tugas-tugas seperti klasifikasi gambar, pengenalan suara, dan pemrosesan bahasa alami.\n",
    "\n",
    "2. Convolutional Neural Networks (CNN) khusus untuk tugas pengenalan gambar dan video. CNN dapat secara otomatis mempelajari fitur dari gambar, sehingga cocok untuk tugas-tugas seperti klasifikasi gambar, deteksi objek, dan segmentasi gambar.\n",
    "\n",
    "3. Recurrent Neural Networks (RNNs) adalah jenis jaringan saraf yang mampu memproses data berurutan, seperti deret waktu dan bahasa alami. RNN mampu mempertahankan keadaan internal yang menangkap informasi tentang masukan sebelumnya, sehingga membuatnya cocok untuk tugas-tugas seperti pengenalan ucapan, pemrosesan bahasa alami, dan terjemahan bahasa."
   ]
  },
  {
   "metadata": {},
   "cell_type": "markdown",
   "source": [
    "Artificial Intelligence has been witnessing monumental growth in bridging the gap between the capabilities of humans and machines. Researchers and enthusiasts alike, work on numerous aspects of the field to make amazing things happen. One of many such areas is the domain of Computer Vision.\n",
    "\n",
    "By Sumit Saha | Saturday, December 15, 2018 | [Data Science & ML](https://saturncloud.io/blog/categories/data-science-ml/)\n",
    "\n",
    "![](https://saturncloud.io/images/blog/a-comprehensive-guide-to-convolutional-neural-networks-the-eli5-way.webp)\n",
    "\n",
    "[Artificial Intelligence](https://saturncloud.io/glossary/artificial-intelligence/) has been witnessing monumental growth in bridging the gap between the capabilities of humans and machines. Researchers and enthusiasts alike, work on numerous aspects of the field to make amazing things happen. One of many such areas is the domain of [Computer Vision](https://saturncloud.io/glossary/computer-vision).\n",
    "\n",
    "The agenda for this field is to enable machines to view the world as humans do, perceive it in a similar manner, and even use the knowledge for a multitude of tasks such as Image & Video recognition, Image Analysis & Classification, Media Recreation, Recommendation Systems, [Natural Language Processing](https://saturncloud.io/glossary/natural-language-processing-nlp/), etc. The advancements in [Computer Vision](https://saturncloud.io/glossary/computer-vision/) with [Deep Learning](https://saturncloud.io/glossary/deep-learning/) have been constructed and perfected with time, primarily over one particular [algorithm](https://saturncloud.io/glossary/algorithm) --- a Convolutional Neural Network."
   ],
   "id": "1d25f5cdc2d63d46"
  },
  {
   "cell_type": "markdown",
   "id": "51cc4e8141ab50b0",
   "metadata": {},
   "source": [
    "# Tantangan Pada Deep Learning\n",
    "\n",
    "DL telah mencapai kemajuan yang signifikan di berbagai bidang, namun masih ada beberapa tantangan yang perlu diatasi. Berikut adalah beberapa tantangan utama dalam DL:\n",
    "\n",
    "**Ketersediaan data**: Dibutuhkan sejumlah besar data untuk dipelajari. Untuk menggunakan pembelajaran mendalam, pengumpulan data sebanyak-banyaknya untuk pelatihan menjadi perhatian besar.\n",
    "\n",
    "**Sumber Daya Komputasi**: Untuk melatih model DL, biaya komputasinya mahal karena memerlukan perangkat keras khusus seperti GPU dan TPU dengan spesifikasi khusus.\n",
    "\n",
    "**Memakan waktu**: Saat mengerjakan data sekuensial bergantung pada sumber daya komputasi, hal ini bisa memakan waktu yang sangat besar bahkan dalam hitungan hari atau bulan.\n",
    "\n",
    "**Interpretabilitas**: Model DL itu rumit, berfungsi seperti kotak hitam (Black Box). sangat sulit untuk menafsirkan hasilnya.\n",
    "\n",
    "**Overfitting**: ketika model dilatih berulang kali, model tersebut menjadi terlalu terspesialisasi untuk data pelatihan, sehingga menyebabkan overfitting dan performa buruk pada data baru."
   ]
  },
  {
   "cell_type": "markdown",
   "id": "ab920ff86cc0cdea",
   "metadata": {},
   "source": [
    "# Keuntungan Menggunakan Deep Learning\n",
    "\n",
    "\n",
    "1.  **Akurasi Tinggi:** Deep Learning algorithms dapat mencapai performa yang tinggi di berbagai tugas, seperti image recognition dan natural language processing.\n",
    "2.  **Feature Engineering yang otomatis:** Deep Learning algorithms data secara otomatis menemukan dan mempelajari fitur fitur yang relevan tanpa melakukan feature engineering secara manual.\n",
    "3.  **Skalabilitas:** Deep Learning models dapat manangani data yang dengan jumlah besar dan kompleks, dan dapat belajar dari data tersebut.\n",
    "4.  **Fleksibilitas:** Deep Learning models dapat diaplikasikan berbagai macam jenis data seperti gambar, teks dan bahkan pembicaraan.\n",
    "5.  **Peningkatan Berlanjutan:** Deep Learning models dapat secara kontinu meningkatkan performanya seiring dengan semakin banyak data yang tersedia\n",
    "\n",
    "# Kerugian Menggunakan Deep Learning\n",
    "\n",
    "\n",
    "1.  **Komputasi Tinggi:** Deep Learning AI models membutuhkan data yang besar dan sumber daya komputasi yang tinggi untuk melatih dan mengoptimasi modelnya.\n",
    "2.  **Memerlukan Data Berlabel yang Besar:** Deep Learning models seringkali memerlukan data berlabel yang besar untuk melatih model, sehingga hal ini mebutuhkan waktu yang lama untuk mendapatkannya.\n",
    "3.  **Interpretabilitas:** Deep Learning models dapat menjadi sulit di interprestasi, sulit untuk dipahami bagaimana keputusan dibuat oleh model.\n",
    "4. **Overfitting:** Deep Learning models kadangkala overfit pada data training, menghasilkan performa yang buruk pada data testing\n",
    "5. **Black-box nature:** Deep Learning models seringkali di anggap black boxes, membuatnya sulit dimengerti bagaimana dia bekerja dan bagaimana model tersebut sampai pada prediksinya."
   ]
  },
  {
   "cell_type": "code",
   "execution_count": null,
   "id": "b3838acda341c81b",
   "metadata": {},
   "outputs": [],
   "source": []
  }
 ],
 "metadata": {
  "kernelspec": {
   "display_name": "Python 3 (ipykernel)",
   "language": "python",
   "name": "python3"
  },
  "language_info": {
   "codemirror_mode": {
    "name": "ipython",
    "version": 3
   },
   "file_extension": ".py",
   "mimetype": "text/x-python",
   "name": "python",
   "nbconvert_exporter": "python",
   "pygments_lexer": "ipython3",
   "version": "3.9.7"
  }
 },
 "nbformat": 4,
 "nbformat_minor": 5
}
