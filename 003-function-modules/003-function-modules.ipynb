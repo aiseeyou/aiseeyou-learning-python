{
 "cells": [
  {
   "cell_type": "markdown",
   "source": [
    "# 1. Python Function\n",
    "A function is a block of code which only runs when it is called. You can pass data, known as parameters, into a function. A function can return data as a result.\n",
    "\n",
    "<center><img height=\"400\" src=\"../image/function3.png\" width=\"800\"/></center>"
   ],
   "metadata": {
    "collapsed": false
   },
   "id": "fa4d625e33fd102"
  },
  {
   "cell_type": "markdown",
   "source": [
    "## 1.1 Creating Function\n",
    "Pada python function dibuat dengan keyword **def**"
   ],
   "metadata": {
    "collapsed": false
   },
   "id": "7c13fbb577de2c4a"
  },
  {
   "cell_type": "code",
   "outputs": [],
   "source": [
    "def my_function():\n",
    "    print(\"Hello World!\")"
   ],
   "metadata": {
    "collapsed": false,
    "ExecuteTime": {
     "end_time": "2024-04-13T02:21:44.344077Z",
     "start_time": "2024-04-13T02:21:44.340076Z"
    }
   },
   "id": "1af9a802b2a05501",
   "execution_count": 2
  },
  {
   "cell_type": "markdown",
   "source": [
    "## 1.2 Calling Function\n",
    "untuk memanggil suatu function kita panggil dengan nama function tersebut diikuti tutup kurung"
   ],
   "metadata": {
    "collapsed": false
   },
   "id": "c6f59ecb9af3b448"
  },
  {
   "cell_type": "code",
   "outputs": [
    {
     "name": "stdout",
     "output_type": "stream",
     "text": [
      "Hello World!\n"
     ]
    }
   ],
   "source": [
    "my_function()"
   ],
   "metadata": {
    "collapsed": false,
    "ExecuteTime": {
     "end_time": "2024-04-13T02:23:22.400904Z",
     "start_time": "2024-04-13T02:23:22.388425Z"
    }
   },
   "id": "8f5deebb222605da",
   "execution_count": 5
  },
  {
   "cell_type": "markdown",
   "source": [
    "## 1.3 Variabel Arguments\n",
    "\n",
    "Informasi yang dapat dimasukan kedalam function bisa disebut sebagai argument, argument dimasukan kedalam function didalam tutup kurung. "
   ],
   "metadata": {
    "collapsed": false
   },
   "id": "5d2c62197c53bcf0"
  },
  {
   "cell_type": "code",
   "outputs": [],
   "source": [
    "def my_function2(fname):\n",
    "    print(fname + \" hello\")"
   ],
   "metadata": {
    "collapsed": false,
    "ExecuteTime": {
     "end_time": "2024-04-13T02:27:08.744260Z",
     "start_time": "2024-04-13T02:27:08.726234Z"
    }
   },
   "id": "8627e674d584e381",
   "execution_count": 9
  },
  {
   "cell_type": "code",
   "outputs": [
    {
     "name": "stdout",
     "output_type": "stream",
     "text": [
      "budi hello\n"
     ]
    }
   ],
   "source": [
    "my_function2(\"budi\")"
   ],
   "metadata": {
    "collapsed": false,
    "ExecuteTime": {
     "end_time": "2024-04-13T02:27:14.523501Z",
     "start_time": "2024-04-13T02:27:14.506966Z"
    }
   },
   "id": "852ff582bc0f6afc",
   "execution_count": 11
  },
  {
   "cell_type": "markdown",
   "source": [
    "Pada dokumentasi python Arguments biasa disingkat sebagai Args. Pada sudut pandang pada suatu function:\n",
    "1. Parameter adalah variabel yang di catat didalam tutup kurung pada suatu fungsi saat awal didefinisikan\n",
    "2. Argument adalah nilai yang sudah dimasukan kedalam fungsi tersebut\n",
    "\n",
    "Pada dasarnya suatu fungsi dipanggil dengan jumlah argument yang sesuai ketika awal fungsi itu didefinisikan, tidak kurang dan tidak lebih"
   ],
   "metadata": {
    "collapsed": false
   },
   "id": "fa16d0d8fae0b87"
  },
  {
   "cell_type": "code",
   "outputs": [
    {
     "name": "stdout",
     "output_type": "stream",
     "text": [
      "andi budi\n"
     ]
    }
   ],
   "source": [
    "def my_function3(fname, lname):\n",
    "    print(fname + \" \" + lname)\n",
    "\n",
    "my_function3(\"andi\",\"budi\")"
   ],
   "metadata": {
    "collapsed": false,
    "ExecuteTime": {
     "end_time": "2024-04-13T02:33:24.511191Z",
     "start_time": "2024-04-13T02:33:24.506190Z"
    }
   },
   "id": "e5e2b1fe3a29e54",
   "execution_count": 12
  },
  {
   "cell_type": "markdown",
   "source": [
    "### 1.3.1 Arbitrary Arguments, *args\n",
    "\n",
    "Walaupun jumlah argument yang dimasukan kedalam fungsi harus sesuai dengan jumlah parameter yang didefinisikan, namun kita dapat menggunakan tipe parameter yang memungkinkan kita memasukan argument yang lebih dari 1 saat parameter itu didedefinisikan, nama parameter untuk argument tersebut adalah *args (Arbitary Arguments)"
   ],
   "metadata": {
    "collapsed": false
   },
   "id": "d7e007b3091d19ff"
  },
  {
   "cell_type": "code",
   "outputs": [],
   "source": [
    "def my_function4(*people):\n",
    "    print(\"The youngest people are \"+people[2])"
   ],
   "metadata": {
    "collapsed": false,
    "ExecuteTime": {
     "end_time": "2024-04-13T02:37:15.622392Z",
     "start_time": "2024-04-13T02:37:15.611194Z"
    }
   },
   "id": "ed513115ef3c65ef",
   "execution_count": 14
  },
  {
   "cell_type": "code",
   "outputs": [
    {
     "name": "stdout",
     "output_type": "stream",
     "text": [
      "The youngest people are dipsi\n"
     ]
    }
   ],
   "source": [
    "my_function4(\"tingky\",\"wingky\",\"dipsi\",\"lala\")"
   ],
   "metadata": {
    "collapsed": false,
    "ExecuteTime": {
     "end_time": "2024-04-13T02:37:42.609412Z",
     "start_time": "2024-04-13T02:37:42.603907Z"
    }
   },
   "id": "702b9a04efd31df0",
   "execution_count": 15
  },
  {
   "cell_type": "markdown",
   "source": [
    "### 1.3.2 Keyword Arguments\n",
    "\n",
    "Kita juga bisa memasukan argument dengan key = value. Cara ini membuat urutan dari argument yang kita masukan didalam function tidak berpengaruh"
   ],
   "metadata": {
    "collapsed": false
   },
   "id": "65c0f36f8f91d438"
  },
  {
   "cell_type": "code",
   "outputs": [],
   "source": [
    "def keyword_function(key1,key2,key3,key4):\n",
    "    print(key1,key2,key3,key4)"
   ],
   "metadata": {
    "collapsed": false,
    "ExecuteTime": {
     "end_time": "2024-04-13T02:45:37.564471Z",
     "start_time": "2024-04-13T02:45:37.551964Z"
    }
   },
   "id": "da2a5d2e10526c50",
   "execution_count": 17
  },
  {
   "cell_type": "code",
   "outputs": [
    {
     "name": "stdout",
     "output_type": "stream",
     "text": [
      "100 10 ini 1\n"
     ]
    }
   ],
   "source": [
    "keyword_function(key2=10,key4=1,key3=\"ini\",key1=100)"
   ],
   "metadata": {
    "collapsed": false,
    "ExecuteTime": {
     "end_time": "2024-04-13T02:46:09.547073Z",
     "start_time": "2024-04-13T02:46:09.539190Z"
    }
   },
   "id": "7504b560b74c991e",
   "execution_count": 18
  },
  {
   "cell_type": "markdown",
   "source": [
    "### 1.3.3 Arbitrary Keyword Arguments, **kwargs\n",
    "\n",
    "Jika kita tidak tau akan berapa banyak variabel argument yang diinputkan . kita bisa tambahkan ** sebelum nama parameter yang didefinisikan pada sebuah function. Cara ini akan membuat kita dapat mengakses parameter tersebut layaknya mengakses data yang bertype dictionary."
   ],
   "metadata": {
    "collapsed": false
   },
   "id": "98523b6b6813ce78"
  },
  {
   "cell_type": "code",
   "outputs": [
    {
     "name": "stdout",
     "output_type": "stream",
     "text": [
      "His last name is Refsnes\n"
     ]
    }
   ],
   "source": [
    "def my_function(**kid):\n",
    "  print(\"His last name is \" + kid[\"lname\"])\n",
    "\n",
    "my_function(fname = \"Tobias\", lname = \"Refsnes\")"
   ],
   "metadata": {
    "collapsed": false,
    "ExecuteTime": {
     "end_time": "2024-04-13T02:48:49.951359Z",
     "start_time": "2024-04-13T02:48:49.935975Z"
    }
   },
   "id": "1db05accabc014a3",
   "execution_count": 19
  },
  {
   "cell_type": "markdown",
   "source": [
    "## 2 Scoop Variable\n",
    "\n",
    "Terdiri 2 jenis scoop variabel pada python \n",
    "1. Local\n",
    "2. Global\n",
    "\n",
    "Variabel Local memungkan bahwa varibel ini hanya dapat diakses pada batasan tertentu, contoh parameter didalam suatu function. hanya bisa diakses oleh function itu sendiri, namun variabel yang didefinisikan diluar function dapat diakses oleh function manapun"
   ],
   "metadata": {
    "collapsed": false
   },
   "id": "f4952237951d4d5f"
  },
  {
   "cell_type": "code",
   "outputs": [
    {
     "name": "stdout",
     "output_type": "stream",
     "text": [
      "test\n"
     ]
    },
    {
     "ename": "NameError",
     "evalue": "name 'key1' is not defined",
     "output_type": "error",
     "traceback": [
      "\u001B[1;31m---------------------------------------------------------------------------\u001B[0m",
      "\u001B[1;31mNameError\u001B[0m                                 Traceback (most recent call last)",
      "Cell \u001B[1;32mIn[22], line 8\u001B[0m\n\u001B[0;32m      5\u001B[0m     \u001B[38;5;28mprint\u001B[39m(key1)\n\u001B[0;32m      7\u001B[0m local_variabel(\u001B[38;5;124m\"\u001B[39m\u001B[38;5;124mtest\u001B[39m\u001B[38;5;124m\"\u001B[39m)\n\u001B[1;32m----> 8\u001B[0m \u001B[43mcoba_akses_local_variabel\u001B[49m\u001B[43m(\u001B[49m\u001B[43m)\u001B[49m\n",
      "Cell \u001B[1;32mIn[22], line 5\u001B[0m, in \u001B[0;36mcoba_akses_local_variabel\u001B[1;34m()\u001B[0m\n\u001B[0;32m      4\u001B[0m \u001B[38;5;28;01mdef\u001B[39;00m \u001B[38;5;21mcoba_akses_local_variabel\u001B[39m():\n\u001B[1;32m----> 5\u001B[0m     \u001B[38;5;28mprint\u001B[39m(\u001B[43mkey1\u001B[49m)\n",
      "\u001B[1;31mNameError\u001B[0m: name 'key1' is not defined"
     ]
    }
   ],
   "source": [
    "def local_variabel(key1):\n",
    "    print(key1)\n",
    "    \n",
    "def coba_akses_local_variabel():\n",
    "    print(key1)\n",
    "    \n",
    "local_variabel(\"test\")\n",
    "coba_akses_local_variabel()"
   ],
   "metadata": {
    "collapsed": false,
    "ExecuteTime": {
     "end_time": "2024-04-13T02:56:07.318464Z",
     "start_time": "2024-04-13T02:56:07.245520Z"
    }
   },
   "id": "b6743c703c2f6cb4",
   "execution_count": 22
  },
  {
   "cell_type": "code",
   "outputs": [
    {
     "name": "stdout",
     "output_type": "stream",
     "text": [
      "ini global variabel\n"
     ]
    }
   ],
   "source": [
    "global_variabel = \"ini global variabel\"\n",
    "\n",
    "def coba_akses_global_variabel():\n",
    "    print(global_variabel)\n",
    "\n",
    "coba_akses_global_variabel()"
   ],
   "metadata": {
    "collapsed": false,
    "ExecuteTime": {
     "end_time": "2024-04-13T02:56:52.426415Z",
     "start_time": "2024-04-13T02:56:52.419647Z"
    }
   },
   "id": "3273922413d34f93",
   "execution_count": 23
  },
  {
   "cell_type": "markdown",
   "source": [
    "## 3. Documentation Function\n",
    "\n",
    "In general, commenting is describing your code to/for developers. The intended main audience is the maintainers and developers of the Python code. In conjunction with well-written code, comments help to guide the reader to better understand your code and its purpose and design:\n",
    "\n",
    "“Code tells you how; Comments tell you why.”\n",
    "\n",
    "— Jeff Atwood (aka Coding Horror)\n",
    "\n",
    "Documenting code is describing its use and functionality to your users. While it may be helpful in the development process, the main intended audience is the users. The following section describes how and when to comment your code.\n",
    "\n",
    "<a href=\"https://realpython.com/documenting-python-code/\">source</a>"
   ],
   "metadata": {
    "collapsed": false
   },
   "id": "58c196c91eaac4c"
  },
  {
   "cell_type": "markdown",
   "source": [
    "### 3.1 Basics of Commenting Code"
   ],
   "metadata": {
    "collapsed": false
   },
   "id": "16a1a5f1b2068df7"
  },
  {
   "cell_type": "code",
   "outputs": [],
   "source": [
    "def hello_world():\n",
    "    # A simple comment preceding a simple print statement\n",
    "    print(\"Hello World\")"
   ],
   "metadata": {
    "collapsed": false,
    "ExecuteTime": {
     "end_time": "2024-04-13T03:51:50.325755Z",
     "start_time": "2024-04-13T03:51:50.320233Z"
    }
   },
   "id": "ece069237606cc45",
   "execution_count": 26
  },
  {
   "cell_type": "markdown",
   "source": [
    "berdasarkan PEP8, jumlah karakter pada sebuah basic comment adalah 72 karakter. Sehingga jika jumlah comment lebih dari itu disarankan menggunakan multiple line comment"
   ],
   "metadata": {
    "collapsed": false
   },
   "id": "639f902b3eb9398b"
  },
  {
   "cell_type": "code",
   "outputs": [],
   "source": [
    "def hello_long_world():\n",
    "    # A very long statement that just goes on and on and on and on and\n",
    "    # never ends until after it's reached the 80 char limit\n",
    "    print(\"Hellooooooooooooooooooooooooooooooooooooooooooooooooooooooo World\")"
   ],
   "metadata": {
    "collapsed": false,
    "ExecuteTime": {
     "end_time": "2024-04-13T03:53:11.663703Z",
     "start_time": "2024-04-13T03:53:11.650688Z"
    }
   },
   "id": "8d78bb7383619bdf",
   "execution_count": 28
  },
  {
   "cell_type": "markdown",
   "source": [
    "Membuat dokumentasi pada suatu function memiliki berbagai tujuan. anatara lain:\n",
    "1. Planning & Reviewing: Ketika mengembangkan suatu program comment biasanya pertujuan untuk sebagai cara dalam merencanakan atau menguraikan bagian code tersebut.\n",
    "2. Code Description: Comments dapat digunakan untuk menjelaskan secara spesifik bagian dari suatu code\n",
    "3. Alghoritmic Description: Ketika menggunakan algoritma tertentu, dan sulit tentunya Commnets dapat digunakan untuk menjelaskan bagaimana algoritma itu bekerja atau bagaimana mengimplentasikannya didalam kode tersebut.\n",
    "4. Tagging: Tagging dapat digunakan untuk memberikan tanda pada bagian code dimana itu berada, apakah perlu perbaikan **BUG** atau hal yang dilakukan selanjutnya **TODO**"
   ],
   "metadata": {
    "collapsed": false
   },
   "id": "d97a4f12d79aed0a"
  },
  {
   "cell_type": "markdown",
   "source": [
    "Comments to your code should be kept brief and focused. Avoid using long comments when possible. Additionally, you should use the following four essential rules as suggested by Jeff Atwood:\n",
    "\n",
    "1. Keep comments as close to the code being described as possible. Comments that aren’t near their describing code are frustrating to the reader and easily missed when updates are made.\n",
    "\n",
    "2. Don’t use complex formatting (such as tables or ASCII figures). Complex formatting leads to distracting content and can be difficult to maintain over time.\n",
    "\n",
    "3. Don’t include redundant information. Assume the reader of the code has a basic understanding of programming principles and language syntax.\n",
    "\n",
    "4. Design your code to comment itself. The easiest way to understand code is by reading it. When you design your code using clear, easy-to-understand concepts, the reader will be able to quickly conceptualize your intent.\n",
    "\n",
    "Remember that comments are designed for the reader, including yourself, to help guide them in understanding the purpose and design of the software."
   ],
   "metadata": {
    "collapsed": false
   },
   "id": "d95a1a850111b72"
  },
  {
   "cell_type": "markdown",
   "source": [
    "## 3.2 Commenting Code Via type Hinting\n",
    "\n",
    "Type hinting sudah ditambahkan untuk versi Python 3.5+ dan ini merupakan formula yang dapat memudahkan membaca kode yang sudah dibuat. Fitur ini memungkinkan developer untuk membuat code dan memberikan documentation tanpa membuat Commenting."
   ],
   "metadata": {
    "collapsed": false
   },
   "id": "65e10535ced255eb"
  },
  {
   "cell_type": "code",
   "outputs": [],
   "source": [
    "def hello_name(name: str) -> str:\n",
    "    return f\"Hello {name}\""
   ],
   "metadata": {
    "collapsed": false,
    "ExecuteTime": {
     "end_time": "2024-04-13T04:05:38.946390Z",
     "start_time": "2024-04-13T04:05:38.939553Z"
    }
   },
   "id": "3ec08a3e2dec3a6c",
   "execution_count": 29
  },
  {
   "cell_type": "markdown",
   "source": [
    "Dengan memeriksan petunjuk (Hints) dari tipe data **name** kita bisa tau bahwa fungsi tersebut mengharapkan bahwa **name** bertipe str (string). Serta kita juga tau bahwa keluaran dari fungsi tersebut akan bertipe str juga. Meskipun fitur ini memudahkan kita untuk membuat dokumentasi function tanpa comment naman perlu dipertimabangkan waktu dan usaha extra ketika kita memulai suatu project dengan dokumentasi menggunakan teknik ini."
   ],
   "metadata": {
    "collapsed": false
   },
   "id": "591557a77d134a6c"
  },
  {
   "cell_type": "markdown",
   "source": [
    "# 4. Module\n",
    "\n",
    "What is a Module?\n",
    "Consider a module to be the same as a code library.\n",
    "\n",
    "A file containing a set of functions you want to include in your application.\n",
    "\n",
    "<a href=\"https://www.w3schools.com/python/python_modules.asp\">source</a>"
   ],
   "metadata": {
    "collapsed": false
   },
   "id": "588c8a8eea41cc07"
  },
  {
   "cell_type": "code",
   "outputs": [
    {
     "name": "stdout",
     "output_type": "stream",
     "text": [
      "Hello, hamid\n"
     ]
    }
   ],
   "source": [
    "import my_module\n",
    "\n",
    "my_module.greeting(\"hamid\")"
   ],
   "metadata": {
    "collapsed": false,
    "ExecuteTime": {
     "end_time": "2024-04-13T04:14:14.420771Z",
     "start_time": "2024-04-13T04:14:14.402233Z"
    }
   },
   "id": "ed067f8ff770f34",
   "execution_count": 30
  },
  {
   "cell_type": "markdown",
   "source": [
    "## 4.1 Several Built-In Modules"
   ],
   "metadata": {
    "collapsed": false
   },
   "id": "20df1dce7cc2cf1f"
  },
  {
   "cell_type": "code",
   "outputs": [
    {
     "name": "stdout",
     "output_type": "stream",
     "text": [
      "Windows\n"
     ]
    }
   ],
   "source": [
    "import platform\n",
    "\n",
    "x = platform.system()\n",
    "print(x)"
   ],
   "metadata": {
    "collapsed": false,
    "ExecuteTime": {
     "end_time": "2024-04-13T04:15:51.649687Z",
     "start_time": "2024-04-13T04:15:51.640667Z"
    }
   },
   "id": "10e1c590b371beaa",
   "execution_count": 31
  },
  {
   "cell_type": "code",
   "outputs": [
    {
     "name": "stdout",
     "output_type": "stream",
     "text": [
      "['_Processor', '_WIN32_CLIENT_RELEASES', '_WIN32_SERVER_RELEASES', '__builtins__', '__cached__', '__copyright__', '__doc__', '__file__', '__loader__', '__name__', '__package__', '__spec__', '__version__', '_comparable_version', '_component_re', '_default_architecture', '_follow_symlinks', '_get_machine_win32', '_ironpython26_sys_version_parser', '_ironpython_sys_version_parser', '_java_getprop', '_libc_search', '_mac_ver_xml', '_node', '_norm_version', '_platform', '_platform_cache', '_pypy_sys_version_parser', '_sys_version', '_sys_version_cache', '_sys_version_parser', '_syscmd_file', '_syscmd_ver', '_uname_cache', '_unknown_as_blank', '_ver_output', '_ver_stages', 'architecture', 'collections', 'functools', 'itertools', 'java_ver', 'libc_ver', 'mac_ver', 'machine', 'node', 'os', 'platform', 'processor', 'python_branch', 'python_build', 'python_compiler', 'python_implementation', 'python_revision', 'python_version', 'python_version_tuple', 're', 'release', 'subprocess', 'sys', 'system', 'system_alias', 'uname', 'uname_result', 'version', 'win32_edition', 'win32_is_iot', 'win32_ver']\n"
     ]
    }
   ],
   "source": [
    "import platform\n",
    "\n",
    "x = dir(platform)\n",
    "print(x)"
   ],
   "metadata": {
    "collapsed": false,
    "ExecuteTime": {
     "end_time": "2024-04-13T04:16:01.839577Z",
     "start_time": "2024-04-13T04:16:01.832069Z"
    }
   },
   "id": "f7b0ed7996ade105",
   "execution_count": 32
  },
  {
   "cell_type": "markdown",
   "source": [
    "Module lain dapat dicek pada via web dokumentasi python  <a href=\"https://docs.python.org/3/py-modindex.html\">https://docs.python.org/3/py-modindex.html</a>"
   ],
   "metadata": {
    "collapsed": false
   },
   "id": "7736d5b4c664baaf"
  },
  {
   "cell_type": "code",
   "outputs": [],
   "source": [],
   "metadata": {
    "collapsed": false
   },
   "id": "a3b715589b221942"
  }
 ],
 "metadata": {
  "kernelspec": {
   "display_name": "Python 3",
   "language": "python",
   "name": "python3"
  },
  "language_info": {
   "codemirror_mode": {
    "name": "ipython",
    "version": 2
   },
   "file_extension": ".py",
   "mimetype": "text/x-python",
   "name": "python",
   "nbconvert_exporter": "python",
   "pygments_lexer": "ipython2",
   "version": "2.7.6"
  }
 },
 "nbformat": 4,
 "nbformat_minor": 5
}
