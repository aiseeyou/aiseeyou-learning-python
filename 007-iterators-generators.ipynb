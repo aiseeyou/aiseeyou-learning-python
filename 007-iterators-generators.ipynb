{
 "cells": [
  {
   "metadata": {},
   "cell_type": "markdown",
   "source": [
    "# Iterators vs Generators in Python\n",
    "<center><img height=\"400\" src=\"image/iterators-generators.jpeg\" width=\"600\"/></center>\n",
    "\n",
    "Iterator dan Generator memiliki tujuan yang serupa namun bentuk yang berbeda. Keduanya sama-sama formula untuk mengiterasi data, namun pada iterator memiliki bentuk sebagai object (classes) sedangkan generator berbentuk function.\n",
    "\n",
    "<a href=\"https://pythongeeks.org/python-generators-vs-iterators/\">source</a>"
   ],
   "id": "5bf93c54bb8251d2"
  },
  {
   "metadata": {},
   "cell_type": "markdown",
   "source": [
    "# 1. Iterators\n",
    "\n",
    "Objek python yang melakukan iterasi melalui objek yang dapat diiterasi disebut sebagai iterator.\n",
    "\n",
    "Iterator dapat dibuat menggunakan `iter()` function, fungsi `next()` digunakan untuk mendapatkan nilai selanjutnya dari sebuah iterator.\n"
   ],
   "id": "779ab8350a6458fe"
  },
  {
   "metadata": {
    "ExecuteTime": {
     "end_time": "2024-04-17T03:34:14.436543Z",
     "start_time": "2024-04-17T03:34:14.416415Z"
    }
   },
   "cell_type": "code",
   "source": [
    "nums = [1, 2, 3, 4]\n",
    "obj = iter(nums)\n",
    "print(next(obj))\n",
    "print(next(obj))\n",
    "print(next(obj))\n",
    "print(next(obj))"
   ],
   "id": "f9db98218d588204",
   "outputs": [
    {
     "name": "stdout",
     "output_type": "stream",
     "text": [
      "1\n",
      "2\n",
      "3\n",
      "4\n"
     ]
    }
   ],
   "execution_count": 1
  },
  {
   "metadata": {},
   "cell_type": "markdown",
   "source": [
    "# 2. Generators\n",
    "\n",
    "Sebuah Generator memiliki type function yang mengembalikan objek generator, sehingga generator dapat mengembalikan nilai yang berurutan daripada menghasilkan hasil tunggal yang selalu sama. Umumnya `def` keyword digunakan untuk mendefinisikan sebuah generator dan paling tidak sebuah `yield` statement digunakan pada sebuah generator."
   ],
   "id": "76471dca550dd409"
  },
  {
   "metadata": {
    "ExecuteTime": {
     "end_time": "2024-04-17T03:40:11.390515Z",
     "start_time": "2024-04-17T03:40:11.088716Z"
    }
   },
   "cell_type": "code",
   "source": [
    "def nums():\n",
    "   for i in range(1, 5):\n",
    "       yield i\n",
    "\n",
    "obj = nums()\n",
    "print(next(obj))\n",
    "print(next(obj))\n",
    "print(next(obj))\n",
    "print(next(obj))\n",
    "print(next(obj))"
   ],
   "id": "739eb5aeef6b2c04",
   "outputs": [
    {
     "name": "stdout",
     "output_type": "stream",
     "text": [
      "1\n",
      "2\n",
      "3\n",
      "4\n"
     ]
    },
    {
     "ename": "StopIteration",
     "evalue": "",
     "output_type": "error",
     "traceback": [
      "\u001B[1;31m---------------------------------------------------------------------------\u001B[0m",
      "\u001B[1;31mStopIteration\u001B[0m                             Traceback (most recent call last)",
      "Cell \u001B[1;32mIn[3], line 10\u001B[0m\n\u001B[0;32m      8\u001B[0m \u001B[38;5;28mprint\u001B[39m(\u001B[38;5;28mnext\u001B[39m(obj))\n\u001B[0;32m      9\u001B[0m \u001B[38;5;28mprint\u001B[39m(\u001B[38;5;28mnext\u001B[39m(obj))\n\u001B[1;32m---> 10\u001B[0m \u001B[38;5;28mprint\u001B[39m(\u001B[38;5;28;43mnext\u001B[39;49m\u001B[43m(\u001B[49m\u001B[43mobj\u001B[49m\u001B[43m)\u001B[49m)\n",
      "\u001B[1;31mStopIteration\u001B[0m: "
     ]
    }
   ],
   "execution_count": 3
  },
  {
   "metadata": {},
   "cell_type": "markdown",
   "source": [
    "# 3. Iterators Vs Generators\n",
    "\n",
    "Iterators are created using classes whereas generators are created using functions."
   ],
   "id": "5bd629417d3745ab"
  },
  {
   "metadata": {
    "ExecuteTime": {
     "end_time": "2024-04-17T05:01:21.276434Z",
     "start_time": "2024-04-17T05:01:21.266422Z"
    }
   },
   "cell_type": "code",
   "source": [
    "class Alphabets:\n",
    "  def __iter__(self):\n",
    "      self.val = 65\n",
    "      return self\n",
    "  def __next__(self):\n",
    "      if self.val > 90:\n",
    "          raise StopIteration\n",
    "      temp = self.val\n",
    "      self.val += 1\n",
    "      return chr(temp)\n",
    "my_letters = Alphabets()\n",
    "my_iterator = iter(my_letters)\n",
    "for letter in my_iterator:\n",
    "   print(letter, end = \" \")"
   ],
   "id": "3e9fbb6a3cb239c7",
   "outputs": [
    {
     "name": "stdout",
     "output_type": "stream",
     "text": [
      "A B C D E F G H I J K L M N O P Q R S T U V W X Y Z "
     ]
    }
   ],
   "execution_count": 7
  },
  {
   "metadata": {
    "ExecuteTime": {
     "end_time": "2024-04-17T03:41:38.278198Z",
     "start_time": "2024-04-17T03:41:38.262194Z"
    }
   },
   "cell_type": "code",
   "source": [
    "def Alphabets():\n",
    "   for i in range(65, 91):\n",
    "       yield chr(i)\n",
    "my_letters = Alphabets()\n",
    "for letter in my_letters:\n",
    "   print(letter, end=\" \")"
   ],
   "id": "9cd2c375a9186f73",
   "outputs": [
    {
     "name": "stdout",
     "output_type": "stream",
     "text": [
      "A B C D E F G H I J K L M N O P Q R S T U V W X Y Z "
     ]
    }
   ],
   "execution_count": 5
  },
  {
   "metadata": {},
   "cell_type": "markdown",
   "source": [
    "# 4. Generator adalah iterator didalam python\n",
    "\n",
    "Di python generator adalah iterator. Faktanya ini buktikan dengan Generators adalah subclass dari iterator.\n",
    "\n"
   ],
   "id": "71ad213d893cc61d"
  },
  {
   "metadata": {
    "ExecuteTime": {
     "end_time": "2024-04-17T04:49:23.207330Z",
     "start_time": "2024-04-17T04:49:23.202321Z"
    }
   },
   "cell_type": "code",
   "source": [
    "from collections.abc import Generator, Iterator\n",
    "print(issubclass(Generator, Iterator))"
   ],
   "id": "8d91f3f3e316b35c",
   "outputs": [
    {
     "name": "stdout",
     "output_type": "stream",
     "text": [
      "True\n"
     ]
    }
   ],
   "execution_count": 2
  },
  {
   "metadata": {},
   "cell_type": "markdown",
   "source": [
    "# 5. Use-Cases of Generators and Iterators in python\n",
    "\n",
    "Iterator sebagian besar digunakan untuk mengonversi iterable dan mengulangi iterable tersebut, tetapi generator sebagian besar digunakan untuk membuat iterator dan menghasilkan nilai baru dalam satu loop tanpa mengganggu iterasi loop tersebut."
   ],
   "id": "22af1fa9e1b59029"
  },
  {
   "metadata": {},
   "cell_type": "markdown",
   "source": [
    "# 6. Summary Generators & Iterators\n",
    "\n",
    "<center><img height=\"300\" src=\"image/summary-iterator-generator.jpg\" width=\"600\"/></center>"
   ],
   "id": "3a3215207d1a6d34"
  },
  {
   "metadata": {},
   "cell_type": "markdown",
   "source": [
    "# 7. Passing all value in Iterable\n",
    "Function `all()` or `any()` adalah fungsi yang dapat mengecek setiap value didadalam iterable apakah true atau false.\n",
    "\n",
    "keyword all() digunakan untuk memastikan setiap value bernilai true\n",
    "keyword any() digunakan untuk memastikan paling tidak terdapat nilai yang true\n",
    "\n",
    "<a href=\"https://stackoverflow.com/questions/57045308/passing-generator-expressions-to-any-and-all\">source</a>\n"
   ],
   "id": "5bdaa71afacf1032"
  },
  {
   "metadata": {
    "ExecuteTime": {
     "end_time": "2024-04-17T05:00:49.945634Z",
     "start_time": "2024-04-17T05:00:49.931002Z"
    }
   },
   "cell_type": "code",
   "source": "bools = (b for b in (True, False, True, True))",
   "id": "5eac1240ab02386a",
   "outputs": [],
   "execution_count": 3
  },
  {
   "metadata": {
    "ExecuteTime": {
     "end_time": "2024-04-17T05:00:59.601502Z",
     "start_time": "2024-04-17T05:00:59.588498Z"
    }
   },
   "cell_type": "code",
   "source": "any(bools)\n",
   "id": "f2d919e16ac52179",
   "outputs": [
    {
     "data": {
      "text/plain": [
       "True"
      ]
     },
     "execution_count": 4,
     "metadata": {},
     "output_type": "execute_result"
    }
   ],
   "execution_count": 4
  },
  {
   "metadata": {
    "ExecuteTime": {
     "end_time": "2024-04-17T05:01:04.015065Z",
     "start_time": "2024-04-17T05:01:04.005529Z"
    }
   },
   "cell_type": "code",
   "source": "all(bools)",
   "id": "db9e1d58f8869cf8",
   "outputs": [
    {
     "data": {
      "text/plain": [
       "False"
      ]
     },
     "execution_count": 5,
     "metadata": {},
     "output_type": "execute_result"
    }
   ],
   "execution_count": 5
  },
  {
   "metadata": {
    "ExecuteTime": {
     "end_time": "2024-04-17T05:02:14.280938Z",
     "start_time": "2024-04-17T05:02:14.262169Z"
    }
   },
   "cell_type": "code",
   "source": [
    "class Alphabets:\n",
    "  def __iter__(self):\n",
    "      self.val = 65\n",
    "      return self\n",
    "  def __next__(self):\n",
    "      if self.val > 90:\n",
    "          raise StopIteration\n",
    "      temp = self.val\n",
    "      self.val += 1\n",
    "      return chr(temp)\n",
    "my_letters = Alphabets()\n",
    "my_iterator = iter(my_letters)\n",
    "for letter in my_iterator:\n",
    "   print(letter, end = \" \")"
   ],
   "id": "10e3eb6a6b602296",
   "outputs": [
    {
     "name": "stdout",
     "output_type": "stream",
     "text": [
      "A B C D E F G H I J K L M N O P Q R S T U V W X Y Z "
     ]
    }
   ],
   "execution_count": 10
  },
  {
   "metadata": {
    "ExecuteTime": {
     "end_time": "2024-04-17T05:02:14.973441Z",
     "start_time": "2024-04-17T05:02:14.954975Z"
    }
   },
   "cell_type": "code",
   "source": "print(all(my_iterator),any(my_iterator))",
   "id": "37ed8e601f7c2ae",
   "outputs": [
    {
     "name": "stdout",
     "output_type": "stream",
     "text": [
      "True True\n"
     ]
    }
   ],
   "execution_count": 11
  },
  {
   "metadata": {
    "ExecuteTime": {
     "end_time": "2024-04-17T05:02:27.823394Z",
     "start_time": "2024-04-17T05:02:27.778328Z"
    }
   },
   "cell_type": "code",
   "source": [
    "def Alphabets():\n",
    "   for i in range(65, 91):\n",
    "       yield chr(i)\n",
    "my_letters = Alphabets()\n",
    "for letter in my_letters:\n",
    "   print(letter, end=\" \")"
   ],
   "id": "dfd94471b6834262",
   "outputs": [
    {
     "name": "stdout",
     "output_type": "stream",
     "text": [
      "A B C D E F G H I J K L M N O P Q R S T U V W X Y Z "
     ]
    }
   ],
   "execution_count": 12
  },
  {
   "metadata": {
    "ExecuteTime": {
     "end_time": "2024-04-17T05:02:28.602981Z",
     "start_time": "2024-04-17T05:02:28.595652Z"
    }
   },
   "cell_type": "code",
   "source": "print(all(my_letters),any(my_letters))",
   "id": "6247f7f56e652e0a",
   "outputs": [
    {
     "name": "stdout",
     "output_type": "stream",
     "text": [
      "True False\n"
     ]
    }
   ],
   "execution_count": 13
  }
 ],
 "metadata": {
  "kernelspec": {
   "display_name": "Python 3",
   "language": "python",
   "name": "python3"
  },
  "language_info": {
   "codemirror_mode": {
    "name": "ipython",
    "version": 2
   },
   "file_extension": ".py",
   "mimetype": "text/x-python",
   "name": "python",
   "nbconvert_exporter": "python",
   "pygments_lexer": "ipython2",
   "version": "2.7.6"
  }
 },
 "nbformat": 4,
 "nbformat_minor": 5
}
