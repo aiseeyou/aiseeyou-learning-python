{
 "cells": [
  {
   "cell_type": "markdown",
   "id": "5bf93c54bb8251d2",
   "metadata": {},
   "source": [
    "# Iterators vs Generators in Python\n",
    "<center><img height=\"400\" src=\"image/iterators-generators.jpeg\" width=\"600\"/></center>\n",
    "\n",
    "Iterator dan Generator memiliki tujuan yang serupa namun bentuk yang berbeda. Keduanya sama-sama formula untuk mengiterasi data, namun pada iterator memiliki bentuk sebagai object (classes) sedangkan generator berbentuk function.\n",
    "\n",
    "<a href=\"https://pythongeeks.org/python-generators-vs-iterators/\">source</a>"
   ]
  },
  {
   "cell_type": "markdown",
   "id": "779ab8350a6458fe",
   "metadata": {},
   "source": [
    "# 1. Iterators\n",
    "\n",
    "Objek python yang melakukan iterasi melalui objek yang dapat diiterasi disebut sebagai iterator.\n",
    "\n",
    "Iterator dapat dibuat menggunakan `iter()` function, fungsi `next()` digunakan untuk mendapatkan nilai selanjutnya dari sebuah iterator.\n"
   ]
  },
  {
   "cell_type": "code",
   "execution_count": 5,
   "id": "f9db98218d588204",
   "metadata": {
    "ExecuteTime": {
     "end_time": "2024-06-04T07:13:23.203684Z",
     "start_time": "2024-06-04T07:13:23.195796Z"
    }
   },
   "outputs": [
    {
     "name": "stdout",
     "output_type": "stream",
     "text": [
      "-9\n",
      "2\n",
      "3\n",
      "4\n"
     ]
    }
   ],
   "source": [
    "nums = [1, 2, 3, 4]\n",
    "obj = iter(nums)\n",
    "print(next(obj))\n",
    "print(next(obj))\n",
    "print(next(obj))\n",
    "print(next(obj))"
   ]
  },
  {
   "cell_type": "markdown",
   "id": "76471dca550dd409",
   "metadata": {},
   "source": [
    "# 2. Generators\n",
    "\n",
    "Sebuah Generator memiliki type function yang mengembalikan objek generator, sehingga generator dapat mengembalikan nilai yang berurutan daripada menghasilkan hasil tunggal yang selalu sama. Umumnya `def` keyword digunakan untuk mendefinisikan sebuah generator dan paling tidak sebuah `yield` statement digunakan pada sebuah generator."
   ]
  },
  {
   "cell_type": "code",
   "execution_count": 11,
   "id": "739eb5aeef6b2c04",
   "metadata": {
    "ExecuteTime": {
     "end_time": "2024-06-04T07:15:52.183143Z",
     "start_time": "2024-06-04T07:15:52.177067Z"
    }
   },
   "outputs": [
    {
     "name": "stdout",
     "output_type": "stream",
     "text": [
      "1\n",
      "2\n",
      "3\n",
      "4\n"
     ]
    }
   ],
   "source": [
    "def nums():\n",
    "   for i in range(1, 5):\n",
    "       yield i\n",
    "\n",
    "obj = nums()\n",
    "print(next(obj))\n",
    "print(next(obj))\n",
    "print(next(obj))\n",
    "print(next(obj))"
   ]
  },
  {
   "cell_type": "markdown",
   "id": "5bd629417d3745ab",
   "metadata": {},
   "source": [
    "# 3. Iterators Vs Generators\n",
    "\n",
    "Iterators are created using classes whereas generators are created using functions."
   ]
  },
  {
   "cell_type": "code",
   "execution_count": 12,
   "id": "3e9fbb6a3cb239c7",
   "metadata": {
    "ExecuteTime": {
     "end_time": "2024-06-04T07:16:19.163734Z",
     "start_time": "2024-06-04T07:16:19.146758Z"
    }
   },
   "outputs": [
    {
     "name": "stdout",
     "output_type": "stream",
     "text": [
      "A B C D E F G H I J K L M N O P Q R S T U V W X Y Z "
     ]
    }
   ],
   "source": [
    "class Alphabets:\n",
    "  def __iter__(self):\n",
    "      self.val = 65\n",
    "      return self\n",
    "  def __next__(self):\n",
    "      if self.val > 90:\n",
    "          raise StopIteration\n",
    "      temp = self.val\n",
    "      self.val += 1\n",
    "      return chr(temp)\n",
    "my_letters = Alphabets()\n",
    "my_iterator = iter(my_letters)\n",
    "for letter in my_iterator:\n",
    "   print(letter, end = \" \")"
   ]
  },
  {
   "cell_type": "code",
   "execution_count": 14,
   "id": "9cd2c375a9186f73",
   "metadata": {
    "ExecuteTime": {
     "end_time": "2024-06-04T07:17:08.313800Z",
     "start_time": "2024-06-04T07:17:08.297267Z"
    }
   },
   "outputs": [
    {
     "name": "stdout",
     "output_type": "stream",
     "text": [
      "A B C D E F G H I J K L M N O P Q R S T U V W X Y Z "
     ]
    }
   ],
   "source": [
    "def Alphabets():\n",
    "   for i in range(65, 91):\n",
    "       yield chr(i)\n",
    "my_letters = Alphabets()\n",
    "for letter in my_letters:\n",
    "   print(letter, end=\" \")"
   ]
  },
  {
   "cell_type": "markdown",
   "id": "71ad213d893cc61d",
   "metadata": {},
   "source": [
    "# 4. Generator adalah iterator didalam python\n",
    "\n",
    "Di python generator adalah iterator. Faktanya ini buktikan dengan Generators adalah subclass dari iterator.\n",
    "\n"
   ]
  },
  {
   "cell_type": "code",
   "execution_count": 15,
   "id": "8d91f3f3e316b35c",
   "metadata": {
    "ExecuteTime": {
     "end_time": "2024-06-04T07:18:32.213916Z",
     "start_time": "2024-06-04T07:18:32.209558Z"
    }
   },
   "outputs": [
    {
     "name": "stdout",
     "output_type": "stream",
     "text": [
      "True\n"
     ]
    }
   ],
   "source": [
    "from collections.abc import Generator, Iterator\n",
    "print(issubclass(Generator, Iterator))"
   ]
  },
  {
   "cell_type": "markdown",
   "id": "22af1fa9e1b59029",
   "metadata": {},
   "source": [
    "# 5. Use-Cases of Generators and Iterators in python\n",
    "\n",
    "Iterator sebagian besar digunakan untuk mengonversi iterable dan mengulangi iterable tersebut, tetapi generator sebagian besar digunakan untuk membuat iterator dan menghasilkan nilai baru dalam satu loop tanpa mengganggu iterasi loop tersebut."
   ]
  },
  {
   "cell_type": "markdown",
   "id": "3a3215207d1a6d34",
   "metadata": {},
   "source": [
    "# 6. Summary Generators & Iterators\n",
    "\n",
    "<center><img height=\"300\" src=\"image/summary-iterator-generator.jpg\" width=\"600\"/></center>"
   ]
  },
  {
   "cell_type": "markdown",
   "id": "5bdaa71afacf1032",
   "metadata": {},
   "source": [
    "# 7. Passing all value in Iterable\n",
    "Function `all()` or `any()` adalah fungsi yang dapat mengecek setiap value didadalam iterable apakah true atau false.\n",
    "\n",
    "keyword all() digunakan untuk memastikan setiap value bernilai true\n",
    "keyword any() digunakan untuk memastikan paling tidak terdapat nilai yang true\n",
    "\n",
    "<a href=\"https://stackoverflow.com/questions/57045308/passing-generator-expressions-to-any-and-all\">source</a>\n"
   ]
  },
  {
   "cell_type": "code",
   "execution_count": 17,
   "id": "5eac1240ab02386a",
   "metadata": {
    "ExecuteTime": {
     "end_time": "2024-06-04T07:24:05.068892Z",
     "start_time": "2024-06-04T07:24:05.060669Z"
    }
   },
   "outputs": [],
   "source": [
    "bools = (b for b in (True, False, True, True))"
   ]
  },
  {
   "cell_type": "code",
   "execution_count": 18,
   "id": "f2d919e16ac52179",
   "metadata": {
    "ExecuteTime": {
     "end_time": "2024-06-04T07:24:05.469788Z",
     "start_time": "2024-06-04T07:24:05.457089Z"
    }
   },
   "outputs": [
    {
     "data": {
      "text/plain": [
       "True"
      ]
     },
     "execution_count": 18,
     "metadata": {},
     "output_type": "execute_result"
    }
   ],
   "source": [
    "any(bools)"
   ]
  },
  {
   "cell_type": "code",
   "execution_count": 19,
   "id": "db9e1d58f8869cf8",
   "metadata": {
    "ExecuteTime": {
     "end_time": "2024-06-04T07:24:06.682496Z",
     "start_time": "2024-06-04T07:24:06.667758Z"
    }
   },
   "outputs": [
    {
     "data": {
      "text/plain": [
       "False"
      ]
     },
     "execution_count": 19,
     "metadata": {},
     "output_type": "execute_result"
    }
   ],
   "source": [
    "all(bools)"
   ]
  },
  {
   "cell_type": "code",
   "execution_count": 10,
   "id": "10e3eb6a6b602296",
   "metadata": {
    "ExecuteTime": {
     "end_time": "2024-04-17T05:02:14.280938Z",
     "start_time": "2024-04-17T05:02:14.262169Z"
    }
   },
   "outputs": [
    {
     "name": "stdout",
     "output_type": "stream",
     "text": [
      "A B C D E F G H I J K L M N O P Q R S T U V W X Y Z "
     ]
    }
   ],
   "source": [
    "class Alphabets:\n",
    "  def __iter__(self):\n",
    "      self.val = 65\n",
    "      return self\n",
    "  def __next__(self):\n",
    "      if self.val > 90:\n",
    "          raise StopIteration\n",
    "      temp = self.val\n",
    "      self.val += 1\n",
    "      return chr(temp)\n",
    "my_letters = Alphabets()\n",
    "my_iterator = iter(my_letters)\n",
    "for letter in my_iterator:\n",
    "   print(letter, end = \" \")"
   ]
  },
  {
   "cell_type": "code",
   "execution_count": 23,
   "id": "bfad446bd998f083",
   "metadata": {
    "ExecuteTime": {
     "end_time": "2024-06-04T07:26:00.897670Z",
     "start_time": "2024-06-04T07:26:00.892786Z"
    }
   },
   "outputs": [
    {
     "name": "stdout",
     "output_type": "stream",
     "text": [
      "False True\n",
      "True False\n",
      "False True\n"
     ]
    }
   ],
   "source": [
    "print(bool(''),bool('s'))\n",
    "print(bool(1),bool(0))\n",
    "print(bool(None),bool(my_letters))"
   ]
  },
  {
   "cell_type": "code",
   "execution_count": 24,
   "id": "37ed8e601f7c2ae",
   "metadata": {
    "ExecuteTime": {
     "end_time": "2024-06-04T07:27:11.549418Z",
     "start_time": "2024-06-04T07:27:11.543313Z"
    }
   },
   "outputs": [
    {
     "name": "stdout",
     "output_type": "stream",
     "text": [
      "True True\n"
     ]
    }
   ],
   "source": [
    "print(all(my_iterator),any(my_iterator))"
   ]
  },
  {
   "cell_type": "code",
   "execution_count": 12,
   "id": "dfd94471b6834262",
   "metadata": {
    "ExecuteTime": {
     "end_time": "2024-04-17T05:02:27.823394Z",
     "start_time": "2024-04-17T05:02:27.778328Z"
    }
   },
   "outputs": [
    {
     "name": "stdout",
     "output_type": "stream",
     "text": [
      "A B C D E F G H I J K L M N O P Q R S T U V W X Y Z "
     ]
    }
   ],
   "source": [
    "def Alphabets():\n",
    "   for i in range(65, 91):\n",
    "       yield chr(i)\n",
    "my_letters = Alphabets()\n",
    "for letter in my_letters:\n",
    "   print(letter, end=\" \")"
   ]
  },
  {
   "cell_type": "code",
   "execution_count": 13,
   "id": "6247f7f56e652e0a",
   "metadata": {
    "ExecuteTime": {
     "end_time": "2024-04-17T05:02:28.602981Z",
     "start_time": "2024-04-17T05:02:28.595652Z"
    }
   },
   "outputs": [
    {
     "name": "stdout",
     "output_type": "stream",
     "text": [
      "True False\n"
     ]
    }
   ],
   "source": [
    "print(all(my_letters),any(my_letters))"
   ]
  }
 ],
 "metadata": {
  "kernelspec": {
   "display_name": "Python 3 (ipykernel)",
   "language": "python",
   "name": "python3"
  },
  "language_info": {
   "codemirror_mode": {
    "name": "ipython",
    "version": 3
   },
   "file_extension": ".py",
   "mimetype": "text/x-python",
   "name": "python",
   "nbconvert_exporter": "python",
   "pygments_lexer": "ipython3",
   "version": "3.9.7"
  }
 },
 "nbformat": 4,
 "nbformat_minor": 5
}
