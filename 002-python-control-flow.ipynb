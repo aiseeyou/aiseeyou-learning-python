{
 "cells": [
  {
   "cell_type": "markdown",
   "source": [
    "# PYTHON CONTROL FLOW"
   ],
   "metadata": {
    "collapsed": false
   },
   "id": "b84f3d9fa03a3480"
  },
  {
   "cell_type": "markdown",
   "source": [
    "Control flow is the order in which individual statements, instructions, or function calls are executed or evaluated. The control flow of a Python program is regulated by conditional statements, loops, and function calls. <a href=\"https://www.pythoncheatsheet.org/cheatsheet/control-flow\">source</a>"
   ],
   "metadata": {
    "collapsed": false
   },
   "id": "e1b132ab798d317e"
  },
  {
   "cell_type": "markdown",
   "source": [
    "## 1. If Statement"
   ],
   "metadata": {
    "collapsed": false
   },
   "id": "f3dba11b0b3216db"
  },
  {
   "cell_type": "markdown",
   "source": [
    "### The if statement evaluates an expression, and if that expression is True, it then executes the following indented code."
   ],
   "metadata": {
    "collapsed": false
   },
   "id": "e93ff3c9c46b2b77"
  },
  {
   "cell_type": "code",
   "outputs": [
    {
     "name": "stdout",
     "output_type": "stream",
     "text": [
      "selamat datang di aiseeyou\n",
      "ini bukan di aiseeyou\n"
     ]
    }
   ],
   "source": [
    "company = \"aiseeyou\"\n",
    "\n",
    "if company == \"aiseeyou\":\n",
    "    print('selamat datang di aiseeyou')\n",
    "    \n",
    "if company != \"universitas indonesia\":\n",
    "    print('ini bukan di aiseeyou')"
   ],
   "metadata": {
    "collapsed": false,
    "ExecuteTime": {
     "end_time": "2024-03-24T18:02:30.119692100Z",
     "start_time": "2024-03-24T18:02:30.093446100Z"
    }
   },
   "id": "a606546ffe474fa9",
   "execution_count": 9
  },
  {
   "cell_type": "markdown",
   "source": [
    "### The else statement executes only if the evaluation of the if and all the elif expressions are False"
   ],
   "metadata": {
    "collapsed": false
   },
   "id": "66fe7107cd09af58"
  },
  {
   "cell_type": "code",
   "outputs": [
    {
     "name": "stdout",
     "output_type": "stream",
     "text": [
      "ini bukan di universitas indonesia\n"
     ]
    }
   ],
   "source": [
    "company = \"aiseeyou\"\n",
    "\n",
    "if company == \"universitas indonesia\":\n",
    "     print('selamat datang di universitas indonesia')\n",
    "else:\n",
    "    print('ini bukan di universitas indonesia')"
   ],
   "metadata": {
    "collapsed": false,
    "ExecuteTime": {
     "end_time": "2024-03-24T18:04:38.036190600Z",
     "start_time": "2024-03-24T18:04:38.015728400Z"
    }
   },
   "id": "6770b06e1a1b04f8",
   "execution_count": 10
  },
  {
   "cell_type": "markdown",
   "source": [
    "### Only after the if statement expression is False, the elif statement is evaluated and executed\n"
   ],
   "metadata": {
    "collapsed": false
   },
   "id": "ab4aa2bf8e230548"
  },
  {
   "cell_type": "code",
   "outputs": [
    {
     "name": "stdout",
     "output_type": "stream",
     "text": [
      "selamat datang di universitas indonesia\n"
     ]
    }
   ],
   "source": [
    "company = \"universitas indonesia\"\n",
    "\n",
    "if company == \"aiseeyou\":\n",
    "     print('selamat datang di aiseeyou')\n",
    "elif company == \"universitas indonesia\":\n",
    "    print('selamat datang di universitas indonesia')"
   ],
   "metadata": {
    "collapsed": false,
    "ExecuteTime": {
     "end_time": "2024-03-24T18:06:19.230136900Z",
     "start_time": "2024-03-24T18:06:19.218615400Z"
    }
   },
   "id": "368288c04533f504",
   "execution_count": 11
  },
  {
   "cell_type": "markdown",
   "source": [
    "### the elif and else parts are optional."
   ],
   "metadata": {
    "collapsed": false
   },
   "id": "abb335524b13e953"
  },
  {
   "cell_type": "code",
   "outputs": [
    {
     "name": "stdout",
     "output_type": "stream",
     "text": [
      "ini dimana?\n"
     ]
    }
   ],
   "source": [
    "company = \"universitas islam indonesia\"\n",
    "\n",
    "if company == \"aiseeyou\":\n",
    "     print('selamat datang di aiseeyou')\n",
    "elif company == \"universitas indonesia\":\n",
    "    print('selamat datang di universitas indonesia')\n",
    "else:\n",
    "    print('ini dimana?')"
   ],
   "metadata": {
    "collapsed": false,
    "ExecuteTime": {
     "end_time": "2024-03-24T18:07:17.542532400Z",
     "start_time": "2024-03-24T18:07:17.524431Z"
    }
   },
   "id": "cfd6ea5c283f6878",
   "execution_count": 12
  },
  {
   "cell_type": "markdown",
   "source": [
    "## 2. While Loop"
   ],
   "metadata": {
    "collapsed": false
   },
   "id": "d7fb557affc1c2dc"
  },
  {
   "cell_type": "markdown",
   "source": [
    "The while statement is used for repeated execution as long as an expression is True"
   ],
   "metadata": {
    "collapsed": false
   },
   "id": "5acf05169aa3dfaa"
  },
  {
   "cell_type": "code",
   "outputs": [
    {
     "name": "stdout",
     "output_type": "stream",
     "text": [
      "hello world\n",
      "hello world\n",
      "hello world\n",
      "hello world\n",
      "hello world\n"
     ]
    }
   ],
   "source": [
    "counter = 0\n",
    "while counter < 5:\n",
    "    print('hello world')\n",
    "    counter +=1"
   ],
   "metadata": {
    "collapsed": false,
    "ExecuteTime": {
     "end_time": "2024-03-24T20:57:33.781798Z",
     "start_time": "2024-03-24T20:57:33.761784Z"
    }
   },
   "id": "191e835704e19249",
   "execution_count": 1
  },
  {
   "cell_type": "markdown",
   "source": [
    "## 3. For Loop"
   ],
   "metadata": {
    "collapsed": false
   },
   "id": "85239e52e9599fe9"
  },
  {
   "cell_type": "markdown",
   "source": [
    "The for loop iterates over a list, tuple, dictionary, set or string:"
   ],
   "metadata": {
    "collapsed": false
   },
   "id": "41d3bb63d31e9a07"
  },
  {
   "cell_type": "code",
   "outputs": [
    {
     "name": "stdout",
     "output_type": "stream",
     "text": [
      "apple\n",
      "banana\n",
      "orange\n"
     ]
    }
   ],
   "source": [
    "fruits = ['apple','banana','orange']\n",
    "for fruit in fruits:\n",
    "    print(fruit)"
   ],
   "metadata": {
    "collapsed": false,
    "ExecuteTime": {
     "end_time": "2024-03-24T20:59:14.915148Z",
     "start_time": "2024-03-24T20:59:14.901512Z"
    }
   },
   "id": "da44e563c3c42b5a",
   "execution_count": 2
  },
  {
   "cell_type": "markdown",
   "source": [
    "## 4. Range Statement"
   ],
   "metadata": {
    "collapsed": false
   },
   "id": "2a72a457ed82e81a"
  },
  {
   "cell_type": "markdown",
   "source": [
    "The range() function returns a sequence of numbers. It starts from 0, increments by 1, and stops before a specified number:"
   ],
   "metadata": {
    "collapsed": false
   },
   "id": "8193bc93e50f4643"
  },
  {
   "cell_type": "code",
   "outputs": [
    {
     "name": "stdout",
     "output_type": "stream",
     "text": [
      "hello world 0\n",
      "hello world 1\n",
      "hello world 2\n",
      "hello world 3\n",
      "hello world 4\n"
     ]
    }
   ],
   "source": [
    "for i in range(5):\n",
    "    print('hello world {}'.format(i))"
   ],
   "metadata": {
    "collapsed": false,
    "ExecuteTime": {
     "end_time": "2024-03-24T21:00:29.969766Z",
     "start_time": "2024-03-24T21:00:29.957007Z"
    }
   },
   "id": "7b1925f0ecfa303b",
   "execution_count": 3
  },
  {
   "cell_type": "markdown",
   "source": [
    "The range() function can also modify its 3 defaults arguments. The first two will be the start and stop values, and the third will be the step argument. The step is the amount that the variable is increased by after each iteration."
   ],
   "metadata": {
    "collapsed": false
   },
   "id": "3c03132893502727"
  },
  {
   "cell_type": "code",
   "outputs": [
    {
     "name": "stdout",
     "output_type": "stream",
     "text": [
      "hello world 0\n",
      "hello world 2\n",
      "hello world 4\n",
      "hello world 6\n",
      "hello world 8\n"
     ]
    }
   ],
   "source": [
    "for i in range(0,10,2):\n",
    "    print('hello world {}'.format(i))"
   ],
   "metadata": {
    "collapsed": false,
    "ExecuteTime": {
     "end_time": "2024-03-24T21:02:07.119956Z",
     "start_time": "2024-03-24T21:02:07.112007Z"
    }
   },
   "id": "47f3c40fc22a85cd",
   "execution_count": 4
  },
  {
   "cell_type": "markdown",
   "source": [
    "You can even use a negative number for the step argument to make the for loop count down instead of up."
   ],
   "metadata": {
    "collapsed": false
   },
   "id": "3e53343554f9aa08"
  },
  {
   "cell_type": "code",
   "outputs": [
    {
     "name": "stdout",
     "output_type": "stream",
     "text": [
      "hello world 5\n",
      "hello world 4\n",
      "hello world 3\n",
      "hello world 2\n",
      "hello world 1\n",
      "hello world 0\n"
     ]
    }
   ],
   "source": [
    "for i in range(5,-1,-1):\n",
    "    print('hello world {}'.format(i))"
   ],
   "metadata": {
    "collapsed": false,
    "ExecuteTime": {
     "end_time": "2024-03-24T21:03:00.064450Z",
     "start_time": "2024-03-24T21:03:00.046464Z"
    }
   },
   "id": "8b206f57578f69c9",
   "execution_count": 5
  },
  {
   "cell_type": "markdown",
   "source": [
    "## 5. Break and Continue"
   ],
   "metadata": {
    "collapsed": false
   },
   "id": "1aa1131d1f453ea1"
  },
  {
   "cell_type": "markdown",
   "source": [
    "This allows to specify a statement to execute in case of the full loop has been executed. Only useful when a break condition can occur in the loop"
   ],
   "metadata": {
    "collapsed": false
   },
   "id": "1a824e6f02798b8d"
  },
  {
   "cell_type": "code",
   "outputs": [
    {
     "name": "stdout",
     "output_type": "stream",
     "text": [
      "hello world 1\n",
      "hello world 2\n",
      "hello world 3\n"
     ]
    }
   ],
   "source": [
    "for i in [1, 2, 3, 4, 5]:\n",
    "    if i == 4:\n",
    "        break\n",
    "    else:\n",
    "        print('hello world {}'.format(i))"
   ],
   "metadata": {
    "collapsed": false,
    "ExecuteTime": {
     "end_time": "2024-03-24T21:06:05.056148Z",
     "start_time": "2024-03-24T21:06:05.039629Z"
    }
   },
   "id": "eca88f6fd2300978",
   "execution_count": 6
  },
  {
   "cell_type": "markdown",
   "source": [
    "When the program execution reaches a continue statement, the program execution immediately jumps back to the start of the loop"
   ],
   "metadata": {
    "collapsed": false
   },
   "id": "b68ae1429a248d12"
  },
  {
   "cell_type": "code",
   "outputs": [],
   "source": [
    "while True:\n",
    "    place = input('Where are you?')\n",
    "    if place != 'Aiseeyou Office':\n",
    "        continue\n",
    "    name = input('Who are you?')\n",
    "    if name in ['hamid','ashar','ryan']:\n",
    "        break\n",
    "print('Access granted.')"
   ],
   "metadata": {
    "collapsed": false,
    "ExecuteTime": {
     "end_time": "2024-03-24T21:09:55.837821Z",
     "start_time": "2024-03-24T21:09:16.049924Z"
    }
   },
   "id": "c8e7a0053658408e",
   "execution_count": 7
  },
  {
   "cell_type": "markdown",
   "source": [
    "## 6. Assert"
   ],
   "metadata": {
    "collapsed": false
   },
   "id": "cc4b6f8f628669f"
  },
  {
   "cell_type": "markdown",
   "source": [
    "The assert keyword is used when debugging code.\n",
    "\n",
    "The assert keyword lets you test if a condition in your code returns True, if not, the program will raise an AssertionError. <a href=\"https://w3schools.com/python/ref_keyword_assert.asp\">source</a>"
   ],
   "metadata": {
    "collapsed": false
   },
   "id": "894abd538720fcb0"
  },
  {
   "cell_type": "code",
   "outputs": [
    {
     "ename": "AssertionError",
     "evalue": "x should be 'hello'",
     "output_type": "error",
     "traceback": [
      "\u001B[1;31m---------------------------------------------------------------------------\u001B[0m",
      "\u001B[1;31mAssertionError\u001B[0m                            Traceback (most recent call last)",
      "Cell \u001B[1;32mIn[8], line 4\u001B[0m\n\u001B[0;32m      1\u001B[0m x \u001B[38;5;241m=\u001B[39m \u001B[38;5;124m\"\u001B[39m\u001B[38;5;124mhello\u001B[39m\u001B[38;5;124m\"\u001B[39m\n\u001B[0;32m      3\u001B[0m \u001B[38;5;66;03m#if condition returns False, AssertionError is raised:\u001B[39;00m\n\u001B[1;32m----> 4\u001B[0m \u001B[38;5;28;01massert\u001B[39;00m x \u001B[38;5;241m==\u001B[39m \u001B[38;5;124m\"\u001B[39m\u001B[38;5;124mgoodbye\u001B[39m\u001B[38;5;124m\"\u001B[39m, \u001B[38;5;124m\"\u001B[39m\u001B[38;5;124mx should be \u001B[39m\u001B[38;5;124m'\u001B[39m\u001B[38;5;124mhello\u001B[39m\u001B[38;5;124m'\u001B[39m\u001B[38;5;124m\"\u001B[39m\n",
      "\u001B[1;31mAssertionError\u001B[0m: x should be 'hello'"
     ]
    }
   ],
   "source": [
    "x = \"hello\"\n",
    "\n",
    "#if condition returns False, AssertionError is raised:\n",
    "assert x == \"goodbye\", \"x should be 'hello'\""
   ],
   "metadata": {
    "collapsed": false,
    "ExecuteTime": {
     "end_time": "2024-03-24T21:13:44.050613Z",
     "start_time": "2024-03-24T21:13:43.725303Z"
    }
   },
   "id": "172273fee9765c4b",
   "execution_count": 8
  },
  {
   "cell_type": "markdown",
   "source": [
    "## 7. Example For Looping"
   ],
   "metadata": {
    "collapsed": false
   },
   "id": "bc968eda67ddeba4"
  },
  {
   "cell_type": "code",
   "outputs": [
    {
     "name": "stdout",
     "output_type": "stream",
     "text": [
      "Access granted.\n"
     ]
    }
   ],
   "source": [
    "while True:\n",
    "    place = input('Where are you?')\n",
    "    if place != 'Aiseeyou Office':\n",
    "        continue\n",
    "    name = input('Who are you?')\n",
    "    assert name not in ['hamid','ashar','ryan'], \"Access invalid.\" \n",
    "    print('Access granted.')\n",
    "    break"
   ],
   "metadata": {
    "collapsed": false,
    "ExecuteTime": {
     "end_time": "2024-03-24T21:24:08.103110Z",
     "start_time": "2024-03-24T21:23:45.594875Z"
    }
   },
   "id": "db2f00e3e540d9e",
   "execution_count": 2
  }
 ],
 "metadata": {
  "kernelspec": {
   "display_name": "Python 3",
   "language": "python",
   "name": "python3"
  },
  "language_info": {
   "codemirror_mode": {
    "name": "ipython",
    "version": 2
   },
   "file_extension": ".py",
   "mimetype": "text/x-python",
   "name": "python",
   "nbconvert_exporter": "python",
   "pygments_lexer": "ipython2",
   "version": "2.7.6"
  }
 },
 "nbformat": 4,
 "nbformat_minor": 5
}
