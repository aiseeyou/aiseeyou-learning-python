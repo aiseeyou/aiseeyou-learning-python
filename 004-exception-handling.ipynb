{
 "cells": [
  {
   "cell_type": "markdown",
   "id": "e1f92f194d87589a",
   "metadata": {
    "collapsed": false,
    "jupyter": {
     "outputs_hidden": false
    }
   },
   "source": [
    "# Exception Handling\n",
    "\n",
    "<center><img height=\"400\" src=\"image/error-no-es-fracaso.jpg\" width=\"800\"/></center>\n",
    "\n",
    "The **try** block lets you test a block of code for errors.\n",
    "\n",
    "The **except** block lets you handle the error.\n",
    "\n",
    "The **else** block lets you execute code when there is no error.\n",
    "\n",
    "The **finally** block lets you execute code, regardless of the result of the try- and except blocks.\n",
    "\n",
    "<a href=\"https://www.w3schools.com/python/python_try_except.asp\">source</a>"
   ]
  },
  {
   "cell_type": "markdown",
   "id": "749623e04bca7453",
   "metadata": {
    "collapsed": false,
    "jupyter": {
     "outputs_hidden": false
    }
   },
   "source": [
    "ketika Error terjadi atau kata lain Exception. Python akan menghentikan program dan membuat sebuah pesan eror yang biasanya dimunculkan pada terminal yang mengeksekusi program tersebut. Exception tersebut bisa tangani dengan menggunakan **try** statements."
   ]
  },
  {
   "cell_type": "code",
   "execution_count": 2,
   "id": "5a40ec9c64666f36",
   "metadata": {
    "ExecuteTime": {
     "end_time": "2024-05-21T06:48:24.048913Z",
     "start_time": "2024-05-21T06:48:24.031784Z"
    },
    "collapsed": false,
    "jupyter": {
     "outputs_hidden": false
    }
   },
   "outputs": [
    {
     "name": "stdout",
     "output_type": "stream",
     "text": [
      "An exception occurred\n"
     ]
    }
   ],
   "source": [
    "try:\n",
    "  print(x)\n",
    "except:\n",
    "  print(\"An exception occurred\")"
   ]
  },
  {
   "cell_type": "markdown",
   "id": "fbcabfc8198d1641",
   "metadata": {
    "collapsed": false,
    "jupyter": {
     "outputs_hidden": false
    }
   },
   "source": [
    "Karena x tidak didefinisikan maka ketika block bagian try dijalankan maka akan menghasilkan exception message. artinya block bagian except yang dijalankan saat block bagian try error.\n",
    "\n",
    "Tanpa block bagian try & except maka akan menyebabkan crash pada program dan menghasilkan error"
   ]
  },
  {
   "cell_type": "code",
   "execution_count": 3,
   "id": "180a01d84b810982",
   "metadata": {
    "ExecuteTime": {
     "end_time": "2024-05-21T06:48:40.145955Z",
     "start_time": "2024-05-21T06:48:39.852405Z"
    },
    "collapsed": false,
    "jupyter": {
     "outputs_hidden": false
    }
   },
   "outputs": [
    {
     "ename": "NameError",
     "evalue": "name 'x' is not defined",
     "output_type": "error",
     "traceback": [
      "\u001b[1;31m---------------------------------------------------------------------------\u001b[0m",
      "\u001b[1;31mNameError\u001b[0m                                 Traceback (most recent call last)",
      "Cell \u001b[1;32mIn[3], line 1\u001b[0m\n\u001b[1;32m----> 1\u001b[0m \u001b[38;5;28mprint\u001b[39m(\u001b[43mx\u001b[49m)\n",
      "\u001b[1;31mNameError\u001b[0m: name 'x' is not defined"
     ]
    }
   ],
   "source": [
    "print(x)"
   ]
  },
  {
   "cell_type": "markdown",
   "id": "e0798a1faa1f5060",
   "metadata": {
    "collapsed": false,
    "jupyter": {
     "outputs_hidden": false
    }
   },
   "source": [
    "# Multiple Exception\n",
    "\n",
    "kita juga bisa mendefinisikan exception sebanyak yang kita mau."
   ]
  },
  {
   "cell_type": "code",
   "execution_count": 7,
   "id": "bdacd4e34182e59f",
   "metadata": {
    "ExecuteTime": {
     "end_time": "2024-05-21T06:53:23.404540Z",
     "start_time": "2024-05-21T06:53:23.395010Z"
    },
    "collapsed": false,
    "jupyter": {
     "outputs_hidden": false
    }
   },
   "outputs": [
    {
     "name": "stdout",
     "output_type": "stream",
     "text": [
      "Variable x is not defined\n"
     ]
    }
   ],
   "source": [
    "try:\n",
    "    print(x)\n",
    "except NameError:\n",
    "    print(\"Variable x is not defined\")\n",
    "except:\n",
    "    print(\"Something else went wrong\")"
   ]
  },
  {
   "cell_type": "markdown",
   "id": "bdd168d820a00e78",
   "metadata": {
    "collapsed": false,
    "jupyter": {
     "outputs_hidden": false
    }
   },
   "source": [
    "ketika error yang terjadi **NameError** maka generate error `Variable x is not defined` dan `Something else went wrong` untuk error yang lain"
   ]
  },
  {
   "cell_type": "code",
   "execution_count": 5,
   "id": "657d91d2b1ed7899",
   "metadata": {
    "ExecuteTime": {
     "end_time": "2024-04-13T04:39:24.460359Z",
     "start_time": "2024-04-13T04:39:24.456358Z"
    },
    "collapsed": false,
    "jupyter": {
     "outputs_hidden": false
    }
   },
   "outputs": [
    {
     "name": "stdout",
     "output_type": "stream",
     "text": [
      "Something else went wrong\n"
     ]
    }
   ],
   "source": [
    "try:\n",
    "    print(2/0)\n",
    "except NameError:\n",
    "    print(\"Variable x is not defined\")\n",
    "except:\n",
    "    print(\"Something else went wrong\")"
   ]
  },
  {
   "cell_type": "markdown",
   "id": "b98b7d2a9be44df2",
   "metadata": {
    "collapsed": false,
    "jupyter": {
     "outputs_hidden": false
    }
   },
   "source": [
    "# Else\n",
    "Kita dapat menggunakan `else` keywoard jika block `try-except` yang kita buat tidak terjadi error, untuk dijalankan.\n",
    " "
   ]
  },
  {
   "cell_type": "code",
   "execution_count": 10,
   "id": "c7a7b5f327e24119",
   "metadata": {
    "ExecuteTime": {
     "end_time": "2024-05-21T06:54:42.625647Z",
     "start_time": "2024-05-21T06:54:42.612480Z"
    },
    "collapsed": false,
    "jupyter": {
     "outputs_hidden": false
    }
   },
   "outputs": [
    {
     "name": "stdout",
     "output_type": "stream",
     "text": [
      "Hello\n",
      "Nothing went wrong\n"
     ]
    }
   ],
   "source": [
    "try:\n",
    "  print(\"Hello\")\n",
    "except:\n",
    "  print(\"Something went wrong\")\n",
    "else:\n",
    "  print(\"Nothing went wrong\")"
   ]
  },
  {
   "cell_type": "markdown",
   "id": "2303fd77791e341c",
   "metadata": {
    "collapsed": false,
    "jupyter": {
     "outputs_hidden": false
    }
   },
   "source": [
    "# Finaly\n",
    "Block bagian `finaly` akan dijalankan tidak perduli `try-except` yang dijalankan menghasilkan error atau tidak\n"
   ]
  },
  {
   "cell_type": "code",
   "execution_count": 11,
   "id": "d2f5318862b69fe6",
   "metadata": {
    "ExecuteTime": {
     "end_time": "2024-05-21T06:55:22.032351Z",
     "start_time": "2024-05-21T06:55:22.025699Z"
    },
    "collapsed": false,
    "jupyter": {
     "outputs_hidden": false
    }
   },
   "outputs": [
    {
     "name": "stdout",
     "output_type": "stream",
     "text": [
      "Something went wrong\n",
      "The 'try except' is finished\n"
     ]
    }
   ],
   "source": [
    "try:\n",
    "  print(x)\n",
    "except:\n",
    "  print(\"Something went wrong\")\n",
    "finally:\n",
    "  print(\"The 'try except' is finished\")"
   ]
  },
  {
   "cell_type": "markdown",
   "id": "900d7f8faf4a52a",
   "metadata": {
    "collapsed": false,
    "jupyter": {
     "outputs_hidden": false
    }
   },
   "source": [
    "`finaly` block juga berguna untuk menutup segala object dan membersihkan sumber data "
   ]
  },
  {
   "cell_type": "code",
   "execution_count": 12,
   "id": "b3aee56ced52557f",
   "metadata": {
    "ExecuteTime": {
     "end_time": "2024-04-13T04:45:24.266160Z",
     "start_time": "2024-04-13T04:45:24.254403Z"
    },
    "collapsed": false,
    "jupyter": {
     "outputs_hidden": false
    }
   },
   "outputs": [
    {
     "name": "stdout",
     "output_type": "stream",
     "text": [
      "Something went wrong when opening the file\n"
     ]
    }
   ],
   "source": [
    "try:\n",
    "  f = open(\"demofile.txt\")\n",
    "  try:\n",
    "    f.write(\"Lorum Ipsum\")\n",
    "  except:\n",
    "    print(\"Something went wrong when writing to the file\")\n",
    "  finally:\n",
    "    f.close()\n",
    "except:\n",
    "  print(\"Something went wrong when opening the file\")"
   ]
  },
  {
   "cell_type": "markdown",
   "id": "c27ea736f848a78a",
   "metadata": {
    "collapsed": false,
    "jupyter": {
     "outputs_hidden": false
    }
   },
   "source": [
    "Program dapat berjalan tanpa meninggalkan objek yang masih terbuka."
   ]
  },
  {
   "cell_type": "markdown",
   "id": "2313be57ab5d5eb1",
   "metadata": {
    "collapsed": false,
    "jupyter": {
     "outputs_hidden": false
    }
   },
   "source": [
    "# Raise An Exception\n",
    "\n",
    "Terkadang kita perlu melempar (throw or raise) error yang kita hadapi jika suatu kondisi tertentu terjadi. untuk melakukan itu kita bisa menggunakan keyword `raise`"
   ]
  },
  {
   "cell_type": "code",
   "execution_count": 13,
   "id": "216a35bb8bab8ef2",
   "metadata": {
    "ExecuteTime": {
     "end_time": "2024-04-13T04:50:08.617230Z",
     "start_time": "2024-04-13T04:50:08.600160Z"
    },
    "collapsed": false,
    "jupyter": {
     "outputs_hidden": false
    }
   },
   "outputs": [
    {
     "ename": "Exception",
     "evalue": "Sorry, no numbers below zero",
     "output_type": "error",
     "traceback": [
      "\u001b[1;31m---------------------------------------------------------------------------\u001b[0m",
      "\u001b[1;31mException\u001b[0m                                 Traceback (most recent call last)",
      "Cell \u001b[1;32mIn[13], line 4\u001b[0m\n\u001b[0;32m      1\u001b[0m x \u001b[38;5;241m=\u001b[39m \u001b[38;5;241m-\u001b[39m\u001b[38;5;241m1\u001b[39m\n\u001b[0;32m      3\u001b[0m \u001b[38;5;28;01mif\u001b[39;00m x \u001b[38;5;241m<\u001b[39m \u001b[38;5;241m0\u001b[39m:\n\u001b[1;32m----> 4\u001b[0m   \u001b[38;5;28;01mraise\u001b[39;00m \u001b[38;5;167;01mException\u001b[39;00m(\u001b[38;5;124m\"\u001b[39m\u001b[38;5;124mSorry, no numbers below zero\u001b[39m\u001b[38;5;124m\"\u001b[39m)\n",
      "\u001b[1;31mException\u001b[0m: Sorry, no numbers below zero"
     ]
    }
   ],
   "source": [
    "x = -1\n",
    "\n",
    "if x < 0:\n",
    "  raise Exception(\"Sorry, no numbers below zero\")"
   ]
  },
  {
   "cell_type": "code",
   "execution_count": 13,
   "id": "d74879da9d5e7eac",
   "metadata": {
    "ExecuteTime": {
     "end_time": "2024-05-21T06:58:09.793535Z",
     "start_time": "2024-05-21T06:58:09.729439Z"
    }
   },
   "outputs": [
    {
     "ename": "Exception",
     "evalue": "x gaboleh 0",
     "output_type": "error",
     "traceback": [
      "\u001b[1;31m---------------------------------------------------------------------------\u001b[0m",
      "\u001b[1;31mException\u001b[0m                                 Traceback (most recent call last)",
      "Cell \u001b[1;32mIn[13], line 3\u001b[0m\n\u001b[0;32m      1\u001b[0m x \u001b[38;5;241m=\u001b[39m \u001b[38;5;241m0\u001b[39m\n\u001b[0;32m      2\u001b[0m \u001b[38;5;28;01mif\u001b[39;00m(x\u001b[38;5;241m==\u001b[39m\u001b[38;5;241m0\u001b[39m):\n\u001b[1;32m----> 3\u001b[0m     \u001b[38;5;28;01mraise\u001b[39;00m \u001b[38;5;167;01mException\u001b[39;00m(\u001b[38;5;124m\"\u001b[39m\u001b[38;5;124mx gaboleh 0\u001b[39m\u001b[38;5;124m\"\u001b[39m)\n",
      "\u001b[1;31mException\u001b[0m: x gaboleh 0"
     ]
    }
   ],
   "source": [
    "x = 0\n",
    "if x==0:\n",
    "    raise Exception(\"x gaboleh 0\")"
   ]
  },
  {
   "cell_type": "markdown",
   "id": "c5401d8fa1287d87",
   "metadata": {
    "collapsed": false,
    "jupyter": {
     "outputs_hidden": false
    }
   },
   "source": [
    "# Write Own Exceptions\n",
    "\n",
    "<a href=\"https://stackoverflow.com/questions/1319615/proper-way-to-declare-custom-exceptions-in-modern-python\">source</a>"
   ]
  },
  {
   "cell_type": "code",
   "execution_count": 14,
   "id": "5755eaa62e8647f4",
   "metadata": {
    "ExecuteTime": {
     "end_time": "2024-05-21T07:00:00.705116Z",
     "start_time": "2024-05-21T07:00:00.697217Z"
    },
    "collapsed": false,
    "jupyter": {
     "outputs_hidden": false
    }
   },
   "outputs": [],
   "source": [
    "\n",
    "class CustomExceptionName(Exception):\n",
    "    \"\"\"Still an exception raised when uncommon things happen\"\"\"\n",
    "    def __init__(self, message, payload=None):\n",
    "        self.message = message\n",
    "        self.payload = payload # you could add more args\n",
    "    def __str__(self):\n",
    "        return str(self.message) # __str__() obviously expects a string to be returned, so make sure not to send any other data types"
   ]
  },
  {
   "cell_type": "code",
   "execution_count": 15,
   "id": "e838d61be15b5015",
   "metadata": {
    "ExecuteTime": {
     "end_time": "2024-05-21T07:00:01.293015Z",
     "start_time": "2024-05-21T07:00:01.288480Z"
    },
    "collapsed": false,
    "jupyter": {
     "outputs_hidden": false
    }
   },
   "outputs": [
    {
     "name": "stdout",
     "output_type": "stream",
     "text": [
      "Very bad mistake.\n",
      "Detail: Forgot upgrading from Python 1\n"
     ]
    }
   ],
   "source": [
    " try:\n",
    "    raise CustomExceptionName(\"Very bad mistake.\", \"Forgot upgrading from Python 1\")\n",
    "except CustomExceptionName as error:\n",
    "    print(str(error)) # Very bad mistake\n",
    "    print(\"Detail: {}\".format(error.payload)) # Detail: Forgot upgrading from Python 1"
   ]
  },
  {
   "cell_type": "code",
   "execution_count": null,
   "id": "40d06f5c493c8db1",
   "metadata": {
    "collapsed": false,
    "jupyter": {
     "outputs_hidden": false
    }
   },
   "outputs": [],
   "source": []
  }
 ],
 "metadata": {
  "kernelspec": {
   "display_name": "Python 3 (ipykernel)",
   "language": "python",
   "name": "python3"
  },
  "language_info": {
   "codemirror_mode": {
    "name": "ipython",
    "version": 3
   },
   "file_extension": ".py",
   "mimetype": "text/x-python",
   "name": "python",
   "nbconvert_exporter": "python",
   "pygments_lexer": "ipython3",
   "version": "3.9.7"
  }
 },
 "nbformat": 4,
 "nbformat_minor": 5
}
