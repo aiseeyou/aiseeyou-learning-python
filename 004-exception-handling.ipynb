{
 "cells": [
  {
   "cell_type": "markdown",
   "source": [
    "# Exception Handling\n",
    "\n",
    "<center><img height=\"400\" src=\"image/error-no-es-fracaso.jpg\" width=\"800\"/></center>\n",
    "\n",
    "The **try** block lets you test a block of code for errors.\n",
    "\n",
    "The **except** block lets you handle the error.\n",
    "\n",
    "The **else** block lets you execute code when there is no error.\n",
    "\n",
    "The **finally** block lets you execute code, regardless of the result of the try- and except blocks.\n",
    "\n",
    "<a href=\"https://www.w3schools.com/python/python_try_except.asp\">source</a>"
   ],
   "metadata": {
    "collapsed": false
   },
   "id": "e1f92f194d87589a"
  },
  {
   "cell_type": "markdown",
   "source": [
    "ketika Error terjadi atau kata lain Exception. Python akan menghentikan program dan membuat sebuah pesan eror yang biasanya dimunculkan pada terminal yang mengeksekusi program tersebut. Exception tersebut bisa tangani dengan menggunakan **try** statements."
   ],
   "metadata": {
    "collapsed": false
   },
   "id": "749623e04bca7453"
  },
  {
   "cell_type": "code",
   "outputs": [
    {
     "name": "stdout",
     "output_type": "stream",
     "text": [
      "An exception occurred\n"
     ]
    }
   ],
   "source": [
    "try:\n",
    "  print(x)\n",
    "except:\n",
    "  print(\"An exception occurred\")"
   ],
   "metadata": {
    "collapsed": false,
    "ExecuteTime": {
     "end_time": "2024-04-13T04:25:49.597269Z",
     "start_time": "2024-04-13T04:25:49.578473Z"
    }
   },
   "id": "5a40ec9c64666f36",
   "execution_count": 1
  },
  {
   "cell_type": "markdown",
   "source": [
    "Karena x tidak didefinisikan maka ketika block bagian try dijalankan maka akan menghasilkan exception message. artinya block bagian except yang dijalankan saat block bagian try error.\n",
    "\n",
    "Tanpa block bagian try & except maka akan menyebabkan crash pada program dan menghasilkan error"
   ],
   "metadata": {
    "collapsed": false
   },
   "id": "fbcabfc8198d1641"
  },
  {
   "cell_type": "code",
   "outputs": [
    {
     "ename": "NameError",
     "evalue": "name 'x' is not defined",
     "output_type": "error",
     "traceback": [
      "\u001B[1;31m---------------------------------------------------------------------------\u001B[0m",
      "\u001B[1;31mNameError\u001B[0m                                 Traceback (most recent call last)",
      "Cell \u001B[1;32mIn[2], line 1\u001B[0m\n\u001B[1;32m----> 1\u001B[0m \u001B[38;5;28mprint\u001B[39m(\u001B[43mx\u001B[49m)\n",
      "\u001B[1;31mNameError\u001B[0m: name 'x' is not defined"
     ]
    }
   ],
   "source": [
    "print(x)"
   ],
   "metadata": {
    "collapsed": false,
    "ExecuteTime": {
     "end_time": "2024-04-13T04:33:52.070235Z",
     "start_time": "2024-04-13T04:33:51.782712Z"
    }
   },
   "id": "180a01d84b810982",
   "execution_count": 2
  },
  {
   "cell_type": "markdown",
   "source": [
    "# Multiple Exception\n",
    "\n",
    "kita juga bisa mendefinisikan exception sebanyak yang kita mau."
   ],
   "metadata": {
    "collapsed": false
   },
   "id": "e0798a1faa1f5060"
  },
  {
   "cell_type": "code",
   "outputs": [
    {
     "name": "stdout",
     "output_type": "stream",
     "text": [
      "Variable x is not defined\n"
     ]
    }
   ],
   "source": [
    "try:\n",
    "    print(x)\n",
    "except NameError:\n",
    "    print(\"Variable x is not defined\")\n",
    "except:\n",
    "    print(\"Something else went wrong\")"
   ],
   "metadata": {
    "collapsed": false,
    "ExecuteTime": {
     "end_time": "2024-04-13T04:36:26.033300Z",
     "start_time": "2024-04-13T04:36:26.017783Z"
    }
   },
   "id": "bdacd4e34182e59f",
   "execution_count": 3
  },
  {
   "cell_type": "markdown",
   "source": [
    "ketika error yang terjadi **NameError** maka generate error `Variable x is not defined` dan `Something else went wrong` untuk error yang lain"
   ],
   "metadata": {
    "collapsed": false
   },
   "id": "bdd168d820a00e78"
  },
  {
   "cell_type": "code",
   "outputs": [
    {
     "name": "stdout",
     "output_type": "stream",
     "text": [
      "Something else went wrong\n"
     ]
    }
   ],
   "source": [
    "try:\n",
    "    print(2/0)\n",
    "except NameError:\n",
    "    print(\"Variable x is not defined\")\n",
    "except:\n",
    "    print(\"Something else went wrong\")"
   ],
   "metadata": {
    "collapsed": false,
    "ExecuteTime": {
     "end_time": "2024-04-13T04:39:24.460359Z",
     "start_time": "2024-04-13T04:39:24.456358Z"
    }
   },
   "id": "657d91d2b1ed7899",
   "execution_count": 5
  },
  {
   "cell_type": "markdown",
   "source": [
    "# Else\n",
    "Kita dapat menggunakan `else` keywoard jika block `try-except` yang kita buat tidak terjadi error, untuk dijalankan.\n",
    " "
   ],
   "metadata": {
    "collapsed": false
   },
   "id": "b98b7d2a9be44df2"
  },
  {
   "cell_type": "code",
   "outputs": [
    {
     "name": "stdout",
     "output_type": "stream",
     "text": [
      "Hello\n",
      "Nothing went wrong\n"
     ]
    }
   ],
   "source": [
    "try:\n",
    "  print(\"Hello\")\n",
    "except:\n",
    "  print(\"Something went wrong\")\n",
    "else:\n",
    "  print(\"Nothing went wrong\")"
   ],
   "metadata": {
    "collapsed": false,
    "ExecuteTime": {
     "end_time": "2024-04-13T04:41:46.891056Z",
     "start_time": "2024-04-13T04:41:46.876897Z"
    }
   },
   "id": "c7a7b5f327e24119",
   "execution_count": 7
  },
  {
   "cell_type": "markdown",
   "source": [
    "# Finaly\n",
    "Block bagian `finaly` akan dijalankan tidak perduli `try-except` yang dijalankan menghasilkan error atau tidak\n"
   ],
   "metadata": {
    "collapsed": false
   },
   "id": "2303fd77791e341c"
  },
  {
   "cell_type": "code",
   "outputs": [
    {
     "name": "stdout",
     "output_type": "stream",
     "text": [
      "Something went wrong\n",
      "The 'try except' is finished\n"
     ]
    }
   ],
   "source": [
    "try:\n",
    "  print(x)\n",
    "except:\n",
    "  print(\"Something went wrong\")\n",
    "finally:\n",
    "  print(\"The 'try except' is finished\")"
   ],
   "metadata": {
    "collapsed": false,
    "ExecuteTime": {
     "end_time": "2024-04-13T04:43:07.738737Z",
     "start_time": "2024-04-13T04:43:07.733718Z"
    }
   },
   "id": "d2f5318862b69fe6",
   "execution_count": 10
  },
  {
   "cell_type": "markdown",
   "source": [
    "`finaly` block juga berguna untuk menutup segala object dan membersihkan sumber data "
   ],
   "metadata": {
    "collapsed": false
   },
   "id": "900d7f8faf4a52a"
  },
  {
   "cell_type": "code",
   "outputs": [
    {
     "name": "stdout",
     "output_type": "stream",
     "text": [
      "Something went wrong when opening the file\n"
     ]
    }
   ],
   "source": [
    "try:\n",
    "  f = open(\"demofile.txt\")\n",
    "  try:\n",
    "    f.write(\"Lorum Ipsum\")\n",
    "  except:\n",
    "    print(\"Something went wrong when writing to the file\")\n",
    "  finally:\n",
    "    f.close()\n",
    "except:\n",
    "  print(\"Something went wrong when opening the file\")"
   ],
   "metadata": {
    "collapsed": false,
    "ExecuteTime": {
     "end_time": "2024-04-13T04:45:24.266160Z",
     "start_time": "2024-04-13T04:45:24.254403Z"
    }
   },
   "id": "b3aee56ced52557f",
   "execution_count": 12
  },
  {
   "cell_type": "markdown",
   "source": [
    "Program dapat berjalan tanpa meninggalkan objek yang masih terbuka."
   ],
   "metadata": {
    "collapsed": false
   },
   "id": "c27ea736f848a78a"
  },
  {
   "cell_type": "markdown",
   "source": [
    "# Raise An Exception\n",
    "\n",
    "Terkadang kita perlu melempar (throw or raise) error yang kita hadapi jika suatu kondisi tertentu terjadi. untuk melakukan itu kita bisa menggunakan keyword `raise`"
   ],
   "metadata": {
    "collapsed": false
   },
   "id": "2313be57ab5d5eb1"
  },
  {
   "cell_type": "code",
   "outputs": [
    {
     "ename": "Exception",
     "evalue": "Sorry, no numbers below zero",
     "output_type": "error",
     "traceback": [
      "\u001B[1;31m---------------------------------------------------------------------------\u001B[0m",
      "\u001B[1;31mException\u001B[0m                                 Traceback (most recent call last)",
      "Cell \u001B[1;32mIn[13], line 4\u001B[0m\n\u001B[0;32m      1\u001B[0m x \u001B[38;5;241m=\u001B[39m \u001B[38;5;241m-\u001B[39m\u001B[38;5;241m1\u001B[39m\n\u001B[0;32m      3\u001B[0m \u001B[38;5;28;01mif\u001B[39;00m x \u001B[38;5;241m<\u001B[39m \u001B[38;5;241m0\u001B[39m:\n\u001B[1;32m----> 4\u001B[0m   \u001B[38;5;28;01mraise\u001B[39;00m \u001B[38;5;167;01mException\u001B[39;00m(\u001B[38;5;124m\"\u001B[39m\u001B[38;5;124mSorry, no numbers below zero\u001B[39m\u001B[38;5;124m\"\u001B[39m)\n",
      "\u001B[1;31mException\u001B[0m: Sorry, no numbers below zero"
     ]
    }
   ],
   "source": [
    "x = -1\n",
    "\n",
    "if x < 0:\n",
    "  raise Exception(\"Sorry, no numbers below zero\")"
   ],
   "metadata": {
    "collapsed": false,
    "ExecuteTime": {
     "end_time": "2024-04-13T04:50:08.617230Z",
     "start_time": "2024-04-13T04:50:08.600160Z"
    }
   },
   "id": "216a35bb8bab8ef2",
   "execution_count": 13
  },
  {
   "cell_type": "markdown",
   "source": [
    "# Write Own Exceptions\n",
    "\n",
    "<a href=\"https://stackoverflow.com/questions/1319615/proper-way-to-declare-custom-exceptions-in-modern-python\">source</a>"
   ],
   "metadata": {
    "collapsed": false
   },
   "id": "c5401d8fa1287d87"
  },
  {
   "cell_type": "code",
   "outputs": [],
   "source": [
    "\n",
    "class CustomExceptionName(Exception):\n",
    "    \"\"\"Still an exception raised when uncommon things happen\"\"\"\n",
    "    def __init__(self, message, payload=None):\n",
    "        self.message = message\n",
    "        self.payload = payload # you could add more args\n",
    "    def __str__(self):\n",
    "        return str(self.message) # __str__() obviously expects a string to be returned, so make sure not to send any other data types"
   ],
   "metadata": {
    "collapsed": false,
    "ExecuteTime": {
     "end_time": "2024-04-13T04:55:30.745068Z",
     "start_time": "2024-04-13T04:55:30.733673Z"
    }
   },
   "id": "5755eaa62e8647f4",
   "execution_count": 16
  },
  {
   "cell_type": "code",
   "outputs": [
    {
     "name": "stdout",
     "output_type": "stream",
     "text": [
      "Very bad mistake.\n",
      "Detail: Forgot upgrading from Python 1\n"
     ]
    }
   ],
   "source": [
    " try:\n",
    "    raise CustomExceptionName(\"Very bad mistake.\", \"Forgot upgrading from Python 1\")\n",
    "except CustomExceptionName as error:\n",
    "    print(str(error)) # Very bad mistake\n",
    "    print(\"Detail: {}\".format(error.payload)) # Detail: Forgot upgrading from Python 1"
   ],
   "metadata": {
    "collapsed": false,
    "ExecuteTime": {
     "end_time": "2024-04-13T04:55:31.663995Z",
     "start_time": "2024-04-13T04:55:31.646953Z"
    }
   },
   "id": "e838d61be15b5015",
   "execution_count": 17
  },
  {
   "cell_type": "code",
   "outputs": [],
   "source": [],
   "metadata": {
    "collapsed": false
   },
   "id": "40d06f5c493c8db1"
  }
 ],
 "metadata": {
  "kernelspec": {
   "display_name": "Python 3",
   "language": "python",
   "name": "python3"
  },
  "language_info": {
   "codemirror_mode": {
    "name": "ipython",
    "version": 2
   },
   "file_extension": ".py",
   "mimetype": "text/x-python",
   "name": "python",
   "nbconvert_exporter": "python",
   "pygments_lexer": "ipython2",
   "version": "2.7.6"
  }
 },
 "nbformat": 4,
 "nbformat_minor": 5
}
