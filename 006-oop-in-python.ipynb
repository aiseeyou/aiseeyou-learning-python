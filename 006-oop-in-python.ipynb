{
 "cells": [
  {
   "cell_type": "markdown",
   "id": "358009611412afb0",
   "metadata": {},
   "source": [
    "# OOP (Object-Oriented Programming) with Python\n",
    "<center><img height=\"400\" src=\"image/oop.jpeg\" width=\"600\"/></center>\n",
    "\n",
    "## What is OOP?\n",
    "Object-oriented programming (OOP) adalah suatu teknik dalam pemograman system komputer dengan merepresentasikan data dan metode sebagai object. Teknik ini dilakukan untuk membuat code menjadi rapih dan mudah untuk digunakan kembali.\n",
    "Object yang dibuat memiliki 2 karakteristik yakni:\n",
    "1. Atributes    \n",
    "2. Behavior/Characteristics.\n",
    "\n",
    "contoh:\n",
    " jika kita membuat objek mobil. maka mobil ini memiliki atribut warna, tahun pembuatan dan bagaimana mesin dari mobil tersebut, serta mobil memiliki behavior atau karakteristik berupa suara /bunyi mesin, rem, serta tarikan awal (akselerasi).\n",
    " \n",
    "OOP didalam python mengikuti beberapa prinsip berupa:\n",
    "1. Class Object\n",
    "2. Method\n",
    "3. Inheritence \n",
    "4. Polymorphism\n",
    "5. Data Abtraction\n",
    "6. Encapsulation \n",
    "\n",
    "<a href=\"https://dev.to/titusnjuguna/simplified-object-oriented-programming-python-3l12\">source</a>"
   ]
  },
  {
   "cell_type": "markdown",
   "id": "ece9be801bd31fef",
   "metadata": {},
   "source": [
    "## 1. CLass\n",
    "Class didalam python merupakan suatu objek kontruksi awal atau blueprint untuk membuat suatu objek dengan mendifinisikan atribut dan perilaku (behavior). Didalam python class didefinisikan dengan keywoard `class`.\n"
   ]
  },
  {
   "cell_type": "code",
   "execution_count": 1,
   "id": "d0e89f64407f2890",
   "metadata": {
    "ExecuteTime": {
     "end_time": "2024-06-04T06:18:20.355724Z",
     "start_time": "2024-06-04T06:18:20.333775Z"
    }
   },
   "outputs": [],
   "source": [
    "class Car:\n",
    "    # class attributes\n",
    "    Color=\"Read\"\n",
    "    YOM=2015\n",
    "    Model=\"Mazda\"\n",
    "pass"
   ]
  },
  {
   "cell_type": "markdown",
   "id": "31fc9507ee6647cb",
   "metadata": {},
   "source": [
    "contoh diatas adalah bentuk paling sederhana dari sebuat object \"Car\" dimana dalam objek tersebut berisikan setiap atributnya. Selanjutnya kita akan membuat class menjadi objek yang dinamis agar berguna dalam pengaplikasian nyatanya. Supaya lebih paham kita buat class \"Dog\" dari gologan spesies Canis Lupus, untuk mendifinisikan sub-spesiesnya kita perlu mendefinisikan atribut lain seperti warna, berat, tinggi dan sebagainya."
   ]
  },
  {
   "cell_type": "code",
   "execution_count": 3,
   "id": "d38ee7c542cb5d26",
   "metadata": {
    "ExecuteTime": {
     "end_time": "2024-04-16T06:48:05.749735Z",
     "start_time": "2024-04-16T06:48:05.737830Z"
    }
   },
   "outputs": [],
   "source": [
    "class Dog:\n",
    "    species: \"Canis lupus\"\n",
    "    def __init__(self,color,weight,height):\n",
    "        self.color=color\n",
    "        self.weight=weight\n",
    "        self.height=height\n",
    "        "
   ]
  },
  {
   "cell_type": "code",
   "execution_count": 4,
   "id": "a85c9489a65f010b",
   "metadata": {
    "ExecuteTime": {
     "end_time": "2024-04-16T06:48:29.139412Z",
     "start_time": "2024-04-16T06:48:29.125371Z"
    }
   },
   "outputs": [],
   "source": [
    "class Car:\n",
    "    def __init__(self,color,YOM,model):\n",
    "       self.color = color\n",
    "       self.YOM = YOM\n",
    "       self.model = model"
   ]
  },
  {
   "cell_type": "markdown",
   "id": "880feab160e32390",
   "metadata": {},
   "source": [
    "## 2. Objects\n",
    "Untuk mengakses setiap atribut pada class yang sudah didefinisikan, kita perlu membuat sebuah instance(event) diluar class nya."
   ]
  },
  {
   "cell_type": "code",
   "execution_count": 4,
   "id": "e62d2f84a78b4c49",
   "metadata": {
    "ExecuteTime": {
     "end_time": "2024-06-04T06:24:04.188613Z",
     "start_time": "2024-06-04T06:24:04.175277Z"
    }
   },
   "outputs": [
    {
     "name": "stdout",
     "output_type": "stream",
     "text": [
      "This is a black,Wuling,manufactured in 2024\n"
     ]
    }
   ],
   "source": [
    "class Car:\n",
    "    def __init__(self,color,YOM,model):\n",
    "       self.color = color\n",
    "       self.YOM = YOM\n",
    "       self.model = model\n",
    "Car1 = Car('black','2024','Wuling')       \n",
    "print ( f'This is a {Car1.color},{Car1.model},manufactured in {Car1.YOM}')"
   ]
  },
  {
   "cell_type": "markdown",
   "id": "8d77633f94ac1636",
   "metadata": {},
   "source": [
    "## 3. Methods\n",
    "\n",
    "Didalam pendefinisian sebuah class, suatu object memiliki dua properti yakni attributes dan behavior. Secara sederhana `Methods` adalah cara dalam mendefinisikan behavior suatu object."
   ]
  },
  {
   "cell_type": "code",
   "execution_count": 6,
   "id": "44cd1b3d2f06dbdc",
   "metadata": {
    "ExecuteTime": {
     "end_time": "2024-06-04T06:25:02.027049Z",
     "start_time": "2024-06-04T06:25:02.014306Z"
    }
   },
   "outputs": [],
   "source": [
    "class Car:\n",
    "    def __init__(self,color,YOM,model):\n",
    "       self.color = color\n",
    "       self.YOM = YOM\n",
    "       self.model = model\n",
    "    #method\n",
    "    def hoot(self):\n",
    "       return('Pipippipi')"
   ]
  },
  {
   "cell_type": "markdown",
   "id": "19199379952d1e2e",
   "metadata": {},
   "source": []
  },
  {
   "cell_type": "code",
   "execution_count": 8,
   "id": "63f2eaf92527ead",
   "metadata": {
    "ExecuteTime": {
     "end_time": "2024-06-04T06:25:08.329088Z",
     "start_time": "2024-06-04T06:25:08.312069Z"
    }
   },
   "outputs": [
    {
     "name": "stdout",
     "output_type": "stream",
     "text": [
      "The Blue,2018,Mazda is hooting Pipippipi\n"
     ]
    }
   ],
   "source": [
    "Car3 = Car('Blue','2018','Mazda')\n",
    "Car3.hoot()\n",
    "print(f'The {Car3.color},{Car3.YOM},{Car3.model} is hooting {Car3.hoot()}')"
   ]
  },
  {
   "cell_type": "markdown",
   "id": "1809f1fff3ce542e",
   "metadata": {},
   "source": [
    "Methods dapat dikelompokan menjadi 3 jenis yakni:\n",
    "1. Instance Method\n",
    "2. Class Method\n",
    "3. Static Method\n"
   ]
  },
  {
   "cell_type": "markdown",
   "id": "fb92e608e81945c",
   "metadata": {},
   "source": [
    "### 3.1 Instance Method\n",
    " Method paling umum yang biasa digunakan dalam class adalah Instance Method dimana method ini memilki 1 param default `self`. Tujuan dari penggunaan instance method adalah untuk merubah atau mendapatkan detail dari sebuah instance (Object)"
   ]
  },
  {
   "cell_type": "code",
   "execution_count": 9,
   "id": "cbcca28fa80438e2",
   "metadata": {
    "ExecuteTime": {
     "end_time": "2024-06-04T06:26:05.086374Z",
     "start_time": "2024-06-04T06:26:05.081578Z"
    }
   },
   "outputs": [],
   "source": [
    "class Car:\n",
    "   def instance_method(self):\n",
    "       return(\"This is an instance method\")"
   ]
  },
  {
   "cell_type": "code",
   "execution_count": 10,
   "id": "adf51a9e37b003b4",
   "metadata": {
    "ExecuteTime": {
     "end_time": "2024-06-04T06:26:05.858478Z",
     "start_time": "2024-06-04T06:26:05.843677Z"
    }
   },
   "outputs": [],
   "source": [
    "#Example 2 with extra parameter\n",
    "class Car:\n",
    "    init_param = 10\n",
    "    def instance_method(self,b):\n",
    "       return f'this is instance method b={b}. init param {self.init_param}'"
   ]
  },
  {
   "cell_type": "code",
   "execution_count": 37,
   "id": "99b7bfaee267905e",
   "metadata": {
    "ExecuteTime": {
     "end_time": "2024-04-16T07:07:22.056358Z",
     "start_time": "2024-04-16T07:07:22.044506Z"
    }
   },
   "outputs": [
    {
     "data": {
      "text/plain": [
       "'this is instance method b=init. init param 10'"
      ]
     },
     "execution_count": 37,
     "metadata": {},
     "output_type": "execute_result"
    }
   ],
   "source": [
    "car = Car()\n",
    "car.instance_method(\"init\")"
   ]
  },
  {
   "cell_type": "markdown",
   "id": "d86b4114f2b3c71b",
   "metadata": {},
   "source": [
    "### 3.2 Class Method\n",
    "Ketika mendefinisikan sebuah class method ,kita bisa menggunakan decorator pada method tersebut @classmethods, metode ini memiliki 1 buah parameter default yaitu `cls`"
   ]
  },
  {
   "cell_type": "code",
   "execution_count": 16,
   "id": "d6c2406c45cf04a6",
   "metadata": {
    "ExecuteTime": {
     "end_time": "2024-06-04T06:34:50.533990Z",
     "start_time": "2024-06-04T06:34:50.517248Z"
    }
   },
   "outputs": [],
   "source": [
    "class Car:\n",
    "    init_param= 10\n",
    "    # @classmethod\n",
    "    # def class_method(cls):\n",
    "    #     return \"This is a class method: \"+str(cls)\n",
    "    def self_method(self):\n",
    "        return print(str(self))"
   ]
  },
  {
   "cell_type": "code",
   "execution_count": 22,
   "id": "4df1af1d1b37976",
   "metadata": {
    "ExecuteTime": {
     "end_time": "2024-06-04T06:35:30.703587Z",
     "start_time": "2024-06-04T06:35:30.686765Z"
    }
   },
   "outputs": [
    {
     "name": "stdout",
     "output_type": "stream",
     "text": [
      "<__main__.Car object at 0x000001DFEC015C70>\n"
     ]
    }
   ],
   "source": [
    "obj1 = Car()\n",
    "obj1.class_method()\n",
    "obj1.self_method()\n",
    "# obj1.init_param"
   ]
  },
  {
   "cell_type": "code",
   "execution_count": 30,
   "id": "3faf6fd23970b1d0",
   "metadata": {
    "ExecuteTime": {
     "end_time": "2024-04-16T07:04:02.007277Z",
     "start_time": "2024-04-16T07:04:01.999834Z"
    }
   },
   "outputs": [
    {
     "data": {
      "text/plain": [
       "\"This is a class method: <class '__main__.Car'>\""
      ]
     },
     "execution_count": 30,
     "metadata": {},
     "output_type": "execute_result"
    }
   ],
   "source": [
    "Car.class_method()"
   ]
  },
  {
   "cell_type": "markdown",
   "id": "62b1d04175d77a79",
   "metadata": {},
   "source": [
    "### 3.3 Static Method\n",
    "\n",
    "Static method adalah method yang memungkin kan kita mengakses nya tanpa perlu mengakses data yang ada pada class yang dinaunginya, karena static method independent dan tidak bergantung pada atribut apapun pada classnya. Untuk membuat static method kita bisa menggunakan decorator `@staticmethod`\n"
   ]
  },
  {
   "cell_type": "code",
   "execution_count": 33,
   "id": "16d9c358f432577c",
   "metadata": {
    "ExecuteTime": {
     "end_time": "2024-06-04T06:40:56.410763Z",
     "start_time": "2024-06-04T06:40:56.402542Z"
    }
   },
   "outputs": [],
   "source": [
    "class Car:\n",
    "    init_param = 10\n",
    "    \n",
    "    def coba_akses_static(self):\n",
    "        print(self.static_method())\n",
    "        \n",
    "    @staticmethod\n",
    "    def static_method():\n",
    "        return \"This is a static method.\""
   ]
  },
  {
   "cell_type": "code",
   "execution_count": 34,
   "id": "cac61b42716d997f",
   "metadata": {
    "ExecuteTime": {
     "end_time": "2024-06-04T06:40:56.916432Z",
     "start_time": "2024-06-04T06:40:56.906901Z"
    }
   },
   "outputs": [
    {
     "name": "stdout",
     "output_type": "stream",
     "text": [
      "This is a static method.\n"
     ]
    }
   ],
   "source": [
    "car = Car()\n",
    "car.coba_akses_static()"
   ]
  },
  {
   "cell_type": "code",
   "execution_count": 28,
   "id": "a52aa875cf17dc3",
   "metadata": {
    "ExecuteTime": {
     "end_time": "2024-06-04T06:37:49.449209Z",
     "start_time": "2024-06-04T06:37:49.430958Z"
    }
   },
   "outputs": [
    {
     "data": {
      "text/plain": [
       "'This is a static method.'"
      ]
     },
     "execution_count": 28,
     "metadata": {},
     "output_type": "execute_result"
    }
   ],
   "source": [
    "Car.static_method()"
   ]
  },
  {
   "cell_type": "markdown",
   "id": "f06f6aac4cf21608",
   "metadata": {},
   "source": [
    "## 4. Inheritance\n",
    "\n",
    "Inheritance (Menurunkan) didalam OOP erat kaitannya dengan child class dan parent class. dimana chil class mewarisi sebagian atau seluruh atribut yang ada pada parent classnya."
   ]
  },
  {
   "cell_type": "code",
   "execution_count": 39,
   "id": "2a1d8ed0705d15d0",
   "metadata": {
    "ExecuteTime": {
     "end_time": "2024-06-04T06:44:42.836077Z",
     "start_time": "2024-06-04T06:44:42.827079Z"
    }
   },
   "outputs": [],
   "source": [
    "# Partial Inheritance\n",
    "#Parent Class\n",
    "class Person:\n",
    "  def __init__(self, fname, lname):\n",
    "    self.firstname = fname\n",
    "    self.lastname = lname\n",
    "  #method\n",
    "  def printname(self):\n",
    "    print(self.firstname, self.lastname)\n",
    "      \n",
    "#child class\n",
    "class Student(Person):\n",
    "  def __init__(self, fname, lname):\n",
    "    Person.__init__(self, fname, lname) "
   ]
  },
  {
   "cell_type": "code",
   "execution_count": 40,
   "id": "918506deb1280fa2",
   "metadata": {
    "ExecuteTime": {
     "end_time": "2024-06-04T06:44:43.266302Z",
     "start_time": "2024-06-04T06:44:43.256014Z"
    }
   },
   "outputs": [
    {
     "name": "stdout",
     "output_type": "stream",
     "text": [
      "abdul hamid\n"
     ]
    }
   ],
   "source": [
    "person = Person('abdul','hamid')\n",
    "person.printname()"
   ]
  },
  {
   "cell_type": "code",
   "execution_count": 42,
   "id": "280d67ae80697ba5",
   "metadata": {
    "ExecuteTime": {
     "end_time": "2024-06-04T06:45:18.521758Z",
     "start_time": "2024-06-04T06:45:18.516302Z"
    }
   },
   "outputs": [
    {
     "name": "stdout",
     "output_type": "stream",
     "text": [
      "avzb ashar\n"
     ]
    }
   ],
   "source": [
    "student = Student('ashar','avzb')\n",
    "student.printname()"
   ]
  },
  {
   "cell_type": "code",
   "execution_count": 43,
   "id": "51add5a54d9ff696",
   "metadata": {
    "ExecuteTime": {
     "end_time": "2024-06-04T06:46:13.454988Z",
     "start_time": "2024-06-04T06:46:13.441895Z"
    }
   },
   "outputs": [],
   "source": [
    "# Full Inheritance\n",
    "class Person:\n",
    "  def __init__(self, fname, lname):\n",
    "    self.firstname = fname\n",
    "    self.lastname = lname\n",
    "  #method\n",
    "  def printname(self):\n",
    "    print(self.firstname, self.lastname)\n",
    "\n",
    "class Student(Person):\n",
    "  def __init__(self, fname, lname):\n",
    "    super().__init__(fname, lname)\n",
    "    self.graduationyear = 2019"
   ]
  },
  {
   "cell_type": "code",
   "execution_count": 46,
   "id": "a85346fcdee3161c",
   "metadata": {
    "ExecuteTime": {
     "end_time": "2024-06-04T06:48:08.070001Z",
     "start_time": "2024-06-04T06:48:08.062053Z"
    }
   },
   "outputs": [
    {
     "name": "stdout",
     "output_type": "stream",
     "text": [
      "abdul hamid\n",
      "avzb ashar\n"
     ]
    },
    {
     "data": {
      "text/plain": [
       "2019"
      ]
     },
     "execution_count": 46,
     "metadata": {},
     "output_type": "execute_result"
    }
   ],
   "source": [
    "person = Person('abdul','hamid')\n",
    "person.printname()\n",
    "student = Student('avzb','ashar')\n",
    "student.printname()\n",
    "student.graduationyear"
   ]
  },
  {
   "cell_type": "markdown",
   "id": "4f88c39eb2d0d7bb",
   "metadata": {},
   "source": [
    "## 5. Polymorphism\n",
    "Kata \"Polymorphism\" berarti \"Banyak Bentuk\" didalam pemograman mereferensikan suatu method/fungsi/operator dengan nama yang sama dapat di ekseskusi dalam banyak objek atau class <a href=\"https://www.w3schools.com/python/python_polymorphism.asp\">source</a>"
   ]
  },
  {
   "cell_type": "code",
   "execution_count": 49,
   "id": "d66f3e0530d33ad3",
   "metadata": {
    "ExecuteTime": {
     "end_time": "2024-06-04T06:58:04.127981Z",
     "start_time": "2024-06-04T06:58:04.119143Z"
    }
   },
   "outputs": [
    {
     "name": "stdout",
     "output_type": "stream",
     "text": [
      "Drive!\n",
      "Sail!\n",
      "Fly!\n"
     ]
    }
   ],
   "source": [
    "class Car:\n",
    "  def __init__(self, brand, model):\n",
    "    self.brand = brand\n",
    "    self.model = model\n",
    "\n",
    "  def move(self):\n",
    "    print(\"Drive!\")\n",
    "\n",
    "class Boat:\n",
    "  def __init__(self, brand, model):\n",
    "    self.brand = brand\n",
    "    self.model = model\n",
    "\n",
    "  def move(self):\n",
    "    print(\"Sail!\")\n",
    "\n",
    "class Plane:\n",
    "  def __init__(self, brand, model):\n",
    "    self.brand = brand\n",
    "    self.model = model\n",
    "\n",
    "  def move(self):\n",
    "    print(\"Fly!\")\n",
    "\n",
    "car1 = Car(\"Ford\", \"Mustang\")       #Create a Car class\n",
    "boat1 = Boat(\"Ibiza\", \"Touring 20\") #Create a Boat class\n",
    "plane1 = Plane(\"Boeing\", \"747\")     #Create a Plane class\n",
    "\n",
    "for x in (car1, boat1, plane1):\n",
    "  x.move()"
   ]
  },
  {
   "cell_type": "code",
   "execution_count": null,
   "id": "383d716c64fd6db2",
   "metadata": {
    "jupyter": {
     "is_executing": true
    }
   },
   "outputs": [],
   "source": [
    "def move():\n",
    "    print('move')"
   ]
  },
  {
   "cell_type": "markdown",
   "id": "2d021755aa85174a",
   "metadata": {},
   "source": [
    "Lihat pada akhir pengulangan (Loop). Karena Polymorphism kita bisa mengeksekusi method yang sama di pada seluruh ketiga class yang ada."
   ]
  },
  {
   "cell_type": "markdown",
   "id": "684579936484f232",
   "metadata": {},
   "source": [
    "## 6. Data Abstraction\n",
    "\n",
    "Abstract class bisa dibilang sebagai sebuah blueprint untuk class yang lain. hal ini memungkinkan kita untuk mebuat setiap method pada child class yang dibangung dengan method yang didefinisikan pada abstract class.\n",
    "\n",
    "Sebuah class yan berisi 1 atau lebih abstract methods disebut abstract class. Sebuah abstract method hanya didefinisikan namun tidak memiliki implementasi.\n",
    "\n",
    "Kita menggunakan abstract class saat kita mendesain unit funsi yang besar atau kita ingin menyediakan interface yang umum untuk implementasi yang berbeda pada sebuah komponen.\n",
    "\n",
    "<a href=\"https://www.geeksforgeeks.org/abstract-classes-in-python/\">source</a>\n",
    "\n",
    "Secara default python tidak menyediakan abtract class. Python memiliki module built in yaitu ABC (Abstract Base Classes). \n",
    "\n",
    "ABC bekerja sebagai decorating methods dari basis sebuah abstract class. Method abstract yang dimaksud dengan keyword @abstractmethod\n"
   ]
  },
  {
   "cell_type": "code",
   "execution_count": 51,
   "id": "33d91eb170817669",
   "metadata": {
    "ExecuteTime": {
     "end_time": "2024-06-04T07:05:07.715370Z",
     "start_time": "2024-06-04T07:05:07.695056Z"
    }
   },
   "outputs": [
    {
     "name": "stdout",
     "output_type": "stream",
     "text": [
      "I have 3 sides\n",
      "I have 4 sides\n",
      "I have 5 sides\n",
      "I have 6 sides\n"
     ]
    }
   ],
   "source": [
    "# Python program showing\n",
    "# abstract base class work\n",
    "from abc import ABC, abstractmethod\n",
    "\n",
    "\n",
    "class Polygon(ABC):\n",
    "\n",
    "    @abstractmethod\n",
    "    def noofsides(self):\n",
    "        pass\n",
    "\n",
    "\n",
    "class Triangle(Polygon):\n",
    "\n",
    "    # overriding abstract method\n",
    "    def noofsides(self):\n",
    "        print(\"I have 3 sides\")\n",
    "\n",
    "\n",
    "class Pentagon(Polygon):\n",
    "\n",
    "    # overriding abstract method\n",
    "    def noofsides(self):\n",
    "        print(\"I have 5 sides\")\n",
    "\n",
    "\n",
    "class Hexagon(Polygon):\n",
    "\n",
    "    # overriding abstract method\n",
    "    def noofsides(self):\n",
    "        print(\"I have 6 sides\")\n",
    "\n",
    "\n",
    "class Quadrilateral(Polygon):\n",
    "\n",
    "    # overriding abstract method\n",
    "    def noofsides(self):\n",
    "        print(\"I have 4 sides\")\n",
    "\n",
    "\n",
    "# Driver code\n",
    "R = Triangle()\n",
    "R.noofsides()\n",
    "\n",
    "K = Quadrilateral()\n",
    "K.noofsides()\n",
    "\n",
    "R = Pentagon()\n",
    "R.noofsides()\n",
    "\n",
    "K = Hexagon()\n",
    "K.noofsides()"
   ]
  },
  {
   "cell_type": "code",
   "execution_count": 53,
   "id": "ae6f9a6e3a9af8d4",
   "metadata": {
    "ExecuteTime": {
     "end_time": "2024-06-04T07:08:11.682081Z",
     "start_time": "2024-06-04T07:08:11.676832Z"
    }
   },
   "outputs": [],
   "source": [
    "class Parent(ABC):\n",
    "    @abstractmethod\n",
    "    def method(self):\n",
    "        pass\n",
    "    \n"
   ]
  },
  {
   "cell_type": "code",
   "execution_count": 54,
   "id": "e4c2e56f1779161b",
   "metadata": {
    "ExecuteTime": {
     "end_time": "2024-06-04T07:08:12.221521Z",
     "start_time": "2024-06-04T07:08:12.207529Z"
    }
   },
   "outputs": [],
   "source": [
    "class Child(Parent):\n",
    "    def method(self):\n",
    "        print(\"Child\")\n",
    "    \n",
    "    "
   ]
  },
  {
   "cell_type": "code",
   "execution_count": 55,
   "id": "7018bfaae2868fbf",
   "metadata": {
    "ExecuteTime": {
     "end_time": "2024-06-04T07:08:36.644586Z",
     "start_time": "2024-06-04T07:08:36.626743Z"
    }
   },
   "outputs": [
    {
     "name": "stdout",
     "output_type": "stream",
     "text": [
      "Child\n"
     ]
    }
   ],
   "source": [
    "child = Child()\n",
    "child.method()"
   ]
  }
 ],
 "metadata": {
  "kernelspec": {
   "display_name": "Python 3 (ipykernel)",
   "language": "python",
   "name": "python3"
  },
  "language_info": {
   "codemirror_mode": {
    "name": "ipython",
    "version": 3
   },
   "file_extension": ".py",
   "mimetype": "text/x-python",
   "name": "python",
   "nbconvert_exporter": "python",
   "pygments_lexer": "ipython3",
   "version": "3.9.7"
  }
 },
 "nbformat": 4,
 "nbformat_minor": 5
}
