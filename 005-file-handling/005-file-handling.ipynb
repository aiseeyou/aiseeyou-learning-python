{
 "cells": [
  {
   "cell_type": "markdown",
   "source": [
    "# File Handling\n",
    "<center><img height=\"400\" src=\"../image/file-handling.png\" width=\"600\"/></center>\n",
    "\n",
    "File handling adalah bagian penting dalam pemograman web. File Handling pada python memiliki beberapa fungsi creating, reading, updating, dan deleting files.\n",
    "\n",
    "Fungsi kunci dalam python untuk bekerja dengan file adalah **open()** function yang merupakan fungsi bawaan pada python (built-in)\n",
    "\n",
    "<a href=\"https://www.w3schools.com/python/python_file_handling.asp\">source</a>"
   ],
   "metadata": {
    "collapsed": false
   },
   "id": "8291817b53e073e3"
  },
  {
   "cell_type": "markdown",
   "source": [
    "## 1.1 Membuka File (Open)\n",
    "\n",
    "**open()** memiliki 2 parameter filename, dan mode. terdapat 4 mode berbeda dalam membuka file:\n",
    "\n",
    "1. \"r\" - Read - Default value. Opens a file for reading, error if the file does not exist\n",
    "\n",
    "2. \"a\" - Append - Opens a file for appending, creates the file if it does not exist\n",
    "\n",
    "3. \"w\" - Write - Opens a file for writing, creates the file if it does not exist\n",
    "\n",
    "4. \"x\" - Create - Creates the specified file, returns an error if the file exists\n",
    "\n",
    "tambahannya kita bisa tambahkan karakter tertentu untuk menghandle file secara text/binary mode:\n",
    "\n",
    "1. \"t\" - Text - Default value. Text mode\n",
    "\n",
    "2. \"b\" - Binary - Binary mode (e.g. images)"
   ],
   "metadata": {
    "collapsed": false
   },
   "id": "2a764f6dfe38c048"
  },
  {
   "cell_type": "code",
   "outputs": [],
   "source": [
    "f = open(\"demofile.txt\")"
   ],
   "metadata": {
    "collapsed": false,
    "ExecuteTime": {
     "end_time": "2024-04-13T05:28:19.536838Z",
     "start_time": "2024-04-13T05:28:19.527038Z"
    }
   },
   "id": "435ec0cada930dd6",
   "execution_count": 5
  },
  {
   "cell_type": "code",
   "outputs": [],
   "source": [
    "f2 = open(\"demofile.txt\", \"rt\")"
   ],
   "metadata": {
    "collapsed": false,
    "ExecuteTime": {
     "end_time": "2024-04-13T05:28:19.784817Z",
     "start_time": "2024-04-13T05:28:19.772069Z"
    }
   },
   "id": "4bd9368d664b815",
   "execution_count": 6
  },
  {
   "cell_type": "markdown",
   "source": [
    "objek f dan f2 adalah sama karena \"r\" artinya read sedangkan \"t\" untuk text dan itu semua adalah nilai default pada fungsi **open** sehinnga tidak perlu mendeklarasikannya."
   ],
   "metadata": {
    "collapsed": false
   },
   "id": "cef94fbeae34789f"
  },
  {
   "cell_type": "code",
   "outputs": [
    {
     "name": "stdout",
     "output_type": "stream",
     "text": [
      "<_io.TextIOWrapper name='demofile.txt' mode='r' encoding='cp1252'> <_io.TextIOWrapper name='demofile.txt' mode='rt' encoding='cp1252'>\n"
     ]
    }
   ],
   "source": [
    "print(f, f2)"
   ],
   "metadata": {
    "collapsed": false,
    "ExecuteTime": {
     "end_time": "2024-04-13T05:28:50.970711Z",
     "start_time": "2024-04-13T05:28:50.953740Z"
    }
   },
   "id": "ecf45dc2f0920952",
   "execution_count": 7
  },
  {
   "cell_type": "markdown",
   "source": [
    "## 1.2 Membaca File (Read)\n",
    "\n",
    "silahkan buat free text dialam file demofile.txt dan ditaroh sejejar dengan file ipnyb ini dibuat. fungsi **open()** akan menghasilkan objek file handling dan untuk membacanya kita bisa memanggil fungsi **read()** pada objek tersebut"
   ],
   "metadata": {
    "collapsed": false
   },
   "id": "6b7d8f753dae72d8"
  },
  {
   "cell_type": "code",
   "outputs": [
    {
     "name": "stdout",
     "output_type": "stream",
     "text": [
      "ini adalah\n",
      "contoh\n",
      "text\n"
     ]
    }
   ],
   "source": [
    "f = open(\"demofile.txt\")\n",
    "string = f.read()\n",
    "print(string)"
   ],
   "metadata": {
    "collapsed": false,
    "ExecuteTime": {
     "end_time": "2024-04-13T05:56:12.056396Z",
     "start_time": "2024-04-13T05:56:12.045968Z"
    }
   },
   "id": "7cd2574e61d48e9d",
   "execution_count": 9
  },
  {
   "cell_type": "markdown",
   "source": [
    "### 1.2.1 Read Only Parts\n"
   ],
   "metadata": {
    "collapsed": false
   },
   "id": "c14e3343b803c7b5"
  },
  {
   "cell_type": "code",
   "outputs": [
    {
     "name": "stdout",
     "output_type": "stream",
     "text": [
      "ini a\n"
     ]
    }
   ],
   "source": [
    "f = open(\"demofile.txt\", \"r\")\n",
    "print(f.read(5)) #read only 5 character"
   ],
   "metadata": {
    "collapsed": false,
    "ExecuteTime": {
     "end_time": "2024-04-13T05:57:32.022857Z",
     "start_time": "2024-04-13T05:57:32.004424Z"
    }
   },
   "id": "48547b01b24cba2c",
   "execution_count": 11
  },
  {
   "cell_type": "markdown",
   "source": [
    "### 1.2.2 Read Lines\n"
   ],
   "metadata": {
    "collapsed": false
   },
   "id": "e2fd998a900019ae"
  },
  {
   "cell_type": "code",
   "outputs": [
    {
     "name": "stdout",
     "output_type": "stream",
     "text": [
      "LINES-1\n",
      "\n",
      "LINES-2\n"
     ]
    }
   ],
   "source": [
    "f = open(\"demofile.txt\", \"r\")\n",
    "print(f.readline()) # read first line\n",
    "print(f.readline()) # read next line"
   ],
   "metadata": {
    "collapsed": false,
    "ExecuteTime": {
     "end_time": "2024-04-13T05:59:33.289536Z",
     "start_time": "2024-04-13T05:59:33.276566Z"
    }
   },
   "id": "6ba59f92e73cd9c7",
   "execution_count": 16
  },
  {
   "cell_type": "markdown",
   "source": [
    "kita bisa menggunakan looping untuk membaca tiap line pada file"
   ],
   "metadata": {
    "collapsed": false
   },
   "id": "de4c4a21ae35b7ed"
  },
  {
   "cell_type": "code",
   "outputs": [
    {
     "name": "stdout",
     "output_type": "stream",
     "text": [
      "LINES-1\n",
      "\n",
      "LINES-2\n",
      "\n",
      "LINES-3\n",
      "\n",
      "LINES-4\n"
     ]
    }
   ],
   "source": [
    "f = open(\"demofile.txt\", \"r\")\n",
    "for x in f:\n",
    "  print(x)"
   ],
   "metadata": {
    "collapsed": false,
    "ExecuteTime": {
     "end_time": "2024-04-13T06:00:21.649642Z",
     "start_time": "2024-04-13T06:00:21.634601Z"
    }
   },
   "id": "7ec8a866a5b8a644",
   "execution_count": 17
  },
  {
   "cell_type": "markdown",
   "source": [
    "setelah membuka dan membaca file baiknya ditutup setelah seluruh rangkaian program selesai (best-practice)"
   ],
   "metadata": {
    "collapsed": false
   },
   "id": "3edc2075f71fe41f"
  },
  {
   "cell_type": "code",
   "outputs": [
    {
     "name": "stdout",
     "output_type": "stream",
     "text": [
      "LINES-1\n"
     ]
    }
   ],
   "source": [
    "f = open(\"demofile.txt\", \"r\")\n",
    "print(f.readline())\n",
    "f.close()"
   ],
   "metadata": {
    "collapsed": false,
    "ExecuteTime": {
     "end_time": "2024-04-13T06:01:28.652608Z",
     "start_time": "2024-04-13T06:01:28.644114Z"
    }
   },
   "id": "eaaf29a9dc843fa",
   "execution_count": 18
  },
  {
   "cell_type": "markdown",
   "source": [
    "## 1.3 Write Existing Files\n",
    "To write to an existing file, you must add a parameter to the open() function:\n",
    "\n",
    "\"a\" - Append - will append to the end of the file\n",
    "\n",
    "\"w\" - Write - will overwrite any existing content"
   ],
   "metadata": {
    "collapsed": false
   },
   "id": "253ceec18f2d10b9"
  },
  {
   "cell_type": "code",
   "outputs": [
    {
     "name": "stdout",
     "output_type": "stream",
     "text": [
      "Now the file has more content!\n"
     ]
    }
   ],
   "source": [
    "f = open(\"demofile2.txt\", \"a\")\n",
    "f.write(\"Now the file has more content!\")\n",
    "f.close()\n",
    "\n",
    "#open and read the file after the appending:\n",
    "f = open(\"demofile2.txt\", \"r\")\n",
    "print(f.read())"
   ],
   "metadata": {
    "collapsed": false,
    "ExecuteTime": {
     "end_time": "2024-04-13T06:02:20.742138Z",
     "start_time": "2024-04-13T06:02:20.730442Z"
    }
   },
   "id": "5c19a58df5aeff8a",
   "execution_count": 19
  },
  {
   "cell_type": "code",
   "outputs": [
    {
     "name": "stdout",
     "output_type": "stream",
     "text": [
      "Woops! I have deleted the content!\n"
     ]
    }
   ],
   "source": [
    "f = open(\"demofile3.txt\", \"w\")\n",
    "f.write(\"Woops! I have deleted the content!\")\n",
    "f.close()\n",
    "\n",
    "#open and read the file after the overwriting:\n",
    "f = open(\"demofile3.txt\", \"r\")\n",
    "print(f.read())"
   ],
   "metadata": {
    "collapsed": false,
    "ExecuteTime": {
     "end_time": "2024-04-13T06:03:46.644521Z",
     "start_time": "2024-04-13T06:03:46.623972Z"
    }
   },
   "id": "524c8708e7c150b6",
   "execution_count": 20
  },
  {
   "cell_type": "markdown",
   "source": [
    "# 2 File Handling Exceptions\n",
    "\n",
    "Saat menghandling suatu file bisa jadi kita menemui error bisa karena file tidak ada, bisa pula karena file corrupt dan sebagainya. namun kita bisa menggukanan fitur `try-except` untuk menghandlenya. dan kita bisa buat lebih simple dan readable dengan `with` statement\n",
    "\n",
    "<a href=\"https://www.geeksforgeeks.org/with-statement-in-python/\">source</a>\n"
   ],
   "metadata": {
    "collapsed": false
   },
   "id": "81e3ec1f72e2d5f8"
  },
  {
   "cell_type": "code",
   "outputs": [],
   "source": [
    "# file handling\n",
    " \n",
    "# 1) without using with statement\n",
    "file = open('file_path', 'w')\n",
    "file.write('hello world !')\n",
    "file.close()\n",
    " \n",
    "# 2) without using with statement\n",
    "file = open('file_path', 'w')\n",
    "try:\n",
    "    file.write('hello world')\n",
    "except:\n",
    "    print('An error occurred')\n",
    "finally:\n",
    "    file.close()"
   ],
   "metadata": {
    "collapsed": false,
    "ExecuteTime": {
     "end_time": "2024-04-13T06:09:41.804227Z",
     "start_time": "2024-04-13T06:09:41.788938Z"
    }
   },
   "id": "c74b08ff6c90959b",
   "execution_count": 25
  },
  {
   "cell_type": "code",
   "outputs": [],
   "source": [
    "# using with statement\n",
    "with open('file_path', 'w') as file:\n",
    "    file.write('hello world !')"
   ],
   "metadata": {
    "collapsed": false,
    "ExecuteTime": {
     "end_time": "2024-04-13T06:09:48.872464Z",
     "start_time": "2024-04-13T06:09:48.866724Z"
    }
   },
   "id": "cfb4cafcafa73379",
   "execution_count": 26
  },
  {
   "cell_type": "code",
   "outputs": [],
   "source": [],
   "metadata": {
    "collapsed": false
   },
   "id": "d2a6a2bb2f98bf2d"
  }
 ],
 "metadata": {
  "kernelspec": {
   "display_name": "Python 3",
   "language": "python",
   "name": "python3"
  },
  "language_info": {
   "codemirror_mode": {
    "name": "ipython",
    "version": 2
   },
   "file_extension": ".py",
   "mimetype": "text/x-python",
   "name": "python",
   "nbconvert_exporter": "python",
   "pygments_lexer": "ipython2",
   "version": "2.7.6"
  }
 },
 "nbformat": 4,
 "nbformat_minor": 5
}
