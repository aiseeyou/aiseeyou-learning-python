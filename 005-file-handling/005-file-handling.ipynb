{
 "cells": [
  {
   "cell_type": "markdown",
   "id": "8291817b53e073e3",
   "metadata": {
    "collapsed": false,
    "jupyter": {
     "outputs_hidden": false
    }
   },
   "source": [
    "# File Handling\n",
    "<center><img height=\"400\" src=\"../image/file-handling.png\" width=\"600\"/></center>\n",
    "\n",
    "File handling adalah bagian penting dalam pemograman web. File Handling pada python memiliki beberapa fungsi creating, reading, updating, dan deleting files.\n",
    "\n",
    "Fungsi kunci dalam python untuk bekerja dengan file adalah **open()** function yang merupakan fungsi bawaan pada python (built-in)\n",
    "\n",
    "<a href=\"https://www.w3schools.com/python/python_file_handling.asp\">source</a>"
   ]
  },
  {
   "cell_type": "markdown",
   "id": "2a764f6dfe38c048",
   "metadata": {
    "collapsed": false,
    "jupyter": {
     "outputs_hidden": false
    }
   },
   "source": [
    "## 1.1 Membuka File (Open)\n",
    "\n",
    "**open()** memiliki 2 parameter filename, dan mode. terdapat 4 mode berbeda dalam membuka file:\n",
    "\n",
    "1. \"r\" - Read - Default value. Opens a file for reading, error if the file does not exist\n",
    "\n",
    "2. \"a\" - Append - Opens a file for appending, creates the file if it does not exist\n",
    "\n",
    "3. \"w\" - Write - Opens a file for writing, creates the file if it does not exist\n",
    "\n",
    "4. \"x\" - Create - Creates the specified file, returns an error if the file exists\n",
    "\n",
    "tambahannya kita bisa tambahkan karakter tertentu untuk menghandle file secara text/binary mode:\n",
    "\n",
    "1. \"t\" - Text - Default value. Text mode\n",
    "\n",
    "2. \"b\" - Binary - Binary mode (e.g. images)"
   ]
  },
  {
   "cell_type": "code",
   "execution_count": 10,
   "id": "435ec0cada930dd6",
   "metadata": {
    "ExecuteTime": {
     "end_time": "2024-05-21T07:09:52.484570Z",
     "start_time": "2024-05-21T07:09:52.479886Z"
    },
    "collapsed": false,
    "jupyter": {
     "outputs_hidden": false
    }
   },
   "outputs": [],
   "source": [
    "f = open(\"demofile.txt\")"
   ]
  },
  {
   "cell_type": "code",
   "execution_count": 11,
   "id": "4bd9368d664b815",
   "metadata": {
    "ExecuteTime": {
     "end_time": "2024-05-21T07:09:52.809842Z",
     "start_time": "2024-05-21T07:09:52.793370Z"
    },
    "collapsed": false,
    "jupyter": {
     "outputs_hidden": false
    }
   },
   "outputs": [],
   "source": [
    "f2 = open(\"demofile.txt\", \"rt\")"
   ]
  },
  {
   "cell_type": "markdown",
   "id": "cef94fbeae34789f",
   "metadata": {
    "collapsed": false,
    "jupyter": {
     "outputs_hidden": false
    }
   },
   "source": [
    "objek f dan f2 adalah sama karena \"r\" artinya read sedangkan \"t\" untuk text dan itu semua adalah nilai default pada fungsi **open** sehinnga tidak perlu mendeklarasikannya."
   ]
  },
  {
   "cell_type": "code",
   "execution_count": 12,
   "id": "ecf45dc2f0920952",
   "metadata": {
    "ExecuteTime": {
     "end_time": "2024-05-21T07:09:54.020758Z",
     "start_time": "2024-05-21T07:09:54.006705Z"
    },
    "collapsed": false,
    "jupyter": {
     "outputs_hidden": false
    }
   },
   "outputs": [
    {
     "name": "stdout",
     "output_type": "stream",
     "text": [
      "<_io.TextIOWrapper name='demofile.txt' mode='r' encoding='cp1252'> <_io.TextIOWrapper name='demofile.txt' mode='rt' encoding='cp1252'>\n"
     ]
    }
   ],
   "source": [
    "print(f, f2)"
   ]
  },
  {
   "cell_type": "markdown",
   "id": "6b7d8f753dae72d8",
   "metadata": {
    "collapsed": false,
    "jupyter": {
     "outputs_hidden": false
    }
   },
   "source": [
    "## 1.2 Membaca File (Read)\n",
    "\n",
    "silahkan buat free text dialam file demofile.txt dan ditaroh sejejar dengan file ipnyb ini dibuat. fungsi **open()** akan menghasilkan objek file handling dan untuk membacanya kita bisa memanggil fungsi **read()** pada objek tersebut"
   ]
  },
  {
   "cell_type": "code",
   "execution_count": 13,
   "id": "7cd2574e61d48e9d",
   "metadata": {
    "ExecuteTime": {
     "end_time": "2024-05-21T07:10:25.359873Z",
     "start_time": "2024-05-21T07:10:25.352867Z"
    },
    "collapsed": false,
    "jupyter": {
     "outputs_hidden": false
    }
   },
   "outputs": [
    {
     "name": "stdout",
     "output_type": "stream",
     "text": [
      "LINES-1\n",
      "LINES-2\n",
      "LINES-3\n",
      "LINES-4\n",
      "\n",
      "\n"
     ]
    }
   ],
   "source": [
    "f = open(\"demofile.txt\")\n",
    "string = f.read()\n",
    "print(string)"
   ]
  },
  {
   "cell_type": "markdown",
   "id": "c14e3343b803c7b5",
   "metadata": {
    "collapsed": false,
    "jupyter": {
     "outputs_hidden": false
    }
   },
   "source": [
    "### 1.2.1 Read Only Parts\n"
   ]
  },
  {
   "cell_type": "code",
   "execution_count": 16,
   "id": "48547b01b24cba2c",
   "metadata": {
    "ExecuteTime": {
     "end_time": "2024-05-21T07:12:12.318476Z",
     "start_time": "2024-05-21T07:12:12.312200Z"
    },
    "collapsed": false,
    "jupyter": {
     "outputs_hidden": false
    }
   },
   "outputs": [
    {
     "name": "stdout",
     "output_type": "stream",
     "text": [
      "LINES\n"
     ]
    }
   ],
   "source": [
    "f = open(\"demofile.txt\", \"r\")\n",
    "print(f.read(5)) #read only 5 character"
   ]
  },
  {
   "cell_type": "markdown",
   "id": "e2fd998a900019ae",
   "metadata": {
    "collapsed": false,
    "jupyter": {
     "outputs_hidden": false
    }
   },
   "source": [
    "### 1.2.2 Read Lines\n"
   ]
  },
  {
   "cell_type": "code",
   "execution_count": 28,
   "id": "6ba59f92e73cd9c7",
   "metadata": {
    "ExecuteTime": {
     "end_time": "2024-05-21T07:13:33.872855Z",
     "start_time": "2024-05-21T07:13:33.858307Z"
    },
    "collapsed": false,
    "jupyter": {
     "outputs_hidden": false
    }
   },
   "outputs": [
    {
     "name": "stdout",
     "output_type": "stream",
     "text": [
      "LINES-1\n",
      "\n",
      "LINES-2\n",
      "\n"
     ]
    }
   ],
   "source": [
    "f = open(\"demofile.txt\", \"r\")\n",
    "print(f.readline()) # read first line\n",
    "print(f.readline()) # read next line"
   ]
  },
  {
   "cell_type": "code",
   "execution_count": 29,
   "id": "dc689153cecb2aeb",
   "metadata": {
    "ExecuteTime": {
     "end_time": "2024-05-21T07:13:37.960663Z",
     "start_time": "2024-05-21T07:13:37.954211Z"
    }
   },
   "outputs": [
    {
     "name": "stdout",
     "output_type": "stream",
     "text": [
      "['LINES-3\\n', 'LINES-4\\n', '\\n']\n"
     ]
    }
   ],
   "source": [
    "print(f.readlines())"
   ]
  },
  {
   "cell_type": "code",
   "execution_count": 31,
   "id": "173387eea73222cd",
   "metadata": {
    "ExecuteTime": {
     "end_time": "2024-05-21T07:14:11.454233Z",
     "start_time": "2024-05-21T07:14:11.448158Z"
    }
   },
   "outputs": [
    {
     "name": "stdout",
     "output_type": "stream",
     "text": [
      "LINES-3\n",
      "\n"
     ]
    }
   ],
   "source": [
    "f = open(\"demofile.txt\", \"r\")\n",
    "a = f.readlines()\n",
    "print(a[2])"
   ]
  },
  {
   "cell_type": "markdown",
   "id": "de4c4a21ae35b7ed",
   "metadata": {
    "collapsed": false,
    "jupyter": {
     "outputs_hidden": false
    }
   },
   "source": [
    "kita bisa menggunakan looping untuk membaca tiap line pada file"
   ]
  },
  {
   "cell_type": "code",
   "execution_count": 34,
   "id": "7ec8a866a5b8a644",
   "metadata": {
    "ExecuteTime": {
     "end_time": "2024-05-21T07:16:54.338608Z",
     "start_time": "2024-05-21T07:16:54.318617Z"
    },
    "collapsed": false,
    "jupyter": {
     "outputs_hidden": false
    }
   },
   "outputs": [
    {
     "name": "stdout",
     "output_type": "stream",
     "text": [
      "LINES-1\n",
      "cek\n",
      "LINES-2\n",
      "cek\n",
      "LINES-3\n",
      "cek\n",
      "LINES-4\n",
      "cek\n",
      "\n",
      "cek\n"
     ]
    }
   ],
   "source": [
    "f = open(\"demofile.txt\", \"r\")\n",
    "for x in f:\n",
    "  print(x+\"cek\")"
   ]
  },
  {
   "cell_type": "markdown",
   "id": "3edc2075f71fe41f",
   "metadata": {
    "collapsed": false,
    "jupyter": {
     "outputs_hidden": false
    }
   },
   "source": [
    "setelah membuka dan membaca file baiknya ditutup setelah seluruh rangkaian program selesai (best-practice)"
   ]
  },
  {
   "cell_type": "code",
   "execution_count": 35,
   "id": "eaaf29a9dc843fa",
   "metadata": {
    "ExecuteTime": {
     "end_time": "2024-05-21T07:17:26.869837Z",
     "start_time": "2024-05-21T07:17:26.854560Z"
    },
    "collapsed": false,
    "jupyter": {
     "outputs_hidden": false
    }
   },
   "outputs": [
    {
     "name": "stdout",
     "output_type": "stream",
     "text": [
      "LINES-1\n",
      "\n"
     ]
    }
   ],
   "source": [
    "f = open(\"demofile.txt\", \"r\")\n",
    "print(f.readline())\n",
    "f.close()"
   ]
  },
  {
   "cell_type": "markdown",
   "id": "253ceec18f2d10b9",
   "metadata": {
    "collapsed": false,
    "jupyter": {
     "outputs_hidden": false
    }
   },
   "source": [
    "## 1.3 Write Existing Files\n",
    "To write to an existing file, you must add a parameter to the open() function:\n",
    "\n",
    "\"a\" - Append - will append to the end of the file\n",
    "\n",
    "\"w\" - Write - will overwrite any existing content"
   ]
  },
  {
   "cell_type": "code",
   "execution_count": 47,
   "id": "5c19a58df5aeff8a",
   "metadata": {
    "ExecuteTime": {
     "end_time": "2024-05-21T07:20:00.739809Z",
     "start_time": "2024-05-21T07:20:00.730580Z"
    },
    "collapsed": false,
    "jupyter": {
     "outputs_hidden": false
    }
   },
   "outputs": [
    {
     "name": "stdout",
     "output_type": "stream",
     "text": [
      "Now the file has more content!\n",
      "Now the file has more content!\n",
      "Now the file has more content!\n",
      "Now the file has more content!\n",
      "Now the file has more content!\n",
      "Now the file has more content!\n",
      "Now the file has more content!\n",
      "Now the file has more content!\n",
      "Now the file has more content!\n",
      "Now the file has more content!\n",
      "\n"
     ]
    }
   ],
   "source": [
    "f = open(\"demofile2.txt\", \"a\")\n",
    "f.write(\"Now the file has more content!\\n\")\n",
    "f.close()\n",
    "\n",
    "#open and read the file after the appending:\n",
    "f = open(\"demofile2.txt\", \"r\")\n",
    "print(f.read())"
   ]
  },
  {
   "cell_type": "code",
   "execution_count": 49,
   "id": "524c8708e7c150b6",
   "metadata": {
    "ExecuteTime": {
     "end_time": "2024-05-21T07:20:43.441552Z",
     "start_time": "2024-05-21T07:20:43.422942Z"
    },
    "collapsed": false,
    "jupyter": {
     "outputs_hidden": false
    }
   },
   "outputs": [
    {
     "name": "stdout",
     "output_type": "stream",
     "text": [
      "Woops! I have deleted the content!\n"
     ]
    }
   ],
   "source": [
    "f = open(\"demofile3.txt\", \"w\")\n",
    "f.write(\"Woops! I have deleted the content!\")\n",
    "f.close()\n",
    "\n",
    "#open and read the file after the overwriting:\n",
    "f = open(\"demofile3.txt\", \"r\")\n",
    "print(f.read())"
   ]
  },
  {
   "cell_type": "markdown",
   "id": "81e3ec1f72e2d5f8",
   "metadata": {
    "collapsed": false,
    "jupyter": {
     "outputs_hidden": false
    }
   },
   "source": [
    "# 2 File Handling Exceptions\n",
    "\n",
    "Saat menghandling suatu file bisa jadi kita menemui error bisa karena file tidak ada, bisa pula karena file corrupt dan sebagainya. namun kita bisa menggukanan fitur `try-except` untuk menghandlenya. dan kita bisa buat lebih simple dan readable dengan `with` statement\n",
    "\n",
    "<a href=\"https://www.geeksforgeeks.org/with-statement-in-python/\">source</a>\n"
   ]
  },
  {
   "cell_type": "code",
   "execution_count": 64,
   "id": "c74b08ff6c90959b",
   "metadata": {
    "ExecuteTime": {
     "end_time": "2024-05-21T07:26:11.235113Z",
     "start_time": "2024-05-21T07:26:11.226106Z"
    },
    "collapsed": false,
    "jupyter": {
     "outputs_hidden": false
    }
   },
   "outputs": [
    {
     "name": "stdout",
     "output_type": "stream",
     "text": [
      "An error occurred\n"
     ]
    }
   ],
   "source": [
    "# file handling\n",
    " \n",
    "# 1) without using with statement\n",
    "file = open('file_path', 'w')\n",
    "file.write('hello world !')\n",
    "file.close()\n",
    " \n",
    "# 2) without using with statement\n",
    "file = open('file_path', 'w')\n",
    "try:\n",
    "    file.write('hello world')\n",
    "except:\n",
    "    print('An error occurred')\n",
    "finally:\n",
    "    file.close()"
   ]
  },
  {
   "cell_type": "code",
   "execution_count": 65,
   "id": "cfb4cafcafa73379",
   "metadata": {
    "ExecuteTime": {
     "end_time": "2024-05-21T07:27:50.639143Z",
     "start_time": "2024-05-21T07:27:50.622804Z"
    },
    "collapsed": false,
    "jupyter": {
     "outputs_hidden": false
    }
   },
   "outputs": [],
   "source": [
    "# using with statement\n",
    "with open('file_path', 'w') as file:\n",
    "    file.write('hello world !')"
   ]
  },
  {
   "cell_type": "code",
   "execution_count": null,
   "id": "d2a6a2bb2f98bf2d",
   "metadata": {
    "collapsed": false,
    "jupyter": {
     "outputs_hidden": false
    }
   },
   "outputs": [],
   "source": []
  }
 ],
 "metadata": {
  "kernelspec": {
   "display_name": "Python 3 (ipykernel)",
   "language": "python",
   "name": "python3"
  },
  "language_info": {
   "codemirror_mode": {
    "name": "ipython",
    "version": 3
   },
   "file_extension": ".py",
   "mimetype": "text/x-python",
   "name": "python",
   "nbconvert_exporter": "python",
   "pygments_lexer": "ipython3",
   "version": "3.9.7"
  }
 },
 "nbformat": 4,
 "nbformat_minor": 5
}
