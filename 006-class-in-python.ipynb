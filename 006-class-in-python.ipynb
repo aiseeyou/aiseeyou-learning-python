{
 "cells": [
  {
   "metadata": {},
   "cell_type": "markdown",
   "source": [
    "# OOP (Object-Oriented Programming) with Python\n",
    "<center><img height=\"400\" src=\"image/oop.jpeg\" width=\"600\"/></center>\n",
    "\n",
    "## What is OOP?\n",
    "Object-oriented programming (OOP) adalah suatu teknik dalam pemograman system komputer dengan merepresentasikan data dan metode sebagai object. Teknik ini dilakukan untuk membuat code menjadi rapih dan mudah untuk digunakan kembali.\n",
    "Object yang dibuat memiliki 2 karakteristik yakni:\n",
    "1. Atributes    \n",
    "2. Behavior/Characteristics.\n",
    "\n",
    "contoh:\n",
    " jika kita membuat objek mobil. maka mobil ini memiliki atribut warna, tahun pembuatan dan bagaimana mesin dari mobil tersebut, serta mobil memiliki behavior atau karakteristik berupa suara /bunyi mesin, rem, serta tarikan awal (akselerasi).\n",
    " \n",
    "OOP didalam python mengikuti beberapa prinsip berupa:\n",
    "1. Class Object\n",
    "2. Method\n",
    "3. Inheritence \n",
    "4. Polymorphism\n",
    "5. Data Abtraction\n",
    "6. Encapsulation \n",
    "\n",
    "<a href=\"https://dev.to/titusnjuguna/simplified-object-oriented-programming-python-3l12\">source</a>"
   ],
   "id": "358009611412afb0"
  },
  {
   "metadata": {},
   "cell_type": "markdown",
   "source": [
    "## 1. CLass\n",
    "Class didalam python merupakan suatu objek kontruksi awal atau blueprint untuk membuat suatu objek dengan mendifinisikan atribut dan perilaku (behavior). Didalam python class didefinisikan dengan keywoard `class`.\n"
   ],
   "id": "ece9be801bd31fef"
  },
  {
   "metadata": {
    "ExecuteTime": {
     "end_time": "2024-04-16T06:39:55.192891Z",
     "start_time": "2024-04-16T06:39:55.185379Z"
    }
   },
   "cell_type": "code",
   "source": [
    "class Car:\n",
    "    # class attributes\n",
    "    Color=\"Read\"\n",
    "    YOM=2015\n",
    "    Model=\"Mazda\"\n",
    "pass"
   ],
   "id": "d0e89f64407f2890",
   "outputs": [],
   "execution_count": 2
  },
  {
   "metadata": {},
   "cell_type": "markdown",
   "source": "contoh diatas adalah bentuk paling sederhana dari sebuat object \"Car\" dimana dalam objek tersebut berisikan setiap atributnya. Selanjutnya kita akan membuat class menjadi objek yang dinamis agar berguna dalam pengaplikasian nyatanya. Supaya lebih paham kita buat class \"Dog\" dari gologan spesies Canis Lupus, untuk mendifinisikan sub-spesiesnya kita perlu mendefinisikan atribut lain seperti warna, berat, tinggi dan sebagainya.",
   "id": "31fc9507ee6647cb"
  },
  {
   "metadata": {
    "ExecuteTime": {
     "end_time": "2024-04-16T06:48:05.749735Z",
     "start_time": "2024-04-16T06:48:05.737830Z"
    }
   },
   "cell_type": "code",
   "source": [
    "class Dog:\n",
    "    species: \"Canis lupus\"\n",
    "    def __init__(self,color,weight,height):\n",
    "        self.color=color\n",
    "        self.weight=weight\n",
    "        self.height=height\n",
    "        "
   ],
   "id": "d38ee7c542cb5d26",
   "outputs": [],
   "execution_count": 3
  },
  {
   "metadata": {
    "ExecuteTime": {
     "end_time": "2024-04-16T06:48:29.139412Z",
     "start_time": "2024-04-16T06:48:29.125371Z"
    }
   },
   "cell_type": "code",
   "source": [
    "class Car:\n",
    "    def __init__(self,color,YOM,model):\n",
    "       self.color = color\n",
    "       self.YOM = YOM\n",
    "       self.model = model"
   ],
   "id": "a85c9489a65f010b",
   "outputs": [],
   "execution_count": 4
  },
  {
   "metadata": {},
   "cell_type": "markdown",
   "source": [
    "## 2. Objects\n",
    "Untuk mengakses setiap atribut pada class yang sudah didefinisikan, kita perlu membuat sebuah instance(event) diluar class nya."
   ],
   "id": "880feab160e32390"
  },
  {
   "metadata": {
    "ExecuteTime": {
     "end_time": "2024-04-16T06:50:01.295065Z",
     "start_time": "2024-04-16T06:50:01.287836Z"
    }
   },
   "cell_type": "code",
   "source": [
    "class Car:\n",
    "    def __init__(self,color,YOM,model):\n",
    "       self.color = color\n",
    "       self.YOM = YOM\n",
    "       self.model = model\n",
    "Car1 = Car('black','2024','Wuling')       \n",
    "print ( f'This is a {Car1.color},{Car1.model},manufactured in {Car1.YOM}')"
   ],
   "id": "e62d2f84a78b4c49",
   "outputs": [
    {
     "name": "stdout",
     "output_type": "stream",
     "text": [
      "This is a black,Wuling,manufactured in 2024\n"
     ]
    }
   ],
   "execution_count": 6
  },
  {
   "metadata": {},
   "cell_type": "markdown",
   "source": [
    "## 3. Methods\n",
    "\n",
    "Didalam pendefinisian sebuah class, suatu object memiliki dua properti yakni attributes dan behavior. Secara sederhana `Methods` adalah cara dalam mendefinisikan behavior suatu object."
   ],
   "id": "8d77633f94ac1636"
  },
  {
   "metadata": {
    "ExecuteTime": {
     "end_time": "2024-04-16T06:56:43.039353Z",
     "start_time": "2024-04-16T06:56:43.030818Z"
    }
   },
   "cell_type": "code",
   "source": [
    "class Car:\n",
    "    def __init__(self,color,YOM,model):\n",
    "       self.color = color\n",
    "       self.YOM = YOM\n",
    "       self.model = model\n",
    "    #method\n",
    "    def hoot(self):\n",
    "       return('Pipippipi')"
   ],
   "id": "44cd1b3d2f06dbdc",
   "outputs": [],
   "execution_count": 8
  },
  {
   "metadata": {
    "ExecuteTime": {
     "end_time": "2024-04-16T06:56:50.944864Z",
     "start_time": "2024-04-16T06:56:50.935300Z"
    }
   },
   "cell_type": "code",
   "source": [
    "Car3 = Car('Blue','2018','Mazda')\n",
    "Car3.hoot()\n",
    "print(f'The {Car3.color},{Car3.YOM},{Car3.model} is hooting {Car3.hoot()}')"
   ],
   "id": "63f2eaf92527ead",
   "outputs": [
    {
     "name": "stdout",
     "output_type": "stream",
     "text": [
      "The Blue,2018,Mazda is hooting Pipippipi\n"
     ]
    }
   ],
   "execution_count": 9
  },
  {
   "metadata": {},
   "cell_type": "markdown",
   "source": [
    "Methods dapat dikelompokan menjadi 3 jenis yakni:\n",
    "1. Instance Method\n",
    "2. Class Method\n",
    "3. Static Method\n"
   ],
   "id": "1809f1fff3ce542e"
  },
  {
   "metadata": {},
   "cell_type": "markdown",
   "source": [
    "### 3.1 Instance Method\n",
    " Method paling umum yang biasa digunakan dalam class adalah Instance Method dimana method ini memilki 1 param default `self`. Tujuan dari penggunaan instance method adalah untuk merubah atau mendapatkan detail dari sebuah instance (Object)"
   ],
   "id": "fb92e608e81945c"
  },
  {
   "metadata": {
    "ExecuteTime": {
     "end_time": "2024-04-16T06:59:59.702801Z",
     "start_time": "2024-04-16T06:59:59.696231Z"
    }
   },
   "cell_type": "code",
   "source": [
    "class Car:\n",
    "   def instance_method(self):\n",
    "       return(\"This is an instance method\")"
   ],
   "id": "cbcca28fa80438e2",
   "outputs": [],
   "execution_count": 11
  },
  {
   "metadata": {
    "ExecuteTime": {
     "end_time": "2024-04-16T07:06:47.242348Z",
     "start_time": "2024-04-16T07:06:47.237750Z"
    }
   },
   "cell_type": "code",
   "source": [
    "#Example 2 with extra parameter\n",
    "class Car:\n",
    "    init_param = 10\n",
    "    def instance_method(self,b):\n",
    "       return f'this is instance method b={b}. init param {self.init_param}'"
   ],
   "id": "adf51a9e37b003b4",
   "outputs": [],
   "execution_count": 34
  },
  {
   "metadata": {
    "ExecuteTime": {
     "end_time": "2024-04-16T07:07:22.056358Z",
     "start_time": "2024-04-16T07:07:22.044506Z"
    }
   },
   "cell_type": "code",
   "source": [
    "car = Car()\n",
    "car.instance_method(\"init\")"
   ],
   "id": "99b7bfaee267905e",
   "outputs": [
    {
     "data": {
      "text/plain": [
       "'this is instance method b=init. init param 10'"
      ]
     },
     "execution_count": 37,
     "metadata": {},
     "output_type": "execute_result"
    }
   ],
   "execution_count": 37
  },
  {
   "metadata": {},
   "cell_type": "markdown",
   "source": [
    "### 3.2 Class Method\n",
    "Ketika mendefinisikan sebuah class method ,kita bisa menggunakan decorator pada method tersebut @classmethods, metode ini memiliki 1 buah parameter default yaitu `cls`"
   ],
   "id": "d86b4114f2b3c71b"
  },
  {
   "metadata": {
    "ExecuteTime": {
     "end_time": "2024-04-16T07:03:54.354287Z",
     "start_time": "2024-04-16T07:03:54.348946Z"
    }
   },
   "cell_type": "code",
   "source": [
    "class Car:\n",
    "    @classmethod\n",
    "    def class_method(cls):\n",
    "        return \"This is a class method: \"+str(cls)"
   ],
   "id": "d6c2406c45cf04a6",
   "outputs": [],
   "execution_count": 28
  },
  {
   "metadata": {
    "ExecuteTime": {
     "end_time": "2024-04-16T07:03:55.554508Z",
     "start_time": "2024-04-16T07:03:55.544234Z"
    }
   },
   "cell_type": "code",
   "source": [
    "obj1 = Car()\n",
    "obj1.class_method()"
   ],
   "id": "4df1af1d1b37976",
   "outputs": [
    {
     "data": {
      "text/plain": [
       "\"This is a class method: <class '__main__.Car'>\""
      ]
     },
     "execution_count": 29,
     "metadata": {},
     "output_type": "execute_result"
    }
   ],
   "execution_count": 29
  },
  {
   "metadata": {
    "ExecuteTime": {
     "end_time": "2024-04-16T07:04:02.007277Z",
     "start_time": "2024-04-16T07:04:01.999834Z"
    }
   },
   "cell_type": "code",
   "source": "Car.class_method()",
   "id": "3faf6fd23970b1d0",
   "outputs": [
    {
     "data": {
      "text/plain": [
       "\"This is a class method: <class '__main__.Car'>\""
      ]
     },
     "execution_count": 30,
     "metadata": {},
     "output_type": "execute_result"
    }
   ],
   "execution_count": 30
  },
  {
   "metadata": {},
   "cell_type": "markdown",
   "source": [
    "### 3.3 Static Method\n",
    "\n",
    "Static method adalah method yang memungkin kan kita mengakses nya tanpa perlu mengakses data yang ada pada class yang dinaunginya, karena static method independent dan tidak bergantung pada atribut apapun pada classnya. Untuk membuat static method kita bisa menggunakan decorator `@staticmethod`\n"
   ],
   "id": "62b1d04175d77a79"
  },
  {
   "metadata": {
    "ExecuteTime": {
     "end_time": "2024-04-16T07:05:41.108933Z",
     "start_time": "2024-04-16T07:05:41.092435Z"
    }
   },
   "cell_type": "code",
   "source": [
    "class Car:\n",
    "  @staticmethod\n",
    "  def static_method():\n",
    "    return \"This is a static method.\""
   ],
   "id": "16d9c358f432577c",
   "outputs": [],
   "execution_count": 32
  },
  {
   "metadata": {
    "ExecuteTime": {
     "end_time": "2024-04-16T07:05:46.874973Z",
     "start_time": "2024-04-16T07:05:46.857626Z"
    }
   },
   "cell_type": "code",
   "source": "Car.static_method()",
   "id": "a52aa875cf17dc3",
   "outputs": [
    {
     "data": {
      "text/plain": [
       "'This is a static method.'"
      ]
     },
     "execution_count": 33,
     "metadata": {},
     "output_type": "execute_result"
    }
   ],
   "execution_count": 33
  },
  {
   "metadata": {},
   "cell_type": "markdown",
   "source": [
    "## 4. Inheritance\n",
    "\n",
    "Inheritance (Menurunkan) didalam OOP erat kaitannya dengan child class dan parent class. dimana chil class mewarisi sebagian atau seluruh atribut yang ada pada parent classnya."
   ],
   "id": "f06f6aac4cf21608"
  },
  {
   "metadata": {
    "ExecuteTime": {
     "end_time": "2024-04-16T08:11:38.766586Z",
     "start_time": "2024-04-16T08:11:38.737743Z"
    }
   },
   "cell_type": "code",
   "source": [
    "# Partial Inheritance\n",
    "#Parent Class\n",
    "class Person:\n",
    "  def __init__(self, fname, lname):\n",
    "    self.firstname = fname\n",
    "    self.lastname = lname\n",
    "  #method\n",
    "  def printname(self):\n",
    "    print(self.firstname, self.lastname)\n",
    "      \n",
    "#child class\n",
    "class Student(Person):\n",
    "  def __init__(self, fname, lname):\n",
    "    Person.__init__(self, fname, lname) "
   ],
   "id": "2a1d8ed0705d15d0",
   "outputs": [],
   "execution_count": 38
  },
  {
   "metadata": {
    "ExecuteTime": {
     "end_time": "2024-04-16T08:12:11.540719Z",
     "start_time": "2024-04-16T08:12:11.530382Z"
    }
   },
   "cell_type": "code",
   "source": [
    "# Full Inheritance\n",
    "class Person:\n",
    "  def __init__(self, fname, lname):\n",
    "    self.firstname = fname\n",
    "    self.lastname = lname\n",
    "  #method\n",
    "  def printname(self):\n",
    "    print(self.firstname, self.lastname)\n",
    "\n",
    "class Student(Person):\n",
    "  def __init__(self, fname, lname):\n",
    "    super().__init__(fname, lname)\n",
    "    self.graduationyear = 2019"
   ],
   "id": "51add5a54d9ff696",
   "outputs": [],
   "execution_count": 39
  },
  {
   "metadata": {},
   "cell_type": "markdown",
   "source": [
    "## 5. Polymorphism\n",
    "Kata \"Polymorphism\" berarti \"Banyak Bentuk\" didalam pemograman mereferensikan suatu method/fungsi/operator dengan nama yang sama dapat di ekseskusi dalam banyak objek atau class <a href=\"https://www.w3schools.com/python/python_polymorphism.asp\">source</a>"
   ],
   "id": "4f88c39eb2d0d7bb"
  },
  {
   "metadata": {
    "ExecuteTime": {
     "end_time": "2024-04-16T08:48:28.732559Z",
     "start_time": "2024-04-16T08:48:28.713504Z"
    }
   },
   "cell_type": "code",
   "source": [
    "class Car:\n",
    "  def __init__(self, brand, model):\n",
    "    self.brand = brand\n",
    "    self.model = model\n",
    "\n",
    "  def move(self):\n",
    "    print(\"Drive!\")\n",
    "\n",
    "class Boat:\n",
    "  def __init__(self, brand, model):\n",
    "    self.brand = brand\n",
    "    self.model = model\n",
    "\n",
    "  def move(self):\n",
    "    print(\"Sail!\")\n",
    "\n",
    "class Plane:\n",
    "  def __init__(self, brand, model):\n",
    "    self.brand = brand\n",
    "    self.model = model\n",
    "\n",
    "  def move(self):\n",
    "    print(\"Fly!\")\n",
    "\n",
    "car1 = Car(\"Ford\", \"Mustang\")       #Create a Car class\n",
    "boat1 = Boat(\"Ibiza\", \"Touring 20\") #Create a Boat class\n",
    "plane1 = Plane(\"Boeing\", \"747\")     #Create a Plane class\n",
    "\n",
    "for x in (car1, boat1, plane1):\n",
    "  x.move()"
   ],
   "id": "d66f3e0530d33ad3",
   "outputs": [
    {
     "name": "stdout",
     "output_type": "stream",
     "text": [
      "Drive!\n",
      "Sail!\n",
      "Fly!\n"
     ]
    }
   ],
   "execution_count": 40
  },
  {
   "metadata": {},
   "cell_type": "markdown",
   "source": "Lihat pada akhir pengulangan (Loop). Karena Polymorphism kita bisa mengeksekusi method yang sama di pada seluruh ketiga class yang ada.",
   "id": "2d021755aa85174a"
  },
  {
   "metadata": {},
   "cell_type": "markdown",
   "source": [
    "## 6. Data Abstraction\n",
    "\n",
    "Abstract class bisa dibilang sebagai sebuah blueprint untuk class yang lain. hal ini memungkinkan kita untuk mebuat setiap method pada child class yang dibangung dengan method yang didefinisikan pada abstract class.\n",
    "\n",
    "Sebuah class yan berisi 1 atau lebih abstract methods disebut abstract class. Sebuah abstract method hanya didefinisikan namun tidak memiliki implementasi.\n",
    "\n",
    "Kita menggunakan abstract class saat kita mendesain unit funsi yang besar atau kita ingin menyediakan interface yang umum untuk implementasi yang berbeda pada sebuah komponen.\n",
    "\n",
    "<a href=\"https://www.geeksforgeeks.org/abstract-classes-in-python/\">source</a>\n",
    "\n",
    "Secara default python tidak menyediakan abtract class. Python memiliki module built in yaitu ABC (Abstract Base Classes). \n",
    "\n",
    "ABC bekerja sebagai decorating methods dari basis sebuah abstract class. Method abstract yang dimaksud dengan keyword @abstractmethod\n"
   ],
   "id": "684579936484f232"
  },
  {
   "metadata": {
    "ExecuteTime": {
     "end_time": "2024-04-16T08:58:34.989966Z",
     "start_time": "2024-04-16T08:58:34.970961Z"
    }
   },
   "cell_type": "code",
   "source": [
    "# Python program showing\n",
    "# abstract base class work\n",
    "from abc import ABC, abstractmethod\n",
    "\n",
    "\n",
    "class Polygon(ABC):\n",
    "\n",
    "    @abstractmethod\n",
    "    def noofsides(self):\n",
    "        pass\n",
    "\n",
    "\n",
    "class Triangle(Polygon):\n",
    "\n",
    "    # overriding abstract method\n",
    "    def noofsides(self):\n",
    "        print(\"I have 3 sides\")\n",
    "\n",
    "\n",
    "class Pentagon(Polygon):\n",
    "\n",
    "    # overriding abstract method\n",
    "    def noofsides(self):\n",
    "        print(\"I have 5 sides\")\n",
    "\n",
    "\n",
    "class Hexagon(Polygon):\n",
    "\n",
    "    # overriding abstract method\n",
    "    def noofsides(self):\n",
    "        print(\"I have 6 sides\")\n",
    "\n",
    "\n",
    "class Quadrilateral(Polygon):\n",
    "\n",
    "    # overriding abstract method\n",
    "    def noofsides(self):\n",
    "        print(\"I have 4 sides\")\n",
    "\n",
    "\n",
    "# Driver code\n",
    "R = Triangle()\n",
    "R.noofsides()\n",
    "\n",
    "K = Quadrilateral()\n",
    "K.noofsides()\n",
    "\n",
    "R = Pentagon()\n",
    "R.noofsides()\n",
    "\n",
    "K = Hexagon()\n",
    "K.noofsides()"
   ],
   "id": "33d91eb170817669",
   "outputs": [
    {
     "name": "stdout",
     "output_type": "stream",
     "text": [
      "I have 3 sides\n",
      "I have 4 sides\n",
      "I have 5 sides\n",
      "I have 6 sides\n"
     ]
    }
   ],
   "execution_count": 41
  },
  {
   "metadata": {},
   "cell_type": "code",
   "outputs": [],
   "execution_count": null,
   "source": "",
   "id": "e4c2e56f1779161b"
  }
 ],
 "metadata": {
  "kernelspec": {
   "display_name": "Python 3",
   "language": "python",
   "name": "python3"
  },
  "language_info": {
   "codemirror_mode": {
    "name": "ipython",
    "version": 2
   },
   "file_extension": ".py",
   "mimetype": "text/x-python",
   "name": "python",
   "nbconvert_exporter": "python",
   "pygments_lexer": "ipython2",
   "version": "2.7.6"
  }
 },
 "nbformat": 4,
 "nbformat_minor": 5
}
